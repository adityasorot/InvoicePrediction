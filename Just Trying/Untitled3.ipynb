{
 "cells": [
  {
   "cell_type": "code",
   "execution_count": 618,
   "id": "fixed-pleasure",
   "metadata": {},
   "outputs": [],
   "source": [
    "import pandas as pd\n",
    "import numpy as np\n",
    "import seaborn as sns\n",
    "from sklearn.model_selection import train_test_split\n",
    "from sklearn.feature_selection import VarianceThreshold\n",
    "from sklearn.preprocessing import OrdinalEncoder\n",
    "from sklearn.preprocessing import OneHotEncoder\n",
    "from sklearn.metrics import mean_absolute_error\n",
    "from sklearn.ensemble import IsolationForest\n",
    "from sklearn.covariance import EllipticEnvelope\n",
    "from sklearn.linear_model import LinearRegression\n",
    "from sklearn.svm import SVR\n",
    "from sklearn.tree import DecisionTreeRegressor\n",
    "from sklearn.ensemble import RandomForestRegressor\n",
    "# import xgboost as xgb\n",
    "from sklearn.datasets import load_boston\n",
    "from sklearn.metrics import mean_squared_error\n",
    "from sklearn.metrics import r2_score\n",
    "from sklearn.preprocessing import StandardScaler\n",
    "from sklearn.linear_model import LogisticRegression\n",
    "from sklearn.svm import SVC\n",
    "from sklearn.neighbors import KNeighborsClassifier\n",
    "from sklearn.tree import DecisionTreeClassifier\n",
    "from sklearn.ensemble import RandomForestClassifier\n",
    "# from xgboost import XGBClassifier\n",
    "from sklearn.metrics import classification_report, confusion_matrix\n",
    "from sklearn import preprocessing"
   ]
  },
  {
   "cell_type": "code",
   "execution_count": 619,
   "id": "buried-hollow",
   "metadata": {},
   "outputs": [],
   "source": [
    "data = pd.read_csv('1830151.csv')"
   ]
  },
  {
   "cell_type": "code",
   "execution_count": 620,
   "id": "acquired-arizona",
   "metadata": {},
   "outputs": [],
   "source": [
    "df=data.copy()"
   ]
  },
  {
   "cell_type": "code",
   "execution_count": 621,
   "id": "artificial-colors",
   "metadata": {},
   "outputs": [],
   "source": [
    "def con_date_time(df):\n",
    "    df['clear_date']=pd.to_datetime(df['clear_date'])\n",
    "    df['posting_date']=pd.to_datetime(df['posting_date'])\n",
    "    df['due_in_date']=pd.to_datetime(df['due_in_date'],format='%Y%m%d', errors='ignore')\n",
    "    df['document_create_date']=pd.to_datetime(df['document_create_date'],format='%Y%m%d', errors='ignore')\n",
    "    df['document_create_date.1']=pd.to_datetime(df['document_create_date.1'],format='%Y%m%d', errors='ignore')\n",
    "    df['baseline_create_date']=pd.to_datetime(df['baseline_create_date'], format='%Y%m%d', errors='ignore')\n",
    "    df['buisness_year']=df['buisness_year'].astype(int)\n",
    "    return None"
   ]
  },
  {
   "cell_type": "code",
   "execution_count": 622,
   "id": "distinguished-conversation",
   "metadata": {},
   "outputs": [],
   "source": [
    "con_date_time(df)"
   ]
  },
  {
   "cell_type": "code",
   "execution_count": 623,
   "id": "liked-modeling",
   "metadata": {},
   "outputs": [],
   "source": [
    "df.drop(['document_create_date'],axis=1,inplace=True)\n",
    "df=df.sort_values(by='document_create_date.1',ignore_index=True)\n",
    "df=df.rename(columns={'document_create_date.1':'document_create_date'})"
   ]
  },
  {
   "cell_type": "code",
   "execution_count": 624,
   "id": "interim-front",
   "metadata": {},
   "outputs": [],
   "source": [
    "data_train=df.loc[data['clear_date'].notna()]\n",
    "data_train=data_train.reset_index(drop=True)\n",
    "data_null_cleardate=df.loc[data['clear_date'].isna()]\n",
    "data_null_cleardate=data_null_cleardate.reset_index(drop=True)"
   ]
  },
  {
   "cell_type": "code",
   "execution_count": 625,
   "id": "coordinate-demand",
   "metadata": {},
   "outputs": [],
   "source": [
    "df=data_train\n",
    "df=(df.loc[df['document_create_date']<=df['posting_date']].loc[df['posting_date']<=df['due_in_date']].loc[df['baseline_create_date']<=df['due_in_date']].loc[df['baseline_create_date']<=df['clear_date']])"
   ]
  },
  {
   "cell_type": "code",
   "execution_count": 626,
   "id": "spoken-tongue",
   "metadata": {},
   "outputs": [],
   "source": [
    "df['due_duration']=(df['clear_date']-df['due_in_date']).dt.days\n",
    "df = df.loc[df['due_duration']<10]"
   ]
  },
  {
   "cell_type": "code",
   "execution_count": 627,
   "id": "numerous-dividend",
   "metadata": {},
   "outputs": [],
   "source": [
    "df=df.drop(['clear_date'],axis=1)"
   ]
  },
  {
   "cell_type": "markdown",
   "id": "aware-straight",
   "metadata": {},
   "source": [
    "Initial EDA"
   ]
  },
  {
   "cell_type": "code",
   "execution_count": 628,
   "id": "single-glucose",
   "metadata": {},
   "outputs": [
    {
     "name": "stdout",
     "output_type": "stream",
     "text": [
      "area_business\n"
     ]
    }
   ],
   "source": [
    "for i in df.columns:\n",
    "    if df[i].isna().any():\n",
    "        print(i)"
   ]
  },
  {
   "cell_type": "code",
   "execution_count": 629,
   "id": "adaptive-barbados",
   "metadata": {},
   "outputs": [],
   "source": [
    "df=df.drop(['area_business','isOpen'],axis=1)"
   ]
  },
  {
   "cell_type": "code",
   "execution_count": 630,
   "id": "japanese-democrat",
   "metadata": {},
   "outputs": [],
   "source": [
    "df['conv_amt']=df['total_open_amount'].copy()\n",
    "\n",
    "df.loc[df['invoice_currency']=='CAD','conv_amt']=df.loc[df['invoice_currency']=='CAD','conv_amt']*0.78"
   ]
  },
  {
   "cell_type": "code",
   "execution_count": 631,
   "id": "concrete-machinery",
   "metadata": {},
   "outputs": [],
   "source": [
    "df.drop(['invoice_currency'],axis=1,inplace=True)"
   ]
  },
  {
   "cell_type": "code",
   "execution_count": 632,
   "id": "immune-basics",
   "metadata": {},
   "outputs": [
    {
     "data": {
      "text/plain": [
       "((30286, 16), (12980, 16))"
      ]
     },
     "execution_count": 632,
     "metadata": {},
     "output_type": "execute_result"
    }
   ],
   "source": [
    "x_train, x_test_init = train_test_split(\n",
    "    df,\n",
    "    test_size=0.3,\n",
    "    shuffle=False)\n",
    "x_train.shape,  x_test_init.shape"
   ]
  },
  {
   "cell_type": "code",
   "execution_count": 633,
   "id": "honey-headline",
   "metadata": {},
   "outputs": [
    {
     "data": {
      "text/plain": [
       "((6490, 16), (6490, 16))"
      ]
     },
     "execution_count": 633,
     "metadata": {},
     "output_type": "execute_result"
    }
   ],
   "source": [
    "x_val, x_test = train_test_split(\n",
    "    x_test_init,\n",
    "    test_size=0.5,\n",
    "    shuffle=False)\n",
    "\n",
    "x_val.shape, x_test.shape"
   ]
  },
  {
   "cell_type": "code",
   "execution_count": 634,
   "id": "threaded-killing",
   "metadata": {},
   "outputs": [
    {
     "data": {
      "text/plain": [
       "Index(['business_code', 'cust_number', 'name_customer', 'buisness_year',\n",
       "       'doc_id', 'posting_date', 'document_create_date', 'due_in_date',\n",
       "       'document type', 'posting_id', 'total_open_amount',\n",
       "       'baseline_create_date', 'cust_payment_terms', 'invoice_id',\n",
       "       'due_duration', 'conv_amt'],\n",
       "      dtype='object')"
      ]
     },
     "execution_count": 634,
     "metadata": {},
     "output_type": "execute_result"
    }
   ],
   "source": [
    "x_test.columns"
   ]
  },
  {
   "cell_type": "code",
   "execution_count": 635,
   "id": "frank-reservation",
   "metadata": {},
   "outputs": [],
   "source": [
    "df=x_train.copy()\n",
    "mapper1=df.groupby('cust_number')['due_duration'].mean()\n",
    "mapper2=df.groupby('name_customer')['due_duration'].mean()\n"
   ]
  },
  {
   "cell_type": "code",
   "execution_count": null,
   "id": "numerous-centre",
   "metadata": {},
   "outputs": [],
   "source": []
  },
  {
   "cell_type": "code",
   "execution_count": 636,
   "id": "specialized-creativity",
   "metadata": {},
   "outputs": [],
   "source": [
    "# df"
   ]
  },
  {
   "cell_type": "code",
   "execution_count": 637,
   "id": "graduate-lender",
   "metadata": {},
   "outputs": [],
   "source": [
    "# mapper1"
   ]
  },
  {
   "cell_type": "code",
   "execution_count": 638,
   "id": "duplicate-sustainability",
   "metadata": {},
   "outputs": [],
   "source": [
    "df=x_train.copy()\n",
    "\n",
    "mapper1=df.groupby('cust_number')['due_duration'].mean()\n",
    "mapper2=df.groupby('name_customer')['due_duration'].mean()\n",
    "\n",
    "df['cust_delay_mean']=df['cust_number'].map(mapper1)\n",
    "df['cust_name_delay_mean']=df['name_customer'].map(mapper2)\n",
    "df['payment_time']=(df['due_in_date']-df['document_create_date']).dt.days\n",
    "\n",
    "#df.columns#.invoice_currency.value_counts()\n",
    "\n",
    "a=df\n",
    "code_business_code = {k: i for i, k in enumerate(a.business_code.unique(), 1)}\n",
    "code_cust_payment_terms = {k: i for i, k in enumerate(a.cust_payment_terms.unique(), 1)}\n",
    "code_cust_number = {k: i for i, k in enumerate(a.cust_number.unique(), 1)}\n",
    "code_name_customer = {k: i for i, k in enumerate(a.name_customer.unique(), 1)}\n",
    "\n",
    "def encoding(df_obj):\n",
    "    df_obj.loc[:, 'code_business_code'] = df_obj.loc[:, 'business_code'].map(code_business_code)\n",
    "    df_obj.loc[:, 'code_cust_payment_terms'] = df_obj.loc[:, 'cust_payment_terms'].map(code_cust_payment_terms)\n",
    "    df_obj.loc[:, 'code_cust_number'] = df_obj.loc[:, 'cust_number'].map(code_cust_number)\n",
    "    df_obj.loc[:, 'code_name_customer'] = df_obj.loc[:, 'name_customer'].map(code_name_customer)\n",
    "    return None\n",
    "\n",
    "def dates_feature(df_dates):\n",
    "    df_dates['posting_date_month'],df_dates['posting_date_day'],df_dates['posting_date_year'],df_dates['posting_date_quarter'],df_dates['posting_date_dayofweek'],df_dates['posting_date_week']=df_dates['posting_date'].dt.month,df_dates['posting_date'].dt.day,df_dates['posting_date'].dt.year,df_dates['posting_date'].dt.quarter,df_dates['posting_date'].dt.dayofweek,df_dates['posting_date'].dt.isocalendar().week.astype(int)\n",
    "    df_dates['due_in_date_month'],df_dates['due_in_date_day'],df_dates['due_in_date_year'],df_dates['due_in_date_quarter'],df_dates['due_in_date_dayofweek'],df_dates['due_in_date_week']=df_dates['due_in_date'].dt.month,df_dates['due_in_date'].dt.day,df_dates['due_in_date'].dt.year,df_dates['due_in_date'].dt.quarter,df_dates['due_in_date'].dt.dayofweek,df_dates['due_in_date'].dt.isocalendar().week.astype(int)\n",
    "    df_dates['document_create_date_month'],df_dates['document_create_date_day'],df_dates['document_create_date_year'],df_dates['document_create_date_quarter'],df_dates['document_create_date_dayofweek'],df_dates['document_create_date_week']=df_dates['document_create_date'].dt.month,df_dates['document_create_date'].dt.day,df_dates['document_create_date'].dt.year,df_dates['document_create_date'].dt.quarter,df_dates['document_create_date'].dt.dayofweek,df_dates['document_create_date'].dt.isocalendar().week.astype(int)\n",
    "    df_dates['baseline_create_date_month'],df_dates['baseline_create_date_day'],df_dates['baseline_create_date_year'],df_dates['baseline_create_date_quarter'],df_dates['baseline_create_date_dayofweek'],df_dates['baseline_create_date_week']=df_dates['baseline_create_date'].dt.month,df_dates['baseline_create_date'].dt.day,df_dates['baseline_create_date'].dt.year,df_dates['baseline_create_date'].dt.quarter,df_dates['baseline_create_date'].dt.dayofweek,df_dates['baseline_create_date'].dt.isocalendar().week.astype(int)\n",
    "    return None\n",
    "\n",
    "encoding(df)\n",
    "dates_feature(df)\n",
    "\n",
    "#df['document_create_date'].dt.day_name()\n",
    "df['document_create_is_working']=np.where(df.document_create_date_dayofweek.isin([5,6]),0,1)\n",
    "df['due_in_is_working']=np.where(df.due_in_date_dayofweek.isin([5,6]),0,1)"
   ]
  },
  {
   "cell_type": "code",
   "execution_count": 639,
   "id": "center-visiting",
   "metadata": {},
   "outputs": [],
   "source": [
    "# mapper1"
   ]
  },
  {
   "cell_type": "code",
   "execution_count": 640,
   "id": "agricultural-discharge",
   "metadata": {},
   "outputs": [],
   "source": [
    "drop=['posting_date','document_create_date','due_in_date','baseline_create_date','name_customer','cust_number','cust_payment_terms','business_code']"
   ]
  },
  {
   "cell_type": "code",
   "execution_count": 641,
   "id": "caring-winner",
   "metadata": {},
   "outputs": [],
   "source": [
    "# drop"
   ]
  },
  {
   "cell_type": "code",
   "execution_count": 642,
   "id": "union-visiting",
   "metadata": {},
   "outputs": [],
   "source": [
    "df=df.drop(drop,axis=1)"
   ]
  },
  {
   "cell_type": "code",
   "execution_count": 643,
   "id": "hazardous-mainstream",
   "metadata": {},
   "outputs": [],
   "source": [
    "modes = {}\n",
    "for i in df.columns:\n",
    "    modes[i]=df[i].mode()"
   ]
  },
  {
   "cell_type": "code",
   "execution_count": 644,
   "id": "romance-roman",
   "metadata": {},
   "outputs": [
    {
     "data": {
      "text/plain": [
       "41"
      ]
     },
     "execution_count": 644,
     "metadata": {},
     "output_type": "execute_result"
    }
   ],
   "source": [
    "df.columns.value_counts().sum()"
   ]
  },
  {
   "cell_type": "code",
   "execution_count": 645,
   "id": "outer-yesterday",
   "metadata": {},
   "outputs": [],
   "source": [
    "Xtr=df.copy()"
   ]
  },
  {
   "cell_type": "code",
   "execution_count": 646,
   "id": "color-lover",
   "metadata": {},
   "outputs": [],
   "source": [
    "q=x_val.copy()"
   ]
  },
  {
   "cell_type": "code",
   "execution_count": 647,
   "id": "protected-shareware",
   "metadata": {},
   "outputs": [],
   "source": [
    "# q.drop(['clear_date','invoice_currency'],axis=1,inplace=True)"
   ]
  },
  {
   "cell_type": "code",
   "execution_count": 648,
   "id": "bottom-frederick",
   "metadata": {},
   "outputs": [],
   "source": [
    "# q=q.drop(['area_business','isOpen'],axis=1)"
   ]
  },
  {
   "cell_type": "code",
   "execution_count": 649,
   "id": "opened-lincoln",
   "metadata": {},
   "outputs": [
    {
     "data": {
      "text/html": [
       "<div>\n",
       "<style scoped>\n",
       "    .dataframe tbody tr th:only-of-type {\n",
       "        vertical-align: middle;\n",
       "    }\n",
       "\n",
       "    .dataframe tbody tr th {\n",
       "        vertical-align: top;\n",
       "    }\n",
       "\n",
       "    .dataframe thead th {\n",
       "        text-align: right;\n",
       "    }\n",
       "</style>\n",
       "<table border=\"1\" class=\"dataframe\">\n",
       "  <thead>\n",
       "    <tr style=\"text-align: right;\">\n",
       "      <th></th>\n",
       "      <th>buisness_year</th>\n",
       "      <th>doc_id</th>\n",
       "      <th>document type</th>\n",
       "      <th>posting_id</th>\n",
       "      <th>total_open_amount</th>\n",
       "      <th>invoice_id</th>\n",
       "      <th>due_duration</th>\n",
       "      <th>conv_amt</th>\n",
       "      <th>cust_delay_mean</th>\n",
       "      <th>cust_name_delay_mean</th>\n",
       "      <th>...</th>\n",
       "      <th>document_create_date_dayofweek</th>\n",
       "      <th>document_create_date_week</th>\n",
       "      <th>baseline_create_date_month</th>\n",
       "      <th>baseline_create_date_day</th>\n",
       "      <th>baseline_create_date_year</th>\n",
       "      <th>baseline_create_date_quarter</th>\n",
       "      <th>baseline_create_date_dayofweek</th>\n",
       "      <th>baseline_create_date_week</th>\n",
       "      <th>document_create_is_working</th>\n",
       "      <th>due_in_is_working</th>\n",
       "    </tr>\n",
       "  </thead>\n",
       "  <tbody>\n",
       "    <tr>\n",
       "      <th>1</th>\n",
       "      <td>2019</td>\n",
       "      <td>1.928537e+09</td>\n",
       "      <td>RV</td>\n",
       "      <td>1.0</td>\n",
       "      <td>48419.67</td>\n",
       "      <td>1.928537e+09</td>\n",
       "      <td>0</td>\n",
       "      <td>48419.67</td>\n",
       "      <td>0.383178</td>\n",
       "      <td>1.142857</td>\n",
       "      <td>...</td>\n",
       "      <td>6</td>\n",
       "      <td>52</td>\n",
       "      <td>12</td>\n",
       "      <td>30</td>\n",
       "      <td>2018</td>\n",
       "      <td>4</td>\n",
       "      <td>6</td>\n",
       "      <td>52</td>\n",
       "      <td>0</td>\n",
       "      <td>1</td>\n",
       "    </tr>\n",
       "  </tbody>\n",
       "</table>\n",
       "<p>1 rows × 41 columns</p>\n",
       "</div>"
      ],
      "text/plain": [
       "   buisness_year        doc_id document type  posting_id  total_open_amount  \\\n",
       "1           2019  1.928537e+09            RV         1.0           48419.67   \n",
       "\n",
       "     invoice_id  due_duration  conv_amt  cust_delay_mean  \\\n",
       "1  1.928537e+09             0  48419.67         0.383178   \n",
       "\n",
       "   cust_name_delay_mean  ...  document_create_date_dayofweek  \\\n",
       "1              1.142857  ...                               6   \n",
       "\n",
       "   document_create_date_week  baseline_create_date_month  \\\n",
       "1                         52                          12   \n",
       "\n",
       "   baseline_create_date_day  baseline_create_date_year  \\\n",
       "1                        30                       2018   \n",
       "\n",
       "   baseline_create_date_quarter  baseline_create_date_dayofweek  \\\n",
       "1                             4                               6   \n",
       "\n",
       "   baseline_create_date_week  document_create_is_working  due_in_is_working  \n",
       "1                         52                           0                  1  \n",
       "\n",
       "[1 rows x 41 columns]"
      ]
     },
     "execution_count": 649,
     "metadata": {},
     "output_type": "execute_result"
    }
   ],
   "source": [
    "df.head(1)"
   ]
  },
  {
   "cell_type": "code",
   "execution_count": 650,
   "id": "appreciated-space",
   "metadata": {},
   "outputs": [],
   "source": [
    "drop.append('document type')"
   ]
  },
  {
   "cell_type": "code",
   "execution_count": 651,
   "id": "israeli-paradise",
   "metadata": {},
   "outputs": [],
   "source": [
    "drop.append('posting_id')"
   ]
  },
  {
   "cell_type": "code",
   "execution_count": 652,
   "id": "ambient-diameter",
   "metadata": {},
   "outputs": [],
   "source": [
    "# mapper1"
   ]
  },
  {
   "cell_type": "code",
   "execution_count": 653,
   "id": "ordered-princess",
   "metadata": {},
   "outputs": [
    {
     "data": {
      "text/plain": [
       "39"
      ]
     },
     "execution_count": 653,
     "metadata": {},
     "output_type": "execute_result"
    }
   ],
   "source": [
    "df=q\n",
    "df['cust_delay_mean']=df['cust_number'].map(mapper1)\n",
    "df['cust_name_delay_mean']=df['name_customer'].map(mapper2)\n",
    "df['payment_time']=(df['due_in_date']-df['document_create_date']).dt.days\n",
    "encoding(df)\n",
    "dates_feature(df)\n",
    "df['document_create_is_working']=np.where(df.document_create_date_dayofweek.isin([5,6]),0,1)\n",
    "df['due_in_is_working']=np.where(df.due_in_date_dayofweek.isin([5,6]),0,1)\n",
    "df=df.drop(drop,axis=1)\n",
    "df.columns.value_counts().sum()"
   ]
  },
  {
   "cell_type": "code",
   "execution_count": 654,
   "id": "painful-foundation",
   "metadata": {},
   "outputs": [],
   "source": [
    "# df"
   ]
  },
  {
   "cell_type": "code",
   "execution_count": 655,
   "id": "accepted-charity",
   "metadata": {},
   "outputs": [],
   "source": [
    "for i in df.columns:\n",
    "    if df[i].isna().any():\n",
    "        df[i].fillna(int(modes[i]),inplace=True)\n",
    "\n",
    "for i in df.columns:\n",
    "    if df[i].isna().any():\n",
    "        print(i)"
   ]
  },
  {
   "cell_type": "code",
   "execution_count": 656,
   "id": "developing-belfast",
   "metadata": {},
   "outputs": [],
   "source": [
    "Xval=df.copy()"
   ]
  },
  {
   "cell_type": "code",
   "execution_count": 657,
   "id": "precise-connecticut",
   "metadata": {},
   "outputs": [],
   "source": [
    "Xtr_bkp=Xtr.copy()\n",
    "Xval_bkp=Xval.copy()"
   ]
  },
  {
   "cell_type": "code",
   "execution_count": null,
   "id": "insured-universe",
   "metadata": {},
   "outputs": [],
   "source": []
  },
  {
   "cell_type": "code",
   "execution_count": null,
   "id": "three-hepatitis",
   "metadata": {},
   "outputs": [],
   "source": []
  },
  {
   "cell_type": "code",
   "execution_count": 658,
   "id": "heavy-shannon",
   "metadata": {},
   "outputs": [],
   "source": [
    "Xtr=Xtr_bkp.copy()\n",
    "Xval=Xval_bkp.copy()\n",
    "\n",
    "Ytr= Xtr['due_duration'].copy()\n",
    "Xtr.drop(['due_duration'],axis=1,inplace=True)\n",
    "\n",
    "Yval= Xval['due_duration'].copy()\n",
    "Xval.drop(['due_duration'],axis=1,inplace=True)"
   ]
  },
  {
   "cell_type": "code",
   "execution_count": 659,
   "id": "rough-frederick",
   "metadata": {},
   "outputs": [],
   "source": [
    "#list(zip(list(Xtr.columns),[1]*len(list(Xtr.columns))))"
   ]
  },
  {
   "cell_type": "code",
   "execution_count": 660,
   "id": "desperate-desperate",
   "metadata": {},
   "outputs": [],
   "source": [
    "feature_selection=[      ('buisness_year', 1),\n",
    "                         ('doc_id', 1),\n",
    "                         ('document type', 0),\n",
    "                         ('posting_id', 0),\n",
    "                         ('total_open_amount', 1),\n",
    "                         ('invoice_id', 1),\n",
    "                         ('conv_amt', 1),\n",
    "                         ('cust_delay_mean', 1),\n",
    "                         ('cust_name_delay_mean', 1),\n",
    "                         ('payment_time', 1),\n",
    "                         ('code_business_code', 1),\n",
    "                         ('code_cust_payment_terms', 1),\n",
    "                         ('code_cust_number', 1),\n",
    "                         ('code_name_customer', 1),\n",
    "                         ('posting_date_month', 1),\n",
    "                         ('posting_date_day', 1),\n",
    "                         ('posting_date_year', 1),\n",
    "                         ('posting_date_quarter', 1),\n",
    "                         ('posting_date_dayofweek', 1),\n",
    "                         ('posting_date_week', 1),\n",
    "                         ('due_in_date_month', 1),\n",
    "                         ('due_in_date_day', 1),\n",
    "                         ('due_in_date_year', 1),\n",
    "                         ('due_in_date_quarter', 1),\n",
    "                         ('due_in_date_dayofweek', 1),\n",
    "                         ('due_in_date_week', 1),\n",
    "                         ('document_create_date_month', 1),\n",
    "                         ('document_create_date_day', 1),\n",
    "                         ('document_create_date_year', 1),\n",
    "                         ('document_create_date_quarter', 1),\n",
    "                         ('document_create_date_dayofweek', 1),\n",
    "                         ('document_create_date_week', 1),\n",
    "                         ('baseline_create_date_month', 1),\n",
    "                         ('baseline_create_date_day', 1),\n",
    "                         ('baseline_create_date_year', 1),\n",
    "                         ('baseline_create_date_quarter', 1),\n",
    "                         ('baseline_create_date_dayofweek', 1),\n",
    "                         ('baseline_create_date_week', 1)]"
   ]
  },
  {
   "cell_type": "code",
   "execution_count": 661,
   "id": "theoretical-praise",
   "metadata": {},
   "outputs": [],
   "source": [
    "feature=[]\n",
    "for i in feature_selection:\n",
    "    if i[1]==1:\n",
    "        feature.append(i[0])"
   ]
  },
  {
   "cell_type": "code",
   "execution_count": 662,
   "id": "identical-magnet",
   "metadata": {},
   "outputs": [],
   "source": [
    "Xtr=Xtr[feature].copy()\n",
    "Xval=Xval[feature].copy()"
   ]
  },
  {
   "cell_type": "code",
   "execution_count": null,
   "id": "therapeutic-egyptian",
   "metadata": {},
   "outputs": [],
   "source": []
  },
  {
   "cell_type": "markdown",
   "id": "governing-carry",
   "metadata": {},
   "source": [
    "## Which model to select"
   ]
  },
  {
   "cell_type": "code",
   "execution_count": 663,
   "id": "inside-burning",
   "metadata": {
    "id": "uOBVogr9ZbGb"
   },
   "outputs": [],
   "source": [
    "# Defining Lists to Store in the Results and Names of Algorithms\r\n",
    "MSE_Score = []\r\n",
    "R2_Score = []\r\n",
    "Algorithm = []"
   ]
  },
  {
   "cell_type": "markdown",
   "id": "final-reception",
   "metadata": {
    "id": "vp1XxX-fWvDX"
   },
   "source": [
    "### **1. Linear Regression**"
   ]
  },
  {
   "cell_type": "code",
   "execution_count": 664,
   "id": "mechanical-apartment",
   "metadata": {},
   "outputs": [],
   "source": [
    "# Fitting Simple Linear Regression to the Training Set\n",
    "Algorithm.append('Linear Regression')\n",
    "clf = LinearRegression()\n",
    "clf.fit(Xtr, Ytr)\n",
    "\n",
    "# Predicting the Test Set Results\n",
    "predicted = clf.predict(Xval)"
   ]
  },
  {
   "cell_type": "code",
   "execution_count": 665,
   "id": "general-investing",
   "metadata": {},
   "outputs": [],
   "source": [
    "# Appending the Scores For Visualisation at a Later Part\n",
    "MSE_Score.append(mean_squared_error(Yval, predicted))\n",
    "R2_Score.append(r2_score(Yval, predicted))"
   ]
  },
  {
   "cell_type": "markdown",
   "id": "adjacent-friendship",
   "metadata": {
    "id": "ojQj8NWVIjau"
   },
   "source": [
    "### **2. Support Vector Regression**"
   ]
  },
  {
   "cell_type": "code",
   "execution_count": 666,
   "id": "indirect-forge",
   "metadata": {},
   "outputs": [
    {
     "ename": "KeyboardInterrupt",
     "evalue": "",
     "output_type": "error",
     "traceback": [
      "\u001b[1;31m---------------------------------------------------------------------------\u001b[0m",
      "\u001b[1;31mKeyboardInterrupt\u001b[0m                         Traceback (most recent call last)",
      "\u001b[1;32m<ipython-input-666-feeffb3ce032>\u001b[0m in \u001b[0;36m<module>\u001b[1;34m\u001b[0m\n\u001b[0;32m      2\u001b[0m \u001b[0mAlgorithm\u001b[0m\u001b[1;33m.\u001b[0m\u001b[0mappend\u001b[0m\u001b[1;33m(\u001b[0m\u001b[1;34m'Support Vector Regression'\u001b[0m\u001b[1;33m)\u001b[0m\u001b[1;33m\u001b[0m\u001b[1;33m\u001b[0m\u001b[0m\n\u001b[0;32m      3\u001b[0m \u001b[0mclf\u001b[0m \u001b[1;33m=\u001b[0m \u001b[0mSVR\u001b[0m\u001b[1;33m(\u001b[0m\u001b[1;33m)\u001b[0m\u001b[1;33m\u001b[0m\u001b[1;33m\u001b[0m\u001b[0m\n\u001b[1;32m----> 4\u001b[1;33m \u001b[0mclf\u001b[0m\u001b[1;33m.\u001b[0m\u001b[0mfit\u001b[0m\u001b[1;33m(\u001b[0m\u001b[0mXtr\u001b[0m\u001b[1;33m,\u001b[0m \u001b[0mYtr\u001b[0m\u001b[1;33m)\u001b[0m\u001b[1;33m\u001b[0m\u001b[1;33m\u001b[0m\u001b[0m\n\u001b[0m\u001b[0;32m      5\u001b[0m \u001b[1;33m\u001b[0m\u001b[0m\n\u001b[0;32m      6\u001b[0m \u001b[1;31m# Predicting the Test Set Results\u001b[0m\u001b[1;33m\u001b[0m\u001b[1;33m\u001b[0m\u001b[1;33m\u001b[0m\u001b[0m\n",
      "\u001b[1;32mC:\\ProgramData\\Anaconda3\\lib\\site-packages\\sklearn\\svm\\_base.py\u001b[0m in \u001b[0;36mfit\u001b[1;34m(self, X, y, sample_weight)\u001b[0m\n\u001b[0;32m    215\u001b[0m \u001b[1;33m\u001b[0m\u001b[0m\n\u001b[0;32m    216\u001b[0m         \u001b[0mseed\u001b[0m \u001b[1;33m=\u001b[0m \u001b[0mrnd\u001b[0m\u001b[1;33m.\u001b[0m\u001b[0mrandint\u001b[0m\u001b[1;33m(\u001b[0m\u001b[0mnp\u001b[0m\u001b[1;33m.\u001b[0m\u001b[0miinfo\u001b[0m\u001b[1;33m(\u001b[0m\u001b[1;34m'i'\u001b[0m\u001b[1;33m)\u001b[0m\u001b[1;33m.\u001b[0m\u001b[0mmax\u001b[0m\u001b[1;33m)\u001b[0m\u001b[1;33m\u001b[0m\u001b[1;33m\u001b[0m\u001b[0m\n\u001b[1;32m--> 217\u001b[1;33m         \u001b[0mfit\u001b[0m\u001b[1;33m(\u001b[0m\u001b[0mX\u001b[0m\u001b[1;33m,\u001b[0m \u001b[0my\u001b[0m\u001b[1;33m,\u001b[0m \u001b[0msample_weight\u001b[0m\u001b[1;33m,\u001b[0m \u001b[0msolver_type\u001b[0m\u001b[1;33m,\u001b[0m \u001b[0mkernel\u001b[0m\u001b[1;33m,\u001b[0m \u001b[0mrandom_seed\u001b[0m\u001b[1;33m=\u001b[0m\u001b[0mseed\u001b[0m\u001b[1;33m)\u001b[0m\u001b[1;33m\u001b[0m\u001b[1;33m\u001b[0m\u001b[0m\n\u001b[0m\u001b[0;32m    218\u001b[0m         \u001b[1;31m# see comment on the other call to np.iinfo in this file\u001b[0m\u001b[1;33m\u001b[0m\u001b[1;33m\u001b[0m\u001b[1;33m\u001b[0m\u001b[0m\n\u001b[0;32m    219\u001b[0m \u001b[1;33m\u001b[0m\u001b[0m\n",
      "\u001b[1;32mC:\\ProgramData\\Anaconda3\\lib\\site-packages\\sklearn\\svm\\_base.py\u001b[0m in \u001b[0;36m_dense_fit\u001b[1;34m(self, X, y, sample_weight, solver_type, kernel, random_seed)\u001b[0m\n\u001b[0;32m    266\u001b[0m         \u001b[0mself\u001b[0m\u001b[1;33m.\u001b[0m\u001b[0msupport_\u001b[0m\u001b[1;33m,\u001b[0m \u001b[0mself\u001b[0m\u001b[1;33m.\u001b[0m\u001b[0msupport_vectors_\u001b[0m\u001b[1;33m,\u001b[0m \u001b[0mself\u001b[0m\u001b[1;33m.\u001b[0m\u001b[0m_n_support\u001b[0m\u001b[1;33m,\u001b[0m\u001b[0;31m \u001b[0m\u001b[0;31m\\\u001b[0m\u001b[1;33m\u001b[0m\u001b[1;33m\u001b[0m\u001b[0m\n\u001b[0;32m    267\u001b[0m             \u001b[0mself\u001b[0m\u001b[1;33m.\u001b[0m\u001b[0mdual_coef_\u001b[0m\u001b[1;33m,\u001b[0m \u001b[0mself\u001b[0m\u001b[1;33m.\u001b[0m\u001b[0mintercept_\u001b[0m\u001b[1;33m,\u001b[0m \u001b[0mself\u001b[0m\u001b[1;33m.\u001b[0m\u001b[0m_probA\u001b[0m\u001b[1;33m,\u001b[0m\u001b[0;31m \u001b[0m\u001b[0;31m\\\u001b[0m\u001b[1;33m\u001b[0m\u001b[1;33m\u001b[0m\u001b[0m\n\u001b[1;32m--> 268\u001b[1;33m             self._probB, self.fit_status_ = libsvm.fit(\n\u001b[0m\u001b[0;32m    269\u001b[0m                 \u001b[0mX\u001b[0m\u001b[1;33m,\u001b[0m \u001b[0my\u001b[0m\u001b[1;33m,\u001b[0m\u001b[1;33m\u001b[0m\u001b[1;33m\u001b[0m\u001b[0m\n\u001b[0;32m    270\u001b[0m                 \u001b[0msvm_type\u001b[0m\u001b[1;33m=\u001b[0m\u001b[0msolver_type\u001b[0m\u001b[1;33m,\u001b[0m \u001b[0msample_weight\u001b[0m\u001b[1;33m=\u001b[0m\u001b[0msample_weight\u001b[0m\u001b[1;33m,\u001b[0m\u001b[1;33m\u001b[0m\u001b[1;33m\u001b[0m\u001b[0m\n",
      "\u001b[1;31mKeyboardInterrupt\u001b[0m: "
     ]
    }
   ],
   "source": [
    "# Fitting SVR to the Training Set\n",
    "Algorithm.append('Support Vector Regression')\n",
    "clf = SVR()\n",
    "clf.fit(Xtr, Ytr)\n",
    "\n",
    "# Predicting the Test Set Results\n",
    "predicted = clf.predict(Xval)"
   ]
  },
  {
   "cell_type": "code",
   "execution_count": null,
   "id": "detailed-advertiser",
   "metadata": {},
   "outputs": [],
   "source": [
    "# Appending the Scores For Visualisation at a Later Part\n",
    "MSE_Score.append(mean_squared_error(Yval, predicted))\n",
    "R2_Score.append(r2_score(Yval, predicted))"
   ]
  },
  {
   "cell_type": "markdown",
   "id": "macro-green",
   "metadata": {
    "id": "7EJpSFaVatzN"
   },
   "source": [
    "### **3. Decision Tree Regressor**"
   ]
  },
  {
   "cell_type": "code",
   "execution_count": null,
   "id": "medieval-cooperation",
   "metadata": {},
   "outputs": [],
   "source": [
    "# Fitting Decision Tree to the Training Set\n",
    "Algorithm.append('Decision Tree Regressor')\n",
    "clf = DecisionTreeRegressor()\n",
    "clf.fit(Xtr, Ytr)\n",
    "\n",
    "# Predicting the Test Set Results\n",
    "predicted = clf.predict(Xval)"
   ]
  },
  {
   "cell_type": "code",
   "execution_count": null,
   "id": "provincial-difference",
   "metadata": {},
   "outputs": [],
   "source": [
    "# Appending the Scores For Visualisation at a Later Part\n",
    "MSE_Score.append(mean_squared_error(Yval, predicted))\n",
    "R2_Score.append(r2_score(Yval, predicted))"
   ]
  },
  {
   "cell_type": "markdown",
   "id": "photographic-twins",
   "metadata": {
    "id": "ksCC-RIAbIG2"
   },
   "source": [
    "### **4. Random Forest Regressor**"
   ]
  },
  {
   "cell_type": "code",
   "execution_count": null,
   "id": "fatal-coach",
   "metadata": {},
   "outputs": [],
   "source": [
    "# Fitting Random Forest Regressor Tree to the Training Set\n",
    "Algorithm.append('Random Forest Regressor')\n",
    "clf = RandomForestRegressor()\n",
    "clf.fit(Xtr, Ytr)\n",
    "\n",
    "# Predicting the Test Set Results\n",
    "predicted = clf.predict(Xval)"
   ]
  },
  {
   "cell_type": "code",
   "execution_count": null,
   "id": "annoying-today",
   "metadata": {},
   "outputs": [],
   "source": [
    "# Appending the Scores For Visualisation at a Later Part\n",
    "MSE_Score.append(mean_squared_error(Yval, predicted))\n",
    "R2_Score.append(r2_score(Yval, predicted))"
   ]
  },
  {
   "cell_type": "markdown",
   "id": "adopted-relay",
   "metadata": {
    "id": "MBOTeu_2bm4z"
   },
   "source": [
    "### **5. XGB Regressor**"
   ]
  },
  {
   "cell_type": "code",
   "execution_count": null,
   "id": "spanish-singer",
   "metadata": {},
   "outputs": [],
   "source": [
    "# Fitting XGBoost Regressor to the Training Set\n",
    "Algorithm.append('XGB Regressor')\n",
    "clf = xgb.XGBRegressor(objective ='reg:squarederror')\n",
    "clf.fit(Xtr, Ytr)\n",
    "\n",
    "# Predicting the Test Set Results\n",
    "predicted = clf.predict(Xval)"
   ]
  },
  {
   "cell_type": "code",
   "execution_count": null,
   "id": "unlimited-flood",
   "metadata": {},
   "outputs": [],
   "source": [
    "# Appending the Scores For Visualisation at a Later Part\n",
    "MSE_Score.append(mean_squared_error(Yval, predicted))\n",
    "R2_Score.append(r2_score(Yval, predicted))"
   ]
  },
  {
   "cell_type": "markdown",
   "id": "english-zambia",
   "metadata": {
    "id": "SRE03p_kb9HN"
   },
   "source": [
    "## Score Card of the Models' Performances"
   ]
  },
  {
   "cell_type": "code",
   "execution_count": null,
   "id": "cellular-uncle",
   "metadata": {
    "id": "gxfNe_TQcApv"
   },
   "outputs": [],
   "source": [
    "# Just Combining the Lists into a DataFrame for a Better Visualisation\r\n",
    "Comparison = pd.DataFrame(list(zip(Algorithm, MSE_Score, R2_Score)), columns = ['Algorithm', 'MSE_Score', 'R2_Score'])"
   ]
  },
  {
   "cell_type": "code",
   "execution_count": null,
   "id": "unavailable-poster",
   "metadata": {
    "colab": {
     "base_uri": "https://localhost:8080/",
     "height": 195
    },
    "executionInfo": {
     "elapsed": 1192,
     "status": "ok",
     "timestamp": 1611759679889,
     "user": {
      "displayName": "Rahul Bordoloi",
      "photoUrl": "https://lh3.googleusercontent.com/a-/AOh14GirWCKjUT8HqA5DdsOMEhU61c1-KM-xB2-aWJyycg=s64",
      "userId": "05105438493163495574"
     },
     "user_tz": -330
    },
    "id": "ijpK26_lceL6",
    "outputId": "467c2450-6c94-4e8c-ec67-ef42f1915e09"
   },
   "outputs": [],
   "source": [
    "# Score Card\r\n",
    "Comparison"
   ]
  },
  {
   "cell_type": "markdown",
   "id": "former-joining",
   "metadata": {},
   "source": [
    "## Random Forest"
   ]
  },
  {
   "cell_type": "code",
   "execution_count": null,
   "id": "enabling-sport",
   "metadata": {},
   "outputs": [],
   "source": [
    "MSE_Score = []\n",
    "R2_Score = []\n",
    "Algorithm = []\n",
    "MAE_Score = []\n",
    "RMSE_Score = []\n",
    "isTrue = []\n",
    "isFalse = []\n",
    "AllFeatures = []"
   ]
  },
  {
   "cell_type": "code",
   "execution_count": null,
   "id": "banned-excuse",
   "metadata": {},
   "outputs": [],
   "source": [
    "Xtr=Xtr_bkp.copy()\n",
    "Xval=Xval_bkp.copy()"
   ]
  },
  {
   "cell_type": "code",
   "execution_count": 570,
   "id": "featured-blank",
   "metadata": {},
   "outputs": [],
   "source": [
    "# Xtr_bkp"
   ]
  },
  {
   "cell_type": "code",
   "execution_count": 571,
   "id": "naval-heaven",
   "metadata": {},
   "outputs": [],
   "source": [
    "Ytr= Xtr['due_duration'].copy()\n",
    "Xtr.drop(['due_duration'],axis=1,inplace=True)"
   ]
  },
  {
   "cell_type": "code",
   "execution_count": 572,
   "id": "stretch-certificate",
   "metadata": {},
   "outputs": [],
   "source": [
    "Yval= Xval['due_duration'].copy()\n",
    "Xval.drop(['due_duration'],axis=1,inplace=True)"
   ]
  },
  {
   "cell_type": "code",
   "execution_count": 573,
   "id": "seven-defeat",
   "metadata": {},
   "outputs": [],
   "source": [
    "#list(zip(list(Xtr.columns),[1]*len(list(Xtr.columns))))"
   ]
  },
  {
   "cell_type": "code",
   "execution_count": 574,
   "id": "advisory-quick",
   "metadata": {},
   "outputs": [],
   "source": [
    "feature_selection=[      ('buisness_year', 0),\n",
    "                         ('doc_id', 0),\n",
    "                         ('document type', 0),\n",
    "                         ('posting_id', 0),\n",
    "                         ('total_open_amount', 0),\n",
    "                         ('invoice_id', 0),\n",
    "                         ('conv_amt', 1),\n",
    "                         ('cust_delay_mean', 1),\n",
    "                         ('cust_name_delay_mean', 0),\n",
    "                         ('payment_time', 1),\n",
    "                         ('code_business_code', 0),\n",
    "                         ('code_cust_payment_terms', 1),\n",
    "                         ('code_cust_number', 1),\n",
    "                         ('code_name_customer', 0),\n",
    "                         ('posting_date_month', 1),\n",
    "                         ('posting_date_day', 1),\n",
    "                         ('posting_date_year', 0),\n",
    "                         ('posting_date_quarter', 0),\n",
    "                         ('posting_date_dayofweek', 0),\n",
    "                         ('posting_date_week', 0),\n",
    "                         ('due_in_date_month', 1),\n",
    "                         ('due_in_date_day', 1),\n",
    "                         ('due_in_date_year', 0),\n",
    "                         ('due_in_date_quarter', 1),\n",
    "                         ('due_in_date_dayofweek', 1),\n",
    "                         ('due_in_date_week', 0),\n",
    "                         ('document_create_date_month', 1),\n",
    "                         ('document_create_date_day', 1),\n",
    "                         ('document_create_date_year', 0),\n",
    "                         ('document_create_date_quarter', 1),\n",
    "                         ('document_create_date_dayofweek', 1),\n",
    "                         ('document_create_date_week', 0),\n",
    "                         ('baseline_create_date_month', 1),\n",
    "                         ('baseline_create_date_day', 1),\n",
    "                         ('baseline_create_date_year', 0),\n",
    "                         ('baseline_create_date_quarter', 0),\n",
    "                         ('baseline_create_date_dayofweek', 0),\n",
    "                         ('baseline_create_date_week', 0),\n",
    "                         ('document_create_is_working', 1),\n",
    "                         ('due_in_is_working', 1)]"
   ]
  },
  {
   "cell_type": "code",
   "execution_count": 575,
   "id": "polished-paper",
   "metadata": {},
   "outputs": [],
   "source": [
    "feature=[]\n",
    "for i in feature_selection:\n",
    "    if i[1]==1:\n",
    "        feature.append(i[0])"
   ]
  },
  {
   "cell_type": "code",
   "execution_count": 576,
   "id": "combined-basic",
   "metadata": {},
   "outputs": [],
   "source": [
    "AllFeatures.append(feature)"
   ]
  },
  {
   "cell_type": "code",
   "execution_count": 577,
   "id": "preliminary-bidding",
   "metadata": {},
   "outputs": [],
   "source": [
    "Xtr=Xtr[feature].copy()\n",
    "Xval=Xval[feature].copy()"
   ]
  },
  {
   "cell_type": "code",
   "execution_count": 578,
   "id": "delayed-lodging",
   "metadata": {},
   "outputs": [],
   "source": [
    "# Xtr"
   ]
  },
  {
   "cell_type": "code",
   "execution_count": 579,
   "id": "combined-three",
   "metadata": {},
   "outputs": [],
   "source": [
    "def stan(a,n):\n",
    "    if n==1:\n",
    "        scaler = StandardScaler()\n",
    "    elif n==2:\n",
    "        scaler = preprocessing.QuantileTransformer(output_distribution='normal', random_state=0)\n",
    "    return scaler"
   ]
  },
  {
   "cell_type": "code",
   "execution_count": 580,
   "id": "vanilla-scott",
   "metadata": {},
   "outputs": [],
   "source": [
    "df=Xtr\n",
    "scaler=stan(df,2)\n",
    "scaler.fit(df)\n",
    "Xtr=scaler.transform(df)\n",
    "df=Xval\n",
    "scaler=stan(df,2)\n",
    "scaler.fit(df)\n",
    "Xval=scaler.transform(df)"
   ]
  },
  {
   "cell_type": "code",
   "execution_count": 581,
   "id": "suitable-trouble",
   "metadata": {},
   "outputs": [],
   "source": [
    "# n_estimators=35,max_depth=30,min_samples_leaf=10,min_samples_split=5\n",
    "# n_estimators=45,max_depth=35,min_samples_leaf=15,min_samples_split=10"
   ]
  },
  {
   "cell_type": "code",
   "execution_count": 582,
   "id": "announced-ivory",
   "metadata": {},
   "outputs": [],
   "source": [
    "valS=[]\n",
    "TrS=[]\n",
    "n_e=[]\n",
    "m_d=[]\n",
    "m_s=[]\n",
    "m_l=[]"
   ]
  },
  {
   "cell_type": "code",
   "execution_count": 583,
   "id": "golden-diary",
   "metadata": {},
   "outputs": [],
   "source": [
    "n_e.append(45)\n",
    "m_d.append(55)\n",
    "m_s.append(25)\n",
    "m_l.append(15)"
   ]
  },
  {
   "cell_type": "code",
   "execution_count": 584,
   "id": "grateful-leather",
   "metadata": {},
   "outputs": [],
   "source": [
    "# Ytr"
   ]
  },
  {
   "cell_type": "code",
   "execution_count": 585,
   "id": "supreme-confidence",
   "metadata": {},
   "outputs": [],
   "source": [
    "clf = RandomForestRegressor(n_estimators=n_e[-1],max_depth=m_d[-1],min_samples_leaf=m_s[-1],min_samples_split=m_l[-1])\n",
    "qwerty=clf.fit(Xtr, Ytr)"
   ]
  },
  {
   "cell_type": "code",
   "execution_count": 586,
   "id": "equipped-triple",
   "metadata": {},
   "outputs": [],
   "source": [
    "# Xval=xv.copy()\n",
    "# Xval=x_val.copy()\n",
    "#Xval=xv.copy()"
   ]
  },
  {
   "cell_type": "code",
   "execution_count": 587,
   "id": "electric-shock",
   "metadata": {},
   "outputs": [],
   "source": [
    "# Yval"
   ]
  },
  {
   "cell_type": "code",
   "execution_count": 588,
   "id": "blocked-speaking",
   "metadata": {},
   "outputs": [
    {
     "name": "stdout",
     "output_type": "stream",
     "text": [
      "-0.17581967249990704\n"
     ]
    },
    {
     "data": {
      "text/plain": [
       "0.6177003173018261"
      ]
     },
     "execution_count": 588,
     "metadata": {},
     "output_type": "execute_result"
    }
   ],
   "source": [
    "print(qwerty.score(Xval, Yval))\n",
    "valS.append(qwerty.score(Xval, Yval))\n",
    "TrS.append(qwerty.score(Xtr, Ytr))\n",
    "qwerty.score(Xtr, Ytr)"
   ]
  },
  {
   "cell_type": "code",
   "execution_count": 589,
   "id": "celtic-trick",
   "metadata": {},
   "outputs": [
    {
     "data": {
      "text/html": [
       "<div>\n",
       "<style scoped>\n",
       "    .dataframe tbody tr th:only-of-type {\n",
       "        vertical-align: middle;\n",
       "    }\n",
       "\n",
       "    .dataframe tbody tr th {\n",
       "        vertical-align: top;\n",
       "    }\n",
       "\n",
       "    .dataframe thead th {\n",
       "        text-align: right;\n",
       "    }\n",
       "</style>\n",
       "<table border=\"1\" class=\"dataframe\">\n",
       "  <thead>\n",
       "    <tr style=\"text-align: right;\">\n",
       "      <th></th>\n",
       "      <th>0</th>\n",
       "      <th>1</th>\n",
       "      <th>2</th>\n",
       "      <th>3</th>\n",
       "      <th>4</th>\n",
       "      <th>5</th>\n",
       "    </tr>\n",
       "  </thead>\n",
       "  <tbody>\n",
       "    <tr>\n",
       "      <th>0</th>\n",
       "      <td>-0.17582</td>\n",
       "      <td>0.6177</td>\n",
       "      <td>45</td>\n",
       "      <td>55</td>\n",
       "      <td>25</td>\n",
       "      <td>15</td>\n",
       "    </tr>\n",
       "  </tbody>\n",
       "</table>\n",
       "</div>"
      ],
      "text/plain": [
       "         0       1   2   3   4   5\n",
       "0 -0.17582  0.6177  45  55  25  15"
      ]
     },
     "execution_count": 589,
     "metadata": {},
     "output_type": "execute_result"
    }
   ],
   "source": [
    "pd.DataFrame(list(zip(valS,TrS,n_e,m_d,m_s,m_l)))"
   ]
  },
  {
   "cell_type": "code",
   "execution_count": 590,
   "id": "micro-shore",
   "metadata": {},
   "outputs": [],
   "source": [
    "# import pickle\n",
    "# with open(\"Xtr\", 'rb') as f:\n",
    "#     XXX = pickle.load(f)\n",
    "\n",
    "# with open(\"Ytr\", 'rb') as f:\n",
    "#     YYY = pickle.load(f)\n",
    "\n",
    "# XXXDATA=pd.DataFrame(XXX)\n",
    "\n",
    "# YYYDATA=pd.DataFrame(YYY)\n",
    "\n",
    "# XTRDATA=pd.DataFrame(Xval)\n",
    "\n",
    "# YTRDATA=pd.DataFrame(YYY)\n",
    "\n",
    "# XXXDATA.shape\n",
    "\n",
    "# XTRDATA.shape\n",
    "\n",
    "# XXXDATA"
   ]
  },
  {
   "cell_type": "code",
   "execution_count": 591,
   "id": "present-christmas",
   "metadata": {},
   "outputs": [],
   "source": [
    "# XTRDATA"
   ]
  },
  {
   "cell_type": "code",
   "execution_count": 592,
   "id": "stunning-bottom",
   "metadata": {},
   "outputs": [],
   "source": [
    "# for i in (XXXDATA==XTRDATA).columns:\n",
    "#     print((XXXDATA==XTRDATA)[i].unique())"
   ]
  },
  {
   "cell_type": "code",
   "execution_count": 593,
   "id": "running-fleet",
   "metadata": {},
   "outputs": [],
   "source": [
    "# for i in (YYYDATA==YTRDATA).columns:\n",
    "#     print((YYYDATA==YTRDATA)[i].unique())"
   ]
  },
  {
   "cell_type": "code",
   "execution_count": 594,
   "id": "bibliographic-welding",
   "metadata": {},
   "outputs": [],
   "source": [
    "# predicted = clf.predict(Xtr)\n",
    "# # predicted = clf.predict(Xval)\n",
    "# MSE_Score.append(mean_squared_error(Ytr, predicted))\n",
    "# R2_Score.append(r2_score(Ytr, predicted))\n",
    "# MAE_Score.append(mean_absolute_error(Ytr, predicted))\n",
    "# RMSE_Score.append(np.sqrt(mean_squared_error(Ytr, predicted)))\n",
    "# A=((abs((pd.Series(np.around(predicted)).astype(int)-Ytr.reset_index(drop=True))))<4).value_counts().to_frame().T\n",
    "# for i in A.columns:\n",
    "#     if i==True:\n",
    "#         isTrue.append(int(A[i]))\n",
    "#     else:\n",
    "#         isFalse.append(int(A[i]))\n"
   ]
  },
  {
   "cell_type": "code",
   "execution_count": 600,
   "id": "coordinate-swimming",
   "metadata": {},
   "outputs": [],
   "source": [
    "predicted1 = clf.predict(Xtr)\n",
    "predicted = clf.predict(Xval)\n",
    "MSE_Score.append(mean_squared_error(Yval, predicted))\n",
    "R2_Score.append(r2_score(Yval, predicted))\n",
    "MAE_Score.append(mean_absolute_error(Yval, predicted))\n",
    "RMSE_Score.append(np.sqrt(mean_squared_error(Yval, predicted)))\n",
    "A=((abs((pd.Series(np.around(predicted)).astype(int)-Yval.reset_index(drop=True))))<4).value_counts().to_frame().T\n",
    "for i in A.columns:\n",
    "    if i==True:\n",
    "        isTrue.append(int(A[i]))\n",
    "    else:\n",
    "        isFalse.append(int(A[i]))\n",
    "# Just Combining the Lists into a DataFrame for a Better Visualisation\n"
   ]
  },
  {
   "cell_type": "code",
   "execution_count": 601,
   "id": "excellent-lawsuit",
   "metadata": {},
   "outputs": [],
   "source": [
    "Comparison = pd.DataFrame(list(zip(MSE_Score,RMSE_Score, R2_Score,MAE_Score,isTrue,isFalse,AllFeatures)), columns = ['MSE_Score','RMSE_Score', 'R2_Score','MAE_Score','isTrue','isFalse','Allfeatures'])"
   ]
  },
  {
   "cell_type": "code",
   "execution_count": 606,
   "id": "senior-ecuador",
   "metadata": {},
   "outputs": [
    {
     "data": {
      "text/html": [
       "<div>\n",
       "<style scoped>\n",
       "    .dataframe tbody tr th:only-of-type {\n",
       "        vertical-align: middle;\n",
       "    }\n",
       "\n",
       "    .dataframe tbody tr th {\n",
       "        vertical-align: top;\n",
       "    }\n",
       "\n",
       "    .dataframe thead th {\n",
       "        text-align: right;\n",
       "    }\n",
       "</style>\n",
       "<table border=\"1\" class=\"dataframe\">\n",
       "  <thead>\n",
       "    <tr style=\"text-align: right;\">\n",
       "      <th></th>\n",
       "      <th>0</th>\n",
       "    </tr>\n",
       "  </thead>\n",
       "  <tbody>\n",
       "    <tr>\n",
       "      <th>0</th>\n",
       "      <td>-6.608108</td>\n",
       "    </tr>\n",
       "    <tr>\n",
       "      <th>1</th>\n",
       "      <td>8.780970</td>\n",
       "    </tr>\n",
       "    <tr>\n",
       "      <th>2</th>\n",
       "      <td>1.043811</td>\n",
       "    </tr>\n",
       "    <tr>\n",
       "      <th>3</th>\n",
       "      <td>-2.091756</td>\n",
       "    </tr>\n",
       "    <tr>\n",
       "      <th>4</th>\n",
       "      <td>0.153298</td>\n",
       "    </tr>\n",
       "    <tr>\n",
       "      <th>...</th>\n",
       "      <td>...</td>\n",
       "    </tr>\n",
       "    <tr>\n",
       "      <th>6868</th>\n",
       "      <td>0.229143</td>\n",
       "    </tr>\n",
       "    <tr>\n",
       "      <th>6869</th>\n",
       "      <td>10.817734</td>\n",
       "    </tr>\n",
       "    <tr>\n",
       "      <th>6870</th>\n",
       "      <td>-2.393924</td>\n",
       "    </tr>\n",
       "    <tr>\n",
       "      <th>6871</th>\n",
       "      <td>-2.706871</td>\n",
       "    </tr>\n",
       "    <tr>\n",
       "      <th>6872</th>\n",
       "      <td>0.995590</td>\n",
       "    </tr>\n",
       "  </tbody>\n",
       "</table>\n",
       "<p>6873 rows × 1 columns</p>\n",
       "</div>"
      ],
      "text/plain": [
       "              0\n",
       "0     -6.608108\n",
       "1      8.780970\n",
       "2      1.043811\n",
       "3     -2.091756\n",
       "4      0.153298\n",
       "...         ...\n",
       "6868   0.229143\n",
       "6869  10.817734\n",
       "6870  -2.393924\n",
       "6871  -2.706871\n",
       "6872   0.995590\n",
       "\n",
       "[6873 rows x 1 columns]"
      ]
     },
     "execution_count": 606,
     "metadata": {},
     "output_type": "execute_result"
    }
   ],
   "source": [
    "pd.DataFrame(predicted)"
   ]
  },
  {
   "cell_type": "code",
   "execution_count": 607,
   "id": "numerical-venice",
   "metadata": {},
   "outputs": [
    {
     "data": {
      "text/html": [
       "<div>\n",
       "<style scoped>\n",
       "    .dataframe tbody tr th:only-of-type {\n",
       "        vertical-align: middle;\n",
       "    }\n",
       "\n",
       "    .dataframe tbody tr th {\n",
       "        vertical-align: top;\n",
       "    }\n",
       "\n",
       "    .dataframe thead th {\n",
       "        text-align: right;\n",
       "    }\n",
       "</style>\n",
       "<table border=\"1\" class=\"dataframe\">\n",
       "  <thead>\n",
       "    <tr style=\"text-align: right;\">\n",
       "      <th></th>\n",
       "      <th>due_duration</th>\n",
       "    </tr>\n",
       "  </thead>\n",
       "  <tbody>\n",
       "    <tr>\n",
       "      <th>32187</th>\n",
       "      <td>-6</td>\n",
       "    </tr>\n",
       "    <tr>\n",
       "      <th>32188</th>\n",
       "      <td>3</td>\n",
       "    </tr>\n",
       "    <tr>\n",
       "      <th>32189</th>\n",
       "      <td>5</td>\n",
       "    </tr>\n",
       "    <tr>\n",
       "      <th>32190</th>\n",
       "      <td>2</td>\n",
       "    </tr>\n",
       "    <tr>\n",
       "      <th>32191</th>\n",
       "      <td>0</td>\n",
       "    </tr>\n",
       "    <tr>\n",
       "      <th>...</th>\n",
       "      <td>...</td>\n",
       "    </tr>\n",
       "    <tr>\n",
       "      <th>39056</th>\n",
       "      <td>-1</td>\n",
       "    </tr>\n",
       "    <tr>\n",
       "      <th>39057</th>\n",
       "      <td>4</td>\n",
       "    </tr>\n",
       "    <tr>\n",
       "      <th>39058</th>\n",
       "      <td>2</td>\n",
       "    </tr>\n",
       "    <tr>\n",
       "      <th>39059</th>\n",
       "      <td>-4</td>\n",
       "    </tr>\n",
       "    <tr>\n",
       "      <th>39060</th>\n",
       "      <td>2</td>\n",
       "    </tr>\n",
       "  </tbody>\n",
       "</table>\n",
       "<p>6873 rows × 1 columns</p>\n",
       "</div>"
      ],
      "text/plain": [
       "       due_duration\n",
       "32187            -6\n",
       "32188             3\n",
       "32189             5\n",
       "32190             2\n",
       "32191             0\n",
       "...             ...\n",
       "39056            -1\n",
       "39057             4\n",
       "39058             2\n",
       "39059            -4\n",
       "39060             2\n",
       "\n",
       "[6873 rows x 1 columns]"
      ]
     },
     "execution_count": 607,
     "metadata": {},
     "output_type": "execute_result"
    }
   ],
   "source": [
    "pd.DataFrame(Yval)"
   ]
  },
  {
   "cell_type": "code",
   "execution_count": 602,
   "id": "found-motorcycle",
   "metadata": {},
   "outputs": [
    {
     "data": {
      "text/plain": [
       "(6873, 19)"
      ]
     },
     "execution_count": 602,
     "metadata": {},
     "output_type": "execute_result"
    }
   ],
   "source": [
    "Xval.shape"
   ]
  },
  {
   "cell_type": "code",
   "execution_count": 603,
   "id": "baking-humor",
   "metadata": {},
   "outputs": [
    {
     "data": {
      "text/plain": [
       "[5103, 5103]"
      ]
     },
     "execution_count": 603,
     "metadata": {},
     "output_type": "execute_result"
    }
   ],
   "source": [
    "isTrue"
   ]
  },
  {
   "cell_type": "code",
   "execution_count": 604,
   "id": "senior-medicine",
   "metadata": {},
   "outputs": [
    {
     "data": {
      "text/html": [
       "<div>\n",
       "<style scoped>\n",
       "    .dataframe tbody tr th:only-of-type {\n",
       "        vertical-align: middle;\n",
       "    }\n",
       "\n",
       "    .dataframe tbody tr th {\n",
       "        vertical-align: top;\n",
       "    }\n",
       "\n",
       "    .dataframe thead th {\n",
       "        text-align: right;\n",
       "    }\n",
       "</style>\n",
       "<table border=\"1\" class=\"dataframe\">\n",
       "  <thead>\n",
       "    <tr style=\"text-align: right;\">\n",
       "      <th></th>\n",
       "      <th>MSE_Score</th>\n",
       "      <th>RMSE_Score</th>\n",
       "      <th>R2_Score</th>\n",
       "      <th>MAE_Score</th>\n",
       "      <th>isTrue</th>\n",
       "      <th>isFalse</th>\n",
       "    </tr>\n",
       "  </thead>\n",
       "  <tbody>\n",
       "    <tr>\n",
       "      <th>0</th>\n",
       "      <td>58.739291</td>\n",
       "      <td>7.664156</td>\n",
       "      <td>-0.17582</td>\n",
       "      <td>3.617768</td>\n",
       "      <td>5103</td>\n",
       "      <td>1770</td>\n",
       "    </tr>\n",
       "  </tbody>\n",
       "</table>\n",
       "</div>"
      ],
      "text/plain": [
       "   MSE_Score  RMSE_Score  R2_Score  MAE_Score  isTrue  isFalse\n",
       "0  58.739291    7.664156  -0.17582   3.617768    5103     1770"
      ]
     },
     "execution_count": 604,
     "metadata": {},
     "output_type": "execute_result"
    }
   ],
   "source": [
    "# Score Card\n",
    "Comparison[['MSE_Score','RMSE_Score', 'R2_Score','MAE_Score','isTrue','isFalse']]"
   ]
  },
  {
   "cell_type": "code",
   "execution_count": 486,
   "id": "postal-kingdom",
   "metadata": {},
   "outputs": [],
   "source": [
    "# len(AllFeatures)"
   ]
  },
  {
   "cell_type": "code",
   "execution_count": 525,
   "id": "fluid-chess",
   "metadata": {},
   "outputs": [],
   "source": [
    "q=x_test.copy()"
   ]
  },
  {
   "cell_type": "code",
   "execution_count": 526,
   "id": "blind-teacher",
   "metadata": {},
   "outputs": [
    {
     "data": {
      "text/plain": [
       "Index(['business_code', 'cust_number', 'name_customer', 'buisness_year',\n",
       "       'doc_id', 'posting_date', 'document_create_date', 'due_in_date',\n",
       "       'document type', 'posting_id', 'total_open_amount',\n",
       "       'baseline_create_date', 'cust_payment_terms', 'invoice_id',\n",
       "       'due_duration', 'conv_amt'],\n",
       "      dtype='object')"
      ]
     },
     "execution_count": 526,
     "metadata": {},
     "output_type": "execute_result"
    }
   ],
   "source": [
    "q.columns"
   ]
  },
  {
   "cell_type": "code",
   "execution_count": 527,
   "id": "wired-glossary",
   "metadata": {},
   "outputs": [],
   "source": [
    "# x_test"
   ]
  },
  {
   "cell_type": "code",
   "execution_count": 528,
   "id": "sustained-victor",
   "metadata": {},
   "outputs": [
    {
     "data": {
      "text/plain": [
       "39"
      ]
     },
     "execution_count": 528,
     "metadata": {},
     "output_type": "execute_result"
    }
   ],
   "source": [
    "df=q\n",
    "df['cust_delay_mean']=df['cust_number'].map(mapper1)\n",
    "df['cust_name_delay_mean']=df['name_customer'].map(mapper2)\n",
    "df['payment_time']=(df['due_in_date']-df['document_create_date']).dt.days\n",
    "encoding(df)\n",
    "dates_feature(df)\n",
    "df['document_create_is_working']=np.where(df.document_create_date_dayofweek.isin([5,6]),0,1)\n",
    "df['due_in_is_working']=np.where(df.due_in_date_dayofweek.isin([5,6]),0,1)\n",
    "df=df.drop(drop,axis=1)\n",
    "df.columns.value_counts().sum()"
   ]
  },
  {
   "cell_type": "code",
   "execution_count": 529,
   "id": "clinical-monaco",
   "metadata": {},
   "outputs": [],
   "source": [
    "for i in df.columns:\n",
    "    if df[i].isna().any():\n",
    "        df[i].fillna(int(modes[i]),inplace=True)\n",
    "\n",
    "for i in df.columns:\n",
    "    if df[i].isna().any():\n",
    "        print(i)"
   ]
  },
  {
   "cell_type": "code",
   "execution_count": 530,
   "id": "little-cement",
   "metadata": {},
   "outputs": [
    {
     "data": {
      "text/plain": [
       "Index(['buisness_year', 'doc_id', 'total_open_amount', 'invoice_id',\n",
       "       'due_duration', 'conv_amt', 'cust_delay_mean', 'cust_name_delay_mean',\n",
       "       'payment_time', 'code_business_code', 'code_cust_payment_terms',\n",
       "       'code_cust_number', 'code_name_customer', 'posting_date_month',\n",
       "       'posting_date_day', 'posting_date_year', 'posting_date_quarter',\n",
       "       'posting_date_dayofweek', 'posting_date_week', 'due_in_date_month',\n",
       "       'due_in_date_day', 'due_in_date_year', 'due_in_date_quarter',\n",
       "       'due_in_date_dayofweek', 'due_in_date_week',\n",
       "       'document_create_date_month', 'document_create_date_day',\n",
       "       'document_create_date_year', 'document_create_date_quarter',\n",
       "       'document_create_date_dayofweek', 'document_create_date_week',\n",
       "       'baseline_create_date_month', 'baseline_create_date_day',\n",
       "       'baseline_create_date_year', 'baseline_create_date_quarter',\n",
       "       'baseline_create_date_dayofweek', 'baseline_create_date_week',\n",
       "       'document_create_is_working', 'due_in_is_working'],\n",
       "      dtype='object')"
      ]
     },
     "execution_count": 530,
     "metadata": {},
     "output_type": "execute_result"
    }
   ],
   "source": [
    "df.columns"
   ]
  },
  {
   "cell_type": "code",
   "execution_count": 536,
   "id": "rough-pacific",
   "metadata": {},
   "outputs": [],
   "source": [
    "Xte=df.copy()\n",
    "\n",
    "Yte= Xte['due_duration'].copy()\n",
    "\n",
    "Xte.drop(['due_duration'],axis=1,inplace=True)\n",
    "Xte=Xte[feature].copy()"
   ]
  },
  {
   "cell_type": "code",
   "execution_count": 537,
   "id": "dying-modern",
   "metadata": {},
   "outputs": [],
   "source": [
    "# Yval= Xte['due_duration'].copy()\n",
    "# Yval"
   ]
  },
  {
   "cell_type": "code",
   "execution_count": 540,
   "id": "popular-timeline",
   "metadata": {},
   "outputs": [
    {
     "data": {
      "text/plain": [
       "39061    2\n",
       "39062   -1\n",
       "39063    3\n",
       "39064   -4\n",
       "39065    0\n",
       "        ..\n",
       "45952    5\n",
       "45953    0\n",
       "45954    2\n",
       "45955    0\n",
       "45956    4\n",
       "Name: due_duration, Length: 6873, dtype: int64"
      ]
     },
     "execution_count": 540,
     "metadata": {},
     "output_type": "execute_result"
    }
   ],
   "source": [
    "Yte"
   ]
  },
  {
   "cell_type": "code",
   "execution_count": 611,
   "id": "noted-bleeding",
   "metadata": {},
   "outputs": [
    {
     "name": "stdout",
     "output_type": "stream",
     "text": [
      "1424.3333722719503\n",
      "-13.708151527610234\n",
      "29.113214345846366\n",
      "37.74034144349982\n",
      "False 5655\n",
      "True 1218\n"
     ]
    }
   ],
   "source": [
    "# predicted1 = clf.predict(Xtr)\n",
    "predicted = clf.predict(Xte)\n",
    "print(mean_squared_error(Yte, predicted))\n",
    "print(r2_score(Yte, predicted))\n",
    "print(mean_absolute_error(Yte, predicted))\n",
    "print(np.sqrt(mean_squared_error(Yte, predicted)))\n",
    "A=((abs((pd.Series(np.around(predicted)).astype(int)-Yte.reset_index(drop=True))))<4).value_counts().to_frame().T\n",
    "for i in A.columns:\n",
    "    if i==True:\n",
    "        print('True',int(A[i]))\n",
    "    else:\n",
    "        print('False',int(A[i]))"
   ]
  },
  {
   "cell_type": "code",
   "execution_count": 612,
   "id": "complimentary-memphis",
   "metadata": {},
   "outputs": [],
   "source": [
    "aaa=pd.DataFrame(predicted,columns=[\"aaa\"])"
   ]
  },
  {
   "cell_type": "code",
   "execution_count": 617,
   "id": "analyzed-inclusion",
   "metadata": {},
   "outputs": [
    {
     "data": {
      "text/html": [
       "<div>\n",
       "<style scoped>\n",
       "    .dataframe tbody tr th:only-of-type {\n",
       "        vertical-align: middle;\n",
       "    }\n",
       "\n",
       "    .dataframe tbody tr th {\n",
       "        vertical-align: top;\n",
       "    }\n",
       "\n",
       "    .dataframe thead th {\n",
       "        text-align: right;\n",
       "    }\n",
       "</style>\n",
       "<table border=\"1\" class=\"dataframe\">\n",
       "  <thead>\n",
       "    <tr style=\"text-align: right;\">\n",
       "      <th></th>\n",
       "      <th>conv_amt</th>\n",
       "      <th>cust_delay_mean</th>\n",
       "      <th>payment_time</th>\n",
       "      <th>code_cust_payment_terms</th>\n",
       "      <th>code_cust_number</th>\n",
       "      <th>posting_date_month</th>\n",
       "      <th>posting_date_day</th>\n",
       "      <th>due_in_date_month</th>\n",
       "      <th>due_in_date_day</th>\n",
       "      <th>due_in_date_quarter</th>\n",
       "      <th>due_in_date_dayofweek</th>\n",
       "      <th>document_create_date_month</th>\n",
       "      <th>document_create_date_day</th>\n",
       "      <th>document_create_date_quarter</th>\n",
       "      <th>document_create_date_dayofweek</th>\n",
       "      <th>baseline_create_date_month</th>\n",
       "      <th>baseline_create_date_day</th>\n",
       "      <th>document_create_is_working</th>\n",
       "      <th>due_in_is_working</th>\n",
       "    </tr>\n",
       "  </thead>\n",
       "  <tbody>\n",
       "    <tr>\n",
       "      <th>39061</th>\n",
       "      <td>13617.0400</td>\n",
       "      <td>1.549521</td>\n",
       "      <td>15</td>\n",
       "      <td>12.0</td>\n",
       "      <td>48.0</td>\n",
       "      <td>12</td>\n",
       "      <td>9</td>\n",
       "      <td>12</td>\n",
       "      <td>24</td>\n",
       "      <td>4</td>\n",
       "      <td>1</td>\n",
       "      <td>12</td>\n",
       "      <td>9</td>\n",
       "      <td>4</td>\n",
       "      <td>0</td>\n",
       "      <td>12</td>\n",
       "      <td>9</td>\n",
       "      <td>1</td>\n",
       "      <td>1</td>\n",
       "    </tr>\n",
       "    <tr>\n",
       "      <th>39062</th>\n",
       "      <td>137722.9500</td>\n",
       "      <td>-1.000000</td>\n",
       "      <td>15</td>\n",
       "      <td>1.0</td>\n",
       "      <td>160.0</td>\n",
       "      <td>12</td>\n",
       "      <td>9</td>\n",
       "      <td>12</td>\n",
       "      <td>24</td>\n",
       "      <td>4</td>\n",
       "      <td>1</td>\n",
       "      <td>12</td>\n",
       "      <td>9</td>\n",
       "      <td>4</td>\n",
       "      <td>0</td>\n",
       "      <td>12</td>\n",
       "      <td>9</td>\n",
       "      <td>1</td>\n",
       "      <td>1</td>\n",
       "    </tr>\n",
       "    <tr>\n",
       "      <th>39063</th>\n",
       "      <td>44164.8200</td>\n",
       "      <td>1.385455</td>\n",
       "      <td>15</td>\n",
       "      <td>1.0</td>\n",
       "      <td>12.0</td>\n",
       "      <td>12</td>\n",
       "      <td>9</td>\n",
       "      <td>12</td>\n",
       "      <td>24</td>\n",
       "      <td>4</td>\n",
       "      <td>1</td>\n",
       "      <td>12</td>\n",
       "      <td>9</td>\n",
       "      <td>4</td>\n",
       "      <td>0</td>\n",
       "      <td>12</td>\n",
       "      <td>9</td>\n",
       "      <td>1</td>\n",
       "      <td>1</td>\n",
       "    </tr>\n",
       "    <tr>\n",
       "      <th>39064</th>\n",
       "      <td>2237.4300</td>\n",
       "      <td>-2.138366</td>\n",
       "      <td>15</td>\n",
       "      <td>3.0</td>\n",
       "      <td>4.0</td>\n",
       "      <td>12</td>\n",
       "      <td>9</td>\n",
       "      <td>12</td>\n",
       "      <td>24</td>\n",
       "      <td>4</td>\n",
       "      <td>1</td>\n",
       "      <td>12</td>\n",
       "      <td>9</td>\n",
       "      <td>4</td>\n",
       "      <td>0</td>\n",
       "      <td>12</td>\n",
       "      <td>9</td>\n",
       "      <td>1</td>\n",
       "      <td>1</td>\n",
       "    </tr>\n",
       "    <tr>\n",
       "      <th>39065</th>\n",
       "      <td>26435.1100</td>\n",
       "      <td>0.635207</td>\n",
       "      <td>15</td>\n",
       "      <td>6.0</td>\n",
       "      <td>35.0</td>\n",
       "      <td>12</td>\n",
       "      <td>9</td>\n",
       "      <td>12</td>\n",
       "      <td>24</td>\n",
       "      <td>4</td>\n",
       "      <td>1</td>\n",
       "      <td>12</td>\n",
       "      <td>9</td>\n",
       "      <td>4</td>\n",
       "      <td>0</td>\n",
       "      <td>12</td>\n",
       "      <td>9</td>\n",
       "      <td>1</td>\n",
       "      <td>1</td>\n",
       "    </tr>\n",
       "    <tr>\n",
       "      <th>...</th>\n",
       "      <td>...</td>\n",
       "      <td>...</td>\n",
       "      <td>...</td>\n",
       "      <td>...</td>\n",
       "      <td>...</td>\n",
       "      <td>...</td>\n",
       "      <td>...</td>\n",
       "      <td>...</td>\n",
       "      <td>...</td>\n",
       "      <td>...</td>\n",
       "      <td>...</td>\n",
       "      <td>...</td>\n",
       "      <td>...</td>\n",
       "      <td>...</td>\n",
       "      <td>...</td>\n",
       "      <td>...</td>\n",
       "      <td>...</td>\n",
       "      <td>...</td>\n",
       "      <td>...</td>\n",
       "    </tr>\n",
       "    <tr>\n",
       "      <th>45952</th>\n",
       "      <td>34693.7214</td>\n",
       "      <td>9.449848</td>\n",
       "      <td>11</td>\n",
       "      <td>2.0</td>\n",
       "      <td>2.0</td>\n",
       "      <td>2</td>\n",
       "      <td>26</td>\n",
       "      <td>3</td>\n",
       "      <td>8</td>\n",
       "      <td>1</td>\n",
       "      <td>6</td>\n",
       "      <td>2</td>\n",
       "      <td>26</td>\n",
       "      <td>1</td>\n",
       "      <td>2</td>\n",
       "      <td>2</td>\n",
       "      <td>27</td>\n",
       "      <td>1</td>\n",
       "      <td>0</td>\n",
       "    </tr>\n",
       "    <tr>\n",
       "      <th>45953</th>\n",
       "      <td>4304.3700</td>\n",
       "      <td>0.406250</td>\n",
       "      <td>15</td>\n",
       "      <td>1.0</td>\n",
       "      <td>38.0</td>\n",
       "      <td>2</td>\n",
       "      <td>26</td>\n",
       "      <td>3</td>\n",
       "      <td>12</td>\n",
       "      <td>1</td>\n",
       "      <td>3</td>\n",
       "      <td>2</td>\n",
       "      <td>26</td>\n",
       "      <td>1</td>\n",
       "      <td>2</td>\n",
       "      <td>2</td>\n",
       "      <td>26</td>\n",
       "      <td>1</td>\n",
       "      <td>1</td>\n",
       "    </tr>\n",
       "    <tr>\n",
       "      <th>45954</th>\n",
       "      <td>73652.2300</td>\n",
       "      <td>1.000000</td>\n",
       "      <td>7</td>\n",
       "      <td>50.0</td>\n",
       "      <td>768.0</td>\n",
       "      <td>2</td>\n",
       "      <td>26</td>\n",
       "      <td>3</td>\n",
       "      <td>4</td>\n",
       "      <td>1</td>\n",
       "      <td>2</td>\n",
       "      <td>2</td>\n",
       "      <td>26</td>\n",
       "      <td>1</td>\n",
       "      <td>2</td>\n",
       "      <td>2</td>\n",
       "      <td>26</td>\n",
       "      <td>1</td>\n",
       "      <td>1</td>\n",
       "    </tr>\n",
       "    <tr>\n",
       "      <th>45955</th>\n",
       "      <td>50210.2600</td>\n",
       "      <td>0.697674</td>\n",
       "      <td>15</td>\n",
       "      <td>1.0</td>\n",
       "      <td>50.0</td>\n",
       "      <td>2</td>\n",
       "      <td>26</td>\n",
       "      <td>3</td>\n",
       "      <td>12</td>\n",
       "      <td>1</td>\n",
       "      <td>3</td>\n",
       "      <td>2</td>\n",
       "      <td>26</td>\n",
       "      <td>1</td>\n",
       "      <td>2</td>\n",
       "      <td>2</td>\n",
       "      <td>26</td>\n",
       "      <td>1</td>\n",
       "      <td>1</td>\n",
       "    </tr>\n",
       "    <tr>\n",
       "      <th>45956</th>\n",
       "      <td>2602.0800</td>\n",
       "      <td>4.850427</td>\n",
       "      <td>18</td>\n",
       "      <td>2.0</td>\n",
       "      <td>94.0</td>\n",
       "      <td>2</td>\n",
       "      <td>26</td>\n",
       "      <td>3</td>\n",
       "      <td>15</td>\n",
       "      <td>1</td>\n",
       "      <td>6</td>\n",
       "      <td>2</td>\n",
       "      <td>26</td>\n",
       "      <td>1</td>\n",
       "      <td>2</td>\n",
       "      <td>3</td>\n",
       "      <td>5</td>\n",
       "      <td>1</td>\n",
       "      <td>0</td>\n",
       "    </tr>\n",
       "  </tbody>\n",
       "</table>\n",
       "<p>6873 rows × 19 columns</p>\n",
       "</div>"
      ],
      "text/plain": [
       "          conv_amt  cust_delay_mean  payment_time  code_cust_payment_terms  \\\n",
       "39061   13617.0400         1.549521            15                     12.0   \n",
       "39062  137722.9500        -1.000000            15                      1.0   \n",
       "39063   44164.8200         1.385455            15                      1.0   \n",
       "39064    2237.4300        -2.138366            15                      3.0   \n",
       "39065   26435.1100         0.635207            15                      6.0   \n",
       "...            ...              ...           ...                      ...   \n",
       "45952   34693.7214         9.449848            11                      2.0   \n",
       "45953    4304.3700         0.406250            15                      1.0   \n",
       "45954   73652.2300         1.000000             7                     50.0   \n",
       "45955   50210.2600         0.697674            15                      1.0   \n",
       "45956    2602.0800         4.850427            18                      2.0   \n",
       "\n",
       "       code_cust_number  posting_date_month  posting_date_day  \\\n",
       "39061              48.0                  12                 9   \n",
       "39062             160.0                  12                 9   \n",
       "39063              12.0                  12                 9   \n",
       "39064               4.0                  12                 9   \n",
       "39065              35.0                  12                 9   \n",
       "...                 ...                 ...               ...   \n",
       "45952               2.0                   2                26   \n",
       "45953              38.0                   2                26   \n",
       "45954             768.0                   2                26   \n",
       "45955              50.0                   2                26   \n",
       "45956              94.0                   2                26   \n",
       "\n",
       "       due_in_date_month  due_in_date_day  due_in_date_quarter  \\\n",
       "39061                 12               24                    4   \n",
       "39062                 12               24                    4   \n",
       "39063                 12               24                    4   \n",
       "39064                 12               24                    4   \n",
       "39065                 12               24                    4   \n",
       "...                  ...              ...                  ...   \n",
       "45952                  3                8                    1   \n",
       "45953                  3               12                    1   \n",
       "45954                  3                4                    1   \n",
       "45955                  3               12                    1   \n",
       "45956                  3               15                    1   \n",
       "\n",
       "       due_in_date_dayofweek  document_create_date_month  \\\n",
       "39061                      1                          12   \n",
       "39062                      1                          12   \n",
       "39063                      1                          12   \n",
       "39064                      1                          12   \n",
       "39065                      1                          12   \n",
       "...                      ...                         ...   \n",
       "45952                      6                           2   \n",
       "45953                      3                           2   \n",
       "45954                      2                           2   \n",
       "45955                      3                           2   \n",
       "45956                      6                           2   \n",
       "\n",
       "       document_create_date_day  document_create_date_quarter  \\\n",
       "39061                         9                             4   \n",
       "39062                         9                             4   \n",
       "39063                         9                             4   \n",
       "39064                         9                             4   \n",
       "39065                         9                             4   \n",
       "...                         ...                           ...   \n",
       "45952                        26                             1   \n",
       "45953                        26                             1   \n",
       "45954                        26                             1   \n",
       "45955                        26                             1   \n",
       "45956                        26                             1   \n",
       "\n",
       "       document_create_date_dayofweek  baseline_create_date_month  \\\n",
       "39061                               0                          12   \n",
       "39062                               0                          12   \n",
       "39063                               0                          12   \n",
       "39064                               0                          12   \n",
       "39065                               0                          12   \n",
       "...                               ...                         ...   \n",
       "45952                               2                           2   \n",
       "45953                               2                           2   \n",
       "45954                               2                           2   \n",
       "45955                               2                           2   \n",
       "45956                               2                           3   \n",
       "\n",
       "       baseline_create_date_day  document_create_is_working  due_in_is_working  \n",
       "39061                         9                           1                  1  \n",
       "39062                         9                           1                  1  \n",
       "39063                         9                           1                  1  \n",
       "39064                         9                           1                  1  \n",
       "39065                         9                           1                  1  \n",
       "...                         ...                         ...                ...  \n",
       "45952                        27                           1                  0  \n",
       "45953                        26                           1                  1  \n",
       "45954                        26                           1                  1  \n",
       "45955                        26                           1                  1  \n",
       "45956                         5                           1                  0  \n",
       "\n",
       "[6873 rows x 19 columns]"
      ]
     },
     "execution_count": 617,
     "metadata": {},
     "output_type": "execute_result"
    }
   ],
   "source": [
    "Xte"
   ]
  },
  {
   "cell_type": "code",
   "execution_count": 613,
   "id": "smaller-liverpool",
   "metadata": {},
   "outputs": [
    {
     "data": {
      "text/html": [
       "<div>\n",
       "<style scoped>\n",
       "    .dataframe tbody tr th:only-of-type {\n",
       "        vertical-align: middle;\n",
       "    }\n",
       "\n",
       "    .dataframe tbody tr th {\n",
       "        vertical-align: top;\n",
       "    }\n",
       "\n",
       "    .dataframe thead th {\n",
       "        text-align: right;\n",
       "    }\n",
       "</style>\n",
       "<table border=\"1\" class=\"dataframe\">\n",
       "  <thead>\n",
       "    <tr style=\"text-align: right;\">\n",
       "      <th></th>\n",
       "      <th>aaa</th>\n",
       "    </tr>\n",
       "  </thead>\n",
       "  <tbody>\n",
       "    <tr>\n",
       "      <th>9</th>\n",
       "      <td>36.967424</td>\n",
       "    </tr>\n",
       "    <tr>\n",
       "      <th>16</th>\n",
       "      <td>52.425210</td>\n",
       "    </tr>\n",
       "    <tr>\n",
       "      <th>19</th>\n",
       "      <td>64.223919</td>\n",
       "    </tr>\n",
       "    <tr>\n",
       "      <th>26</th>\n",
       "      <td>73.089621</td>\n",
       "    </tr>\n",
       "    <tr>\n",
       "      <th>27</th>\n",
       "      <td>73.089621</td>\n",
       "    </tr>\n",
       "    <tr>\n",
       "      <th>...</th>\n",
       "      <td>...</td>\n",
       "    </tr>\n",
       "    <tr>\n",
       "      <th>6854</th>\n",
       "      <td>38.459486</td>\n",
       "    </tr>\n",
       "    <tr>\n",
       "      <th>6856</th>\n",
       "      <td>73.089621</td>\n",
       "    </tr>\n",
       "    <tr>\n",
       "      <th>6861</th>\n",
       "      <td>53.214247</td>\n",
       "    </tr>\n",
       "    <tr>\n",
       "      <th>6868</th>\n",
       "      <td>73.089621</td>\n",
       "    </tr>\n",
       "    <tr>\n",
       "      <th>6872</th>\n",
       "      <td>73.089621</td>\n",
       "    </tr>\n",
       "  </tbody>\n",
       "</table>\n",
       "<p>1355 rows × 1 columns</p>\n",
       "</div>"
      ],
      "text/plain": [
       "            aaa\n",
       "9     36.967424\n",
       "16    52.425210\n",
       "19    64.223919\n",
       "26    73.089621\n",
       "27    73.089621\n",
       "...         ...\n",
       "6854  38.459486\n",
       "6856  73.089621\n",
       "6861  53.214247\n",
       "6868  73.089621\n",
       "6872  73.089621\n",
       "\n",
       "[1355 rows x 1 columns]"
      ]
     },
     "execution_count": 613,
     "metadata": {},
     "output_type": "execute_result"
    }
   ],
   "source": [
    "aaa.loc[aaa[\"aaa\"]>10]"
   ]
  },
  {
   "cell_type": "code",
   "execution_count": 614,
   "id": "found-kernel",
   "metadata": {},
   "outputs": [
    {
     "data": {
      "text/html": [
       "<div>\n",
       "<style scoped>\n",
       "    .dataframe tbody tr th:only-of-type {\n",
       "        vertical-align: middle;\n",
       "    }\n",
       "\n",
       "    .dataframe tbody tr th {\n",
       "        vertical-align: top;\n",
       "    }\n",
       "\n",
       "    .dataframe thead th {\n",
       "        text-align: right;\n",
       "    }\n",
       "</style>\n",
       "<table border=\"1\" class=\"dataframe\">\n",
       "  <thead>\n",
       "    <tr style=\"text-align: right;\">\n",
       "      <th></th>\n",
       "      <th>due_duration</th>\n",
       "    </tr>\n",
       "  </thead>\n",
       "  <tbody>\n",
       "    <tr>\n",
       "      <th>39061</th>\n",
       "      <td>2</td>\n",
       "    </tr>\n",
       "    <tr>\n",
       "      <th>39062</th>\n",
       "      <td>-1</td>\n",
       "    </tr>\n",
       "    <tr>\n",
       "      <th>39063</th>\n",
       "      <td>3</td>\n",
       "    </tr>\n",
       "    <tr>\n",
       "      <th>39064</th>\n",
       "      <td>-4</td>\n",
       "    </tr>\n",
       "    <tr>\n",
       "      <th>39065</th>\n",
       "      <td>0</td>\n",
       "    </tr>\n",
       "    <tr>\n",
       "      <th>...</th>\n",
       "      <td>...</td>\n",
       "    </tr>\n",
       "    <tr>\n",
       "      <th>45952</th>\n",
       "      <td>5</td>\n",
       "    </tr>\n",
       "    <tr>\n",
       "      <th>45953</th>\n",
       "      <td>0</td>\n",
       "    </tr>\n",
       "    <tr>\n",
       "      <th>45954</th>\n",
       "      <td>2</td>\n",
       "    </tr>\n",
       "    <tr>\n",
       "      <th>45955</th>\n",
       "      <td>0</td>\n",
       "    </tr>\n",
       "    <tr>\n",
       "      <th>45956</th>\n",
       "      <td>4</td>\n",
       "    </tr>\n",
       "  </tbody>\n",
       "</table>\n",
       "<p>6873 rows × 1 columns</p>\n",
       "</div>"
      ],
      "text/plain": [
       "       due_duration\n",
       "39061             2\n",
       "39062            -1\n",
       "39063             3\n",
       "39064            -4\n",
       "39065             0\n",
       "...             ...\n",
       "45952             5\n",
       "45953             0\n",
       "45954             2\n",
       "45955             0\n",
       "45956             4\n",
       "\n",
       "[6873 rows x 1 columns]"
      ]
     },
     "execution_count": 614,
     "metadata": {},
     "output_type": "execute_result"
    }
   ],
   "source": [
    "pd.DataFrame(Yte)"
   ]
  },
  {
   "cell_type": "code",
   "execution_count": 543,
   "id": "cardiac-iceland",
   "metadata": {},
   "outputs": [
    {
     "data": {
      "text/html": [
       "<div>\n",
       "<style scoped>\n",
       "    .dataframe tbody tr th:only-of-type {\n",
       "        vertical-align: middle;\n",
       "    }\n",
       "\n",
       "    .dataframe tbody tr th {\n",
       "        vertical-align: top;\n",
       "    }\n",
       "\n",
       "    .dataframe thead th {\n",
       "        text-align: right;\n",
       "    }\n",
       "</style>\n",
       "<table border=\"1\" class=\"dataframe\">\n",
       "  <thead>\n",
       "    <tr style=\"text-align: right;\">\n",
       "      <th></th>\n",
       "      <th>MSE_Score</th>\n",
       "      <th>RMSE_Score</th>\n",
       "      <th>R2_Score</th>\n",
       "      <th>MAE_Score</th>\n",
       "      <th>isTrue</th>\n",
       "      <th>isFalse</th>\n",
       "    </tr>\n",
       "  </thead>\n",
       "  <tbody>\n",
       "    <tr>\n",
       "      <th>0</th>\n",
       "      <td>50.039831</td>\n",
       "      <td>7.073884</td>\n",
       "      <td>-0.001677</td>\n",
       "      <td>3.50773</td>\n",
       "      <td>5068</td>\n",
       "      <td>1805</td>\n",
       "    </tr>\n",
       "  </tbody>\n",
       "</table>\n",
       "</div>"
      ],
      "text/plain": [
       "   MSE_Score  RMSE_Score  R2_Score  MAE_Score  isTrue  isFalse\n",
       "0  50.039831    7.073884 -0.001677    3.50773    5068     1805"
      ]
     },
     "execution_count": 543,
     "metadata": {},
     "output_type": "execute_result"
    }
   ],
   "source": [
    "# Just Combining the Lists into a DataFrame for a Better Visualisation\n",
    "Comp = pd.DataFrame(list(zip(MSE_Score,RMSE_Score, R2_Score,MAE_Score,isTrue,isFalse,AllFeatures)), columns = ['MSE_Score','RMSE_Score', 'R2_Score','MAE_Score','isTrue','isFalse','Allfeatures'])\n",
    "# Score Card\n",
    "Comp[['MSE_Score','RMSE_Score', 'R2_Score','MAE_Score','isTrue','isFalse']]"
   ]
  },
  {
   "cell_type": "code",
   "execution_count": 513,
   "id": "scientific-prince",
   "metadata": {},
   "outputs": [
    {
     "data": {
      "text/plain": [
       "1"
      ]
     },
     "execution_count": 513,
     "metadata": {},
     "output_type": "execute_result"
    }
   ],
   "source": [
    "# len(AllFeatures)"
   ]
  },
  {
   "cell_type": "code",
   "execution_count": 515,
   "id": "spoken-closing",
   "metadata": {},
   "outputs": [],
   "source": [
    "# Xte"
   ]
  },
  {
   "cell_type": "code",
   "execution_count": null,
   "id": "guilty-cigarette",
   "metadata": {},
   "outputs": [],
   "source": []
  },
  {
   "cell_type": "code",
   "execution_count": null,
   "id": "discrete-winter",
   "metadata": {},
   "outputs": [],
   "source": []
  },
  {
   "cell_type": "code",
   "execution_count": null,
   "id": "finished-checklist",
   "metadata": {},
   "outputs": [],
   "source": []
  }
 ],
 "metadata": {
  "kernelspec": {
   "display_name": "Python 3",
   "language": "python",
   "name": "python3"
  },
  "language_info": {
   "codemirror_mode": {
    "name": "ipython",
    "version": 3
   },
   "file_extension": ".py",
   "mimetype": "text/x-python",
   "name": "python",
   "nbconvert_exporter": "python",
   "pygments_lexer": "ipython3",
   "version": "3.8.5"
  }
 },
 "nbformat": 4,
 "nbformat_minor": 5
}
