{
 "cells": [
  {
   "cell_type": "code",
   "execution_count": 1,
   "id": "exclusive-reviewer",
   "metadata": {},
   "outputs": [],
   "source": [
    "import pandas as pd\n",
    "import numpy as np\n",
    "import seaborn as sns\n",
    "from sklearn.model_selection import train_test_split\n",
    "from sklearn.feature_selection import VarianceThreshold\n",
    "from sklearn.preprocessing import OrdinalEncoder\n",
    "from sklearn.preprocessing import OneHotEncoder\n",
    "from sklearn.metrics import mean_absolute_error\n",
    "from sklearn.ensemble import IsolationForest\n",
    "from sklearn.covariance import EllipticEnvelope\n",
    "from sklearn.linear_model import LinearRegression\n",
    "from sklearn.svm import SVR\n",
    "from sklearn.tree import DecisionTreeRegressor\n",
    "from sklearn.ensemble import RandomForestRegressor\n",
    "import xgboost as xgb\n",
    "from sklearn.datasets import load_boston\n",
    "from sklearn.metrics import mean_squared_error\n",
    "from sklearn.metrics import r2_score\n",
    "from sklearn.preprocessing import StandardScaler\n",
    "from sklearn.linear_model import LogisticRegression\n",
    "from sklearn.svm import SVC\n",
    "from sklearn.neighbors import KNeighborsClassifier\n",
    "from sklearn.tree import DecisionTreeClassifier\n",
    "from sklearn.ensemble import RandomForestClassifier\n",
    "from xgboost import XGBClassifier\n",
    "from sklearn.metrics import classification_report, confusion_matrix\n",
    "from sklearn import preprocessing"
   ]
  },
  {
   "cell_type": "code",
   "execution_count": 2,
   "id": "sunrise-federal",
   "metadata": {},
   "outputs": [],
   "source": [
    "data = pd.read_csv('1830151.csv')"
   ]
  },
  {
   "cell_type": "code",
   "execution_count": 3,
   "id": "distinguished-garlic",
   "metadata": {},
   "outputs": [],
   "source": [
    "df=data.copy()"
   ]
  },
  {
   "cell_type": "code",
   "execution_count": 4,
   "id": "impossible-question",
   "metadata": {},
   "outputs": [],
   "source": [
    "df['clear_date']=pd.to_datetime(df['clear_date'])\n",
    "df['posting_date']=pd.to_datetime(df['posting_date'])\n",
    "df['due_in_date']=pd.to_datetime(df['due_in_date'],format='%Y%m%d', errors='ignore')\n",
    "df['document_create_date']=pd.to_datetime(df['document_create_date'],format='%Y%m%d', errors='ignore')\n",
    "df['document_create_date.1']=pd.to_datetime(df['document_create_date.1'],format='%Y%m%d', errors='ignore')\n",
    "df['baseline_create_date']=pd.to_datetime(df['baseline_create_date'], format='%Y%m%d', errors='ignore')\n",
    "df['buisness_year']=df['buisness_year'].astype(int)"
   ]
  },
  {
   "cell_type": "code",
   "execution_count": 5,
   "id": "amateur-shower",
   "metadata": {},
   "outputs": [],
   "source": [
    "df.drop(['document_create_date'],axis=1,inplace=True)\n",
    "df=df.sort_values(by='document_create_date.1',ignore_index=True)\n",
    "df=df.rename(columns={'document_create_date.1':'document_create_date'})"
   ]
  },
  {
   "cell_type": "code",
   "execution_count": 6,
   "id": "above-crown",
   "metadata": {},
   "outputs": [],
   "source": [
    "data_train=df.loc[data['clear_date'].notna()]\n",
    "data_train=data_train.reset_index(drop=True)\n",
    "data_null_cleardate=df.loc[data['clear_date'].isna()]\n",
    "data_null_cleardate=data_null_cleardate.reset_index(drop=True)"
   ]
  },
  {
   "cell_type": "code",
   "execution_count": 7,
   "id": "passive-gambling",
   "metadata": {},
   "outputs": [],
   "source": [
    "df=data_train"
   ]
  },
  {
   "cell_type": "code",
   "execution_count": 8,
   "id": "finite-oxygen",
   "metadata": {},
   "outputs": [],
   "source": [
    "df=(df.loc[df['document_create_date']<=df['posting_date']].loc[df['posting_date']<=df['due_in_date']].loc[df['baseline_create_date']<=df['due_in_date']].loc[df['baseline_create_date']<=df['clear_date']])"
   ]
  },
  {
   "cell_type": "code",
   "execution_count": 9,
   "id": "genuine-specialist",
   "metadata": {},
   "outputs": [],
   "source": [
    "df_data=df.copy()"
   ]
  },
  {
   "cell_type": "code",
   "execution_count": 10,
   "id": "stable-letters",
   "metadata": {},
   "outputs": [],
   "source": [
    "#df=df_data.copy()"
   ]
  },
  {
   "cell_type": "code",
   "execution_count": 11,
   "id": "adverse-lloyd",
   "metadata": {},
   "outputs": [],
   "source": [
    "df['due_duration']=(df['clear_date']-df['due_in_date']).dt.days"
   ]
  },
  {
   "cell_type": "code",
   "execution_count": 12,
   "id": "atlantic-restaurant",
   "metadata": {},
   "outputs": [],
   "source": [
    "df['cust_delay_mean']=df['cust_number'].map(df.groupby('cust_number')['due_duration'].mean())\n",
    "\n",
    "df['payment_time']=(df['due_in_date']-df['document_create_date']).dt.days"
   ]
  },
  {
   "cell_type": "code",
   "execution_count": 13,
   "id": "aging-petite",
   "metadata": {},
   "outputs": [],
   "source": [
    "df=df.drop(['posting_id','area_business','isOpen','clear_date','document type'],axis=1)"
   ]
  },
  {
   "cell_type": "code",
   "execution_count": 14,
   "id": "outer-substitute",
   "metadata": {},
   "outputs": [],
   "source": [
    "#df.drop(['clear_date'],axis=1,inplace=True)"
   ]
  },
  {
   "cell_type": "code",
   "execution_count": 15,
   "id": "sustained-theory",
   "metadata": {},
   "outputs": [
    {
     "data": {
      "text/plain": [
       "((32073, 15), (32073,), (13746, 15), (13746,))"
      ]
     },
     "execution_count": 15,
     "metadata": {},
     "output_type": "execute_result"
    }
   ],
   "source": [
    "x_train, x_test_init, y_train, y_test_init = train_test_split(\n",
    "    df.drop(labels=['due_duration'], axis=1),\n",
    "    df['due_duration'],\n",
    "    test_size=0.3,\n",
    "    shuffle=False)\n",
    "x_train.shape,  y_train.shape, x_test_init.shape, y_test_init.shape"
   ]
  },
  {
   "cell_type": "code",
   "execution_count": 16,
   "id": "comparable-ukraine",
   "metadata": {},
   "outputs": [
    {
     "data": {
      "text/plain": [
       "((6873, 15), (6873, 15), (6873,), (6873,))"
      ]
     },
     "execution_count": 16,
     "metadata": {},
     "output_type": "execute_result"
    }
   ],
   "source": [
    "x_val, x_test = train_test_split(\n",
    "    x_test_init,\n",
    "    test_size=0.5,\n",
    "    shuffle=False)\n",
    "y_val, y_test = train_test_split(\n",
    "y_test_init,\n",
    "    test_size=0.5,\n",
    "    shuffle=False)\n",
    "x_val.shape, x_test.shape,y_val.shape, y_test.shape"
   ]
  },
  {
   "cell_type": "code",
   "execution_count": 46,
   "id": "representative-farmer",
   "metadata": {},
   "outputs": [],
   "source": [
    "df=x_train.copy()"
   ]
  },
  {
   "cell_type": "code",
   "execution_count": 47,
   "id": "manual-dealing",
   "metadata": {},
   "outputs": [],
   "source": [
    "def encoding(df,a):\n",
    "    df_obj=df#[['name_customer','cust_number','cust_payment_terms','business_code','invoice_currency']].copy()\n",
    "    code_invoice_currency = {k: i for i, k in enumerate(a.invoice_currency.unique(), 1)}\n",
    "    df_obj.loc[:, 'code_invoice_currency'] = df_obj.loc[:, 'invoice_currency'].map(code_invoice_currency)\n",
    "\n",
    "    code_business_code = {k: i for i, k in enumerate(a.business_code.unique(), 1)}\n",
    "    df_obj.loc[:, 'code_business_code'] = df_obj.loc[:, 'business_code'].map(code_business_code)\n",
    "\n",
    "    code_cust_payment_terms = {k: i for i, k in enumerate(a.cust_payment_terms.unique(), 1)}\n",
    "    df_obj.loc[:, 'code_cust_payment_terms'] = df_obj.loc[:, 'cust_payment_terms'].map(code_cust_payment_terms)\n",
    "\n",
    "    code_cust_number = {k: i for i, k in enumerate(a.cust_number.unique(), 1)}\n",
    "    df_obj.loc[:, 'code_cust_number'] = df_obj.loc[:, 'cust_number'].map(code_cust_number)\n",
    "\n",
    "    code_name_customer = {k: i for i, k in enumerate(a.name_customer.unique(), 1)}\n",
    "    df_obj.loc[:, 'code_name_customer'] = df_obj.loc[:, 'name_customer'].map(code_name_customer)\n",
    "    \n",
    "    #df['name_customer'],df['cust_number'],df['cust_payment_terms'],df['business_code'],df['invoice_currency']=df_obj.loc[:, 'code_name_customer'],df_obj.loc[:, 'code_cust_number'],df_obj.loc[:, 'code_cust_payment_terms'],df_obj.loc[:, 'code_business_code'],df_obj.loc[:, 'code_invoice_currency']\n",
    "    return df"
   ]
  },
  {
   "cell_type": "code",
   "execution_count": 48,
   "id": "sound-challenge",
   "metadata": {},
   "outputs": [],
   "source": [
    "def dates_feature(df):\n",
    "    df_dates=df\n",
    "    df_dates['posting_date_month'],df_dates['posting_date_day'],df_dates['posting_date_year'],df_dates['posting_date_quarter'],df_dates['posting_date_dayofweek'],df_dates['posting_date_week']=df_dates['posting_date'].dt.month,df_dates['posting_date'].dt.day,df_dates['posting_date'].dt.year,df_dates['posting_date'].dt.quarter,df_dates['posting_date'].dt.dayofweek,df_dates['posting_date'].dt.isocalendar().week.astype(int)\n",
    "    df_dates['due_in_date_month'],df_dates['due_in_date_day'],df_dates['due_in_date_year'],df_dates['due_in_date_quarter'],df_dates['due_in_date_dayofweek'],df_dates['due_in_date_week']=df_dates['due_in_date'].dt.month,df_dates['due_in_date'].dt.day,df_dates['due_in_date'].dt.year,df_dates['due_in_date'].dt.quarter,df_dates['due_in_date'].dt.dayofweek,df_dates['due_in_date'].dt.isocalendar().week.astype(int)\n",
    "    df_dates['document_create_date_month'],df_dates['document_create_date_day'],df_dates['document_create_date_year'],df_dates['document_create_date_quarter'],df_dates['document_create_date_dayofweek'],df_dates['document_create_date_week']=df_dates['document_create_date'].dt.month,df_dates['document_create_date'].dt.day,df_dates['document_create_date'].dt.year,df_dates['document_create_date'].dt.quarter,df_dates['document_create_date'].dt.dayofweek,df_dates['document_create_date'].dt.isocalendar().week.astype(int)\n",
    "    df_dates['baseline_create_date_month'],df_dates['baseline_create_date_day'],df_dates['baseline_create_date_year'],df_dates['baseline_create_date_quarter'],df_dates['baseline_create_date_dayofweek'],df_dates['baseline_create_date_week']=df_dates['baseline_create_date'].dt.month,df_dates['baseline_create_date'].dt.day,df_dates['baseline_create_date'].dt.year,df_dates['baseline_create_date'].dt.quarter,df_dates['baseline_create_date'].dt.dayofweek,df_dates['baseline_create_date'].dt.isocalendar().week.astype(int)\n",
    "    df=df_dates\n",
    "    #df=df.drop(['posting_date','document_create_date','due_in_date','baseline_create_date'],axis=1)\n",
    "    return df"
   ]
  },
  {
   "cell_type": "code",
   "execution_count": 49,
   "id": "disabled-definition",
   "metadata": {},
   "outputs": [],
   "source": [
    "def feature_set(df,a):\n",
    "    df=encoding(df,a)\n",
    "    df=dates_feature(df)\n",
    "    #df.drop(['posting_date','document_create_date','due_in_date','baseline_create_date'],axis=1,inplace=True)\n",
    "    #print(df.head(3))\n",
    "    #df.drop(['buisness_year','code_invoice_currency','code_business_code','due_in_date_year','document_create_date_year'],axis=1,inplace=True)\n",
    "    #print(df.head(3))\n",
    "    #df.drop(['doc_id', 'invoice_id'],axis=1,inplace=True)\n",
    "    df.drop(['name_customer','cust_number','cust_payment_terms','business_code','invoice_currency'],axis=1,inplace=True)\n",
    "    #print(df.head(3))\n",
    "    df=df.drop(['posting_date','document_create_date','due_in_date','baseline_create_date'],axis=1)\n",
    "    df=df.drop(['buisness_year',\n",
    "     'code_invoice_currency',\n",
    "     'code_business_code',\n",
    "     'posting_date_year',\n",
    "     'due_in_date_year',\n",
    "     'document_create_date_year',\n",
    "     'baseline_create_date_year'],axis=1)\n",
    "    df=df.drop(['doc_id', 'invoice_id'],axis=1)\n",
    "    return df"
   ]
  },
  {
   "cell_type": "code",
   "execution_count": 50,
   "id": "clear-priority",
   "metadata": {},
   "outputs": [],
   "source": [
    "df=feature_set(df,x_train)"
   ]
  },
  {
   "cell_type": "code",
   "execution_count": 51,
   "id": "russian-butterfly",
   "metadata": {},
   "outputs": [
    {
     "data": {
      "text/plain": [
       "26"
      ]
     },
     "execution_count": 51,
     "metadata": {},
     "output_type": "execute_result"
    }
   ],
   "source": [
    "df.columns.value_counts().sum()"
   ]
  },
  {
   "cell_type": "code",
   "execution_count": 52,
   "id": "effective-chicago",
   "metadata": {},
   "outputs": [],
   "source": [
    "#df=feature_set(,x_train)"
   ]
  },
  {
   "cell_type": "code",
   "execution_count": 53,
   "id": "diagnostic-behalf",
   "metadata": {},
   "outputs": [],
   "source": [
    "from pandas.api.types import is_numeric_dtype\n",
    "def remove_outlier(df):\n",
    "    low = .05\n",
    "    high = .95\n",
    "    quant_df = df.quantile([low, high])\n",
    "    for name in list(df.columns):\n",
    "        if is_numeric_dtype(df[name]):\n",
    "            df = df[(df[name] > quant_df.loc[low, name]) & (df[name] < quant_df.loc[high, name])]\n",
    "    return df\n",
    "#remove_outlier(df).shape"
   ]
  },
  {
   "cell_type": "code",
   "execution_count": 54,
   "id": "better-great",
   "metadata": {},
   "outputs": [
    {
     "data": {
      "text/plain": [
       "Index(['total_open_amount', 'cust_delay_mean', 'payment_time',\n",
       "       'code_cust_payment_terms', 'code_cust_number', 'code_name_customer',\n",
       "       'posting_date_month', 'posting_date_day', 'posting_date_quarter',\n",
       "       'posting_date_dayofweek', 'posting_date_week', 'due_in_date_month',\n",
       "       'due_in_date_day', 'due_in_date_quarter', 'due_in_date_dayofweek',\n",
       "       'due_in_date_week', 'document_create_date_month',\n",
       "       'document_create_date_day', 'document_create_date_quarter',\n",
       "       'document_create_date_dayofweek', 'document_create_date_week',\n",
       "       'baseline_create_date_month', 'baseline_create_date_day',\n",
       "       'baseline_create_date_quarter', 'baseline_create_date_dayofweek',\n",
       "       'baseline_create_date_week'],\n",
       "      dtype='object')"
      ]
     },
     "execution_count": 54,
     "metadata": {},
     "output_type": "execute_result"
    }
   ],
   "source": [
    "df.columns"
   ]
  },
  {
   "cell_type": "code",
   "execution_count": 55,
   "id": "serious-uncertainty",
   "metadata": {},
   "outputs": [],
   "source": [
    "Xtr=df"
   ]
  },
  {
   "cell_type": "code",
   "execution_count": 27,
   "id": "demanding-memory",
   "metadata": {},
   "outputs": [],
   "source": [
    "def iqr(data):\n",
    "    Q1 = np.percentile(data, 25, interpolation = 'midpoint')  \n",
    "    Q2 = np.percentile(data, 50, interpolation = 'midpoint')  \n",
    "    Q3 = np.percentile(data, 75, interpolation = 'midpoint')  \n",
    "    IQR = Q3 - Q1  \n",
    "    low_lim = Q1 - 1.5 * IQR \n",
    "    up_lim = Q3 + 1.5 * IQR \n",
    "    outlier=[]\n",
    "    for x in data: \n",
    "        if ((x> up_lim) or (x<low_lim)): \n",
    "             outlier.append(x) \n",
    "    print('outlier in the dataset is', len(outlier)) \n",
    "    return low_lim,up_lim"
   ]
  },
  {
   "cell_type": "code",
   "execution_count": 28,
   "id": "interpreted-account",
   "metadata": {},
   "outputs": [],
   "source": [
    "#poi=y_train\n",
    "#low_lim,up_lim=iqr(poi)\n",
    "#for i in df.columns:\n",
    " #   print(i)\n",
    "  #  iqr(df[i])"
   ]
  },
  {
   "cell_type": "code",
   "execution_count": 29,
   "id": "owned-lebanon",
   "metadata": {},
   "outputs": [],
   "source": [
    "def stan(a,n):\n",
    "    if n==1:\n",
    "        scaler = StandardScaler()\n",
    "    elif n==2:\n",
    "        scaler = preprocessing.QuantileTransformer(output_distribution='normal', random_state=0)\n",
    "    return scaler"
   ]
  },
  {
   "cell_type": "code",
   "execution_count": 30,
   "id": "multiple-russian",
   "metadata": {},
   "outputs": [],
   "source": [
    "scaler=stan(df,2)\n",
    "\n",
    "scaler.fit(df)\n",
    "\n",
    "Xtr=scaler.transform(df)"
   ]
  },
  {
   "cell_type": "code",
   "execution_count": 121,
   "id": "alert-playing",
   "metadata": {},
   "outputs": [
    {
     "ename": "AttributeError",
     "evalue": "'numpy.ndarray' object has no attribute 'columns'",
     "output_type": "error",
     "traceback": [
      "\u001b[1;31m---------------------------------------------------------------------------\u001b[0m",
      "\u001b[1;31mAttributeError\u001b[0m                            Traceback (most recent call last)",
      "\u001b[1;32m<ipython-input-121-634e6db21b07>\u001b[0m in \u001b[0;36m<module>\u001b[1;34m\u001b[0m\n\u001b[1;32m----> 1\u001b[1;33m \u001b[0mXtr\u001b[0m\u001b[1;33m.\u001b[0m\u001b[0mcolumns\u001b[0m\u001b[1;33m.\u001b[0m\u001b[0mvalue_counts\u001b[0m\u001b[1;33m(\u001b[0m\u001b[1;33m)\u001b[0m\u001b[1;33m.\u001b[0m\u001b[0msum\u001b[0m\u001b[1;33m(\u001b[0m\u001b[1;33m)\u001b[0m\u001b[1;33m\u001b[0m\u001b[1;33m\u001b[0m\u001b[0m\n\u001b[0m",
      "\u001b[1;31mAttributeError\u001b[0m: 'numpy.ndarray' object has no attribute 'columns'"
     ]
    }
   ],
   "source": [
    "Xtr.columns.value_counts().sum()"
   ]
  },
  {
   "cell_type": "code",
   "execution_count": 37,
   "id": "offshore-glenn",
   "metadata": {},
   "outputs": [],
   "source": [
    "#Xtr=df.copy()"
   ]
  },
  {
   "cell_type": "code",
   "execution_count": 43,
   "id": "wrong-sense",
   "metadata": {},
   "outputs": [],
   "source": [
    "Xte=x_val.copy()"
   ]
  },
  {
   "cell_type": "code",
   "execution_count": 44,
   "id": "spare-montreal",
   "metadata": {},
   "outputs": [],
   "source": [
    "Xte=feature_set(Xte,x_train)"
   ]
  },
  {
   "cell_type": "code",
   "execution_count": 57,
   "id": "lasting-aquarium",
   "metadata": {},
   "outputs": [
    {
     "data": {
      "text/html": [
       "<div>\n",
       "<style scoped>\n",
       "    .dataframe tbody tr th:only-of-type {\n",
       "        vertical-align: middle;\n",
       "    }\n",
       "\n",
       "    .dataframe tbody tr th {\n",
       "        vertical-align: top;\n",
       "    }\n",
       "\n",
       "    .dataframe thead th {\n",
       "        text-align: right;\n",
       "    }\n",
       "</style>\n",
       "<table border=\"1\" class=\"dataframe\">\n",
       "  <thead>\n",
       "    <tr style=\"text-align: right;\">\n",
       "      <th></th>\n",
       "      <th>total_open_amount</th>\n",
       "      <th>cust_delay_mean</th>\n",
       "      <th>payment_time</th>\n",
       "      <th>code_cust_payment_terms</th>\n",
       "      <th>code_cust_number</th>\n",
       "      <th>code_name_customer</th>\n",
       "      <th>posting_date_month</th>\n",
       "      <th>posting_date_day</th>\n",
       "      <th>posting_date_quarter</th>\n",
       "      <th>posting_date_dayofweek</th>\n",
       "      <th>...</th>\n",
       "      <th>document_create_date_month</th>\n",
       "      <th>document_create_date_day</th>\n",
       "      <th>document_create_date_quarter</th>\n",
       "      <th>document_create_date_dayofweek</th>\n",
       "      <th>document_create_date_week</th>\n",
       "      <th>baseline_create_date_month</th>\n",
       "      <th>baseline_create_date_day</th>\n",
       "      <th>baseline_create_date_quarter</th>\n",
       "      <th>baseline_create_date_dayofweek</th>\n",
       "      <th>baseline_create_date_week</th>\n",
       "    </tr>\n",
       "  </thead>\n",
       "  <tbody>\n",
       "    <tr>\n",
       "      <th>1</th>\n",
       "      <td>48419.67</td>\n",
       "      <td>0.541935</td>\n",
       "      <td>15</td>\n",
       "      <td>1</td>\n",
       "      <td>1</td>\n",
       "      <td>1</td>\n",
       "      <td>12</td>\n",
       "      <td>30</td>\n",
       "      <td>4</td>\n",
       "      <td>6</td>\n",
       "      <td>...</td>\n",
       "      <td>12</td>\n",
       "      <td>30</td>\n",
       "      <td>4</td>\n",
       "      <td>6</td>\n",
       "      <td>52</td>\n",
       "      <td>12</td>\n",
       "      <td>30</td>\n",
       "      <td>4</td>\n",
       "      <td>6</td>\n",
       "      <td>52</td>\n",
       "    </tr>\n",
       "    <tr>\n",
       "      <th>2</th>\n",
       "      <td>59427.93</td>\n",
       "      <td>9.142857</td>\n",
       "      <td>10</td>\n",
       "      <td>2</td>\n",
       "      <td>2</td>\n",
       "      <td>2</td>\n",
       "      <td>12</td>\n",
       "      <td>30</td>\n",
       "      <td>4</td>\n",
       "      <td>6</td>\n",
       "      <td>...</td>\n",
       "      <td>12</td>\n",
       "      <td>30</td>\n",
       "      <td>4</td>\n",
       "      <td>6</td>\n",
       "      <td>52</td>\n",
       "      <td>12</td>\n",
       "      <td>30</td>\n",
       "      <td>4</td>\n",
       "      <td>6</td>\n",
       "      <td>52</td>\n",
       "    </tr>\n",
       "    <tr>\n",
       "      <th>3</th>\n",
       "      <td>11309.19</td>\n",
       "      <td>2.368071</td>\n",
       "      <td>15</td>\n",
       "      <td>1</td>\n",
       "      <td>3</td>\n",
       "      <td>3</td>\n",
       "      <td>12</td>\n",
       "      <td>30</td>\n",
       "      <td>4</td>\n",
       "      <td>6</td>\n",
       "      <td>...</td>\n",
       "      <td>12</td>\n",
       "      <td>30</td>\n",
       "      <td>4</td>\n",
       "      <td>6</td>\n",
       "      <td>52</td>\n",
       "      <td>12</td>\n",
       "      <td>30</td>\n",
       "      <td>4</td>\n",
       "      <td>6</td>\n",
       "      <td>52</td>\n",
       "    </tr>\n",
       "    <tr>\n",
       "      <th>4</th>\n",
       "      <td>1248.12</td>\n",
       "      <td>-2.241145</td>\n",
       "      <td>15</td>\n",
       "      <td>3</td>\n",
       "      <td>4</td>\n",
       "      <td>4</td>\n",
       "      <td>12</td>\n",
       "      <td>30</td>\n",
       "      <td>4</td>\n",
       "      <td>6</td>\n",
       "      <td>...</td>\n",
       "      <td>12</td>\n",
       "      <td>30</td>\n",
       "      <td>4</td>\n",
       "      <td>6</td>\n",
       "      <td>52</td>\n",
       "      <td>12</td>\n",
       "      <td>30</td>\n",
       "      <td>4</td>\n",
       "      <td>6</td>\n",
       "      <td>52</td>\n",
       "    </tr>\n",
       "    <tr>\n",
       "      <th>5</th>\n",
       "      <td>1763.96</td>\n",
       "      <td>-2.241145</td>\n",
       "      <td>15</td>\n",
       "      <td>3</td>\n",
       "      <td>4</td>\n",
       "      <td>5</td>\n",
       "      <td>12</td>\n",
       "      <td>30</td>\n",
       "      <td>4</td>\n",
       "      <td>6</td>\n",
       "      <td>...</td>\n",
       "      <td>12</td>\n",
       "      <td>30</td>\n",
       "      <td>4</td>\n",
       "      <td>6</td>\n",
       "      <td>52</td>\n",
       "      <td>12</td>\n",
       "      <td>30</td>\n",
       "      <td>4</td>\n",
       "      <td>6</td>\n",
       "      <td>52</td>\n",
       "    </tr>\n",
       "    <tr>\n",
       "      <th>...</th>\n",
       "      <td>...</td>\n",
       "      <td>...</td>\n",
       "      <td>...</td>\n",
       "      <td>...</td>\n",
       "      <td>...</td>\n",
       "      <td>...</td>\n",
       "      <td>...</td>\n",
       "      <td>...</td>\n",
       "      <td>...</td>\n",
       "      <td>...</td>\n",
       "      <td>...</td>\n",
       "      <td>...</td>\n",
       "      <td>...</td>\n",
       "      <td>...</td>\n",
       "      <td>...</td>\n",
       "      <td>...</td>\n",
       "      <td>...</td>\n",
       "      <td>...</td>\n",
       "      <td>...</td>\n",
       "      <td>...</td>\n",
       "      <td>...</td>\n",
       "    </tr>\n",
       "    <tr>\n",
       "      <th>32182</th>\n",
       "      <td>39618.64</td>\n",
       "      <td>2.391975</td>\n",
       "      <td>15</td>\n",
       "      <td>1</td>\n",
       "      <td>46</td>\n",
       "      <td>648</td>\n",
       "      <td>10</td>\n",
       "      <td>8</td>\n",
       "      <td>4</td>\n",
       "      <td>1</td>\n",
       "      <td>...</td>\n",
       "      <td>10</td>\n",
       "      <td>8</td>\n",
       "      <td>4</td>\n",
       "      <td>1</td>\n",
       "      <td>41</td>\n",
       "      <td>10</td>\n",
       "      <td>8</td>\n",
       "      <td>4</td>\n",
       "      <td>1</td>\n",
       "      <td>41</td>\n",
       "    </tr>\n",
       "    <tr>\n",
       "      <th>32183</th>\n",
       "      <td>62332.70</td>\n",
       "      <td>6.063830</td>\n",
       "      <td>15</td>\n",
       "      <td>1</td>\n",
       "      <td>82</td>\n",
       "      <td>1327</td>\n",
       "      <td>10</td>\n",
       "      <td>8</td>\n",
       "      <td>4</td>\n",
       "      <td>1</td>\n",
       "      <td>...</td>\n",
       "      <td>10</td>\n",
       "      <td>8</td>\n",
       "      <td>4</td>\n",
       "      <td>1</td>\n",
       "      <td>41</td>\n",
       "      <td>10</td>\n",
       "      <td>8</td>\n",
       "      <td>4</td>\n",
       "      <td>1</td>\n",
       "      <td>41</td>\n",
       "    </tr>\n",
       "    <tr>\n",
       "      <th>32184</th>\n",
       "      <td>19033.40</td>\n",
       "      <td>1.425743</td>\n",
       "      <td>15</td>\n",
       "      <td>1</td>\n",
       "      <td>12</td>\n",
       "      <td>937</td>\n",
       "      <td>10</td>\n",
       "      <td>8</td>\n",
       "      <td>4</td>\n",
       "      <td>1</td>\n",
       "      <td>...</td>\n",
       "      <td>10</td>\n",
       "      <td>8</td>\n",
       "      <td>4</td>\n",
       "      <td>1</td>\n",
       "      <td>41</td>\n",
       "      <td>10</td>\n",
       "      <td>8</td>\n",
       "      <td>4</td>\n",
       "      <td>1</td>\n",
       "      <td>41</td>\n",
       "    </tr>\n",
       "    <tr>\n",
       "      <th>32185</th>\n",
       "      <td>8018.58</td>\n",
       "      <td>-6.561039</td>\n",
       "      <td>15</td>\n",
       "      <td>1</td>\n",
       "      <td>33</td>\n",
       "      <td>107</td>\n",
       "      <td>10</td>\n",
       "      <td>8</td>\n",
       "      <td>4</td>\n",
       "      <td>1</td>\n",
       "      <td>...</td>\n",
       "      <td>10</td>\n",
       "      <td>8</td>\n",
       "      <td>4</td>\n",
       "      <td>1</td>\n",
       "      <td>41</td>\n",
       "      <td>10</td>\n",
       "      <td>8</td>\n",
       "      <td>4</td>\n",
       "      <td>1</td>\n",
       "      <td>41</td>\n",
       "    </tr>\n",
       "    <tr>\n",
       "      <th>32186</th>\n",
       "      <td>12753.74</td>\n",
       "      <td>1.040462</td>\n",
       "      <td>15</td>\n",
       "      <td>3</td>\n",
       "      <td>7</td>\n",
       "      <td>11</td>\n",
       "      <td>10</td>\n",
       "      <td>8</td>\n",
       "      <td>4</td>\n",
       "      <td>1</td>\n",
       "      <td>...</td>\n",
       "      <td>10</td>\n",
       "      <td>8</td>\n",
       "      <td>4</td>\n",
       "      <td>1</td>\n",
       "      <td>41</td>\n",
       "      <td>10</td>\n",
       "      <td>8</td>\n",
       "      <td>4</td>\n",
       "      <td>1</td>\n",
       "      <td>41</td>\n",
       "    </tr>\n",
       "  </tbody>\n",
       "</table>\n",
       "<p>32073 rows × 26 columns</p>\n",
       "</div>"
      ],
      "text/plain": [
       "       total_open_amount  cust_delay_mean  payment_time  \\\n",
       "1               48419.67         0.541935            15   \n",
       "2               59427.93         9.142857            10   \n",
       "3               11309.19         2.368071            15   \n",
       "4                1248.12        -2.241145            15   \n",
       "5                1763.96        -2.241145            15   \n",
       "...                  ...              ...           ...   \n",
       "32182           39618.64         2.391975            15   \n",
       "32183           62332.70         6.063830            15   \n",
       "32184           19033.40         1.425743            15   \n",
       "32185            8018.58        -6.561039            15   \n",
       "32186           12753.74         1.040462            15   \n",
       "\n",
       "       code_cust_payment_terms  code_cust_number  code_name_customer  \\\n",
       "1                            1                 1                   1   \n",
       "2                            2                 2                   2   \n",
       "3                            1                 3                   3   \n",
       "4                            3                 4                   4   \n",
       "5                            3                 4                   5   \n",
       "...                        ...               ...                 ...   \n",
       "32182                        1                46                 648   \n",
       "32183                        1                82                1327   \n",
       "32184                        1                12                 937   \n",
       "32185                        1                33                 107   \n",
       "32186                        3                 7                  11   \n",
       "\n",
       "       posting_date_month  posting_date_day  posting_date_quarter  \\\n",
       "1                      12                30                     4   \n",
       "2                      12                30                     4   \n",
       "3                      12                30                     4   \n",
       "4                      12                30                     4   \n",
       "5                      12                30                     4   \n",
       "...                   ...               ...                   ...   \n",
       "32182                  10                 8                     4   \n",
       "32183                  10                 8                     4   \n",
       "32184                  10                 8                     4   \n",
       "32185                  10                 8                     4   \n",
       "32186                  10                 8                     4   \n",
       "\n",
       "       posting_date_dayofweek  ...  document_create_date_month  \\\n",
       "1                           6  ...                          12   \n",
       "2                           6  ...                          12   \n",
       "3                           6  ...                          12   \n",
       "4                           6  ...                          12   \n",
       "5                           6  ...                          12   \n",
       "...                       ...  ...                         ...   \n",
       "32182                       1  ...                          10   \n",
       "32183                       1  ...                          10   \n",
       "32184                       1  ...                          10   \n",
       "32185                       1  ...                          10   \n",
       "32186                       1  ...                          10   \n",
       "\n",
       "       document_create_date_day  document_create_date_quarter  \\\n",
       "1                            30                             4   \n",
       "2                            30                             4   \n",
       "3                            30                             4   \n",
       "4                            30                             4   \n",
       "5                            30                             4   \n",
       "...                         ...                           ...   \n",
       "32182                         8                             4   \n",
       "32183                         8                             4   \n",
       "32184                         8                             4   \n",
       "32185                         8                             4   \n",
       "32186                         8                             4   \n",
       "\n",
       "       document_create_date_dayofweek  document_create_date_week  \\\n",
       "1                                   6                         52   \n",
       "2                                   6                         52   \n",
       "3                                   6                         52   \n",
       "4                                   6                         52   \n",
       "5                                   6                         52   \n",
       "...                               ...                        ...   \n",
       "32182                               1                         41   \n",
       "32183                               1                         41   \n",
       "32184                               1                         41   \n",
       "32185                               1                         41   \n",
       "32186                               1                         41   \n",
       "\n",
       "       baseline_create_date_month  baseline_create_date_day  \\\n",
       "1                              12                        30   \n",
       "2                              12                        30   \n",
       "3                              12                        30   \n",
       "4                              12                        30   \n",
       "5                              12                        30   \n",
       "...                           ...                       ...   \n",
       "32182                          10                         8   \n",
       "32183                          10                         8   \n",
       "32184                          10                         8   \n",
       "32185                          10                         8   \n",
       "32186                          10                         8   \n",
       "\n",
       "       baseline_create_date_quarter  baseline_create_date_dayofweek  \\\n",
       "1                                 4                               6   \n",
       "2                                 4                               6   \n",
       "3                                 4                               6   \n",
       "4                                 4                               6   \n",
       "5                                 4                               6   \n",
       "...                             ...                             ...   \n",
       "32182                             4                               1   \n",
       "32183                             4                               1   \n",
       "32184                             4                               1   \n",
       "32185                             4                               1   \n",
       "32186                             4                               1   \n",
       "\n",
       "       baseline_create_date_week  \n",
       "1                             52  \n",
       "2                             52  \n",
       "3                             52  \n",
       "4                             52  \n",
       "5                             52  \n",
       "...                          ...  \n",
       "32182                         41  \n",
       "32183                         41  \n",
       "32184                         41  \n",
       "32185                         41  \n",
       "32186                         41  \n",
       "\n",
       "[32073 rows x 26 columns]"
      ]
     },
     "execution_count": 57,
     "metadata": {},
     "output_type": "execute_result"
    }
   ],
   "source": [
    "Xtr"
   ]
  },
  {
   "cell_type": "code",
   "execution_count": 45,
   "id": "casual-southeast",
   "metadata": {},
   "outputs": [
    {
     "data": {
      "text/plain": [
       "Index(['total_open_amount', 'cust_delay_mean', 'payment_time',\n",
       "       'code_cust_payment_terms', 'code_cust_number', 'code_name_customer',\n",
       "       'posting_date_month', 'posting_date_day', 'posting_date_quarter',\n",
       "       'posting_date_dayofweek', 'posting_date_week', 'due_in_date_month',\n",
       "       'due_in_date_day', 'due_in_date_quarter', 'due_in_date_dayofweek',\n",
       "       'due_in_date_week', 'document_create_date_month',\n",
       "       'document_create_date_day', 'document_create_date_quarter',\n",
       "       'document_create_date_dayofweek', 'document_create_date_week',\n",
       "       'baseline_create_date_month', 'baseline_create_date_day',\n",
       "       'baseline_create_date_quarter', 'baseline_create_date_dayofweek',\n",
       "       'baseline_create_date_week'],\n",
       "      dtype='object')"
      ]
     },
     "execution_count": 45,
     "metadata": {},
     "output_type": "execute_result"
    }
   ],
   "source": [
    "Xte.columns"
   ]
  },
  {
   "cell_type": "code",
   "execution_count": 33,
   "id": "banner-exercise",
   "metadata": {},
   "outputs": [
    {
     "data": {
      "text/plain": [
       "26"
      ]
     },
     "execution_count": 33,
     "metadata": {},
     "output_type": "execute_result"
    }
   ],
   "source": [
    "Xte.columns.value_counts().sum()"
   ]
  },
  {
   "cell_type": "code",
   "execution_count": 34,
   "id": "thirty-details",
   "metadata": {},
   "outputs": [],
   "source": [
    "#Xte=Xte.drop(['code_name_customer','due_in_date_week','document_create_date_week','code_cust_payment_terms','payment_time'],axis=1)"
   ]
  },
  {
   "cell_type": "code",
   "execution_count": 35,
   "id": "short-brief",
   "metadata": {},
   "outputs": [],
   "source": [
    "Xte['code_cust_payment_terms'].fillna(1,inplace=True)\n",
    "Xte['code_cust_number'].fillna(4,inplace=True)\n",
    "Xte['code_name_customer'].fillna(9,inplace=True)"
   ]
  },
  {
   "cell_type": "code",
   "execution_count": 36,
   "id": "happy-february",
   "metadata": {},
   "outputs": [],
   "source": [
    "#df=Xte\n",
    "#df=df.drop(['posting_date','document_create_date','due_in_date','baseline_create_date'],axis=1)\n",
    "#df=df.drop(['buisness_year',\n",
    " #    'code_invoice_currency',\n",
    "  #   'code_business_code',\n",
    "   #  'posting_date_year',\n",
    "    # 'due_in_date_year',\n",
    "     #'document_create_date_year'],axis=1)\n",
    "#df=df.drop(['doc_id', 'invoice_id'],axis=1)"
   ]
  },
  {
   "cell_type": "code",
   "execution_count": 37,
   "id": "meaning-dominican",
   "metadata": {},
   "outputs": [
    {
     "data": {
      "text/plain": [
       "Index(['total_open_amount', 'cust_delay_mean', 'payment_time',\n",
       "       'code_cust_payment_terms', 'code_cust_number', 'code_name_customer',\n",
       "       'posting_date_month', 'posting_date_day', 'posting_date_quarter',\n",
       "       'posting_date_dayofweek', 'posting_date_week', 'due_in_date_month',\n",
       "       'due_in_date_day', 'due_in_date_quarter', 'due_in_date_dayofweek',\n",
       "       'due_in_date_week', 'document_create_date_month',\n",
       "       'document_create_date_day', 'document_create_date_quarter',\n",
       "       'document_create_date_dayofweek', 'document_create_date_week',\n",
       "       'baseline_create_date_month', 'baseline_create_date_day',\n",
       "       'baseline_create_date_quarter', 'baseline_create_date_dayofweek',\n",
       "       'baseline_create_date_week'],\n",
       "      dtype='object')"
      ]
     },
     "execution_count": 37,
     "metadata": {},
     "output_type": "execute_result"
    }
   ],
   "source": [
    "Xte.columns"
   ]
  },
  {
   "cell_type": "code",
   "execution_count": 38,
   "id": "running-doctrine",
   "metadata": {},
   "outputs": [],
   "source": [
    "Xte=scaler.transform(Xte)"
   ]
  },
  {
   "cell_type": "code",
   "execution_count": 46,
   "id": "numerical-vault",
   "metadata": {},
   "outputs": [],
   "source": [
    "clf = RandomForestRegressor()\n",
    "qwerty=clf.fit(Xtr, y_train)\n",
    "predicted = clf.predict(Xte)\n",
    "predicted1 = clf.predict(Xtr)"
   ]
  },
  {
   "cell_type": "code",
   "execution_count": 39,
   "id": "transparent-scientist",
   "metadata": {},
   "outputs": [],
   "source": [
    "clf = RandomForestRegressor(n_estimators=35,max_depth=30,min_samples_leaf=10,min_samples_split=5)\n",
    "qwerty=clf.fit(Xtr, y_train)\n",
    "predicted = clf.predict(Xte)\n",
    "predicted1 = clf.predict(Xtr)"
   ]
  },
  {
   "cell_type": "code",
   "execution_count": 40,
   "id": "private-jackson",
   "metadata": {},
   "outputs": [
    {
     "name": "stdout",
     "output_type": "stream",
     "text": [
      "0.5880471696846724\n"
     ]
    },
    {
     "data": {
      "text/plain": [
       "0.6723821578108073"
      ]
     },
     "execution_count": 40,
     "metadata": {},
     "output_type": "execute_result"
    }
   ],
   "source": [
    "print(qwerty.score(Xte, y_val))\n",
    "qwerty.score(Xtr, y_train)"
   ]
  },
  {
   "cell_type": "code",
   "execution_count": 58,
   "id": "cardiac-utilization",
   "metadata": {},
   "outputs": [],
   "source": [
    "#Xte.columns"
   ]
  },
  {
   "cell_type": "code",
   "execution_count": 41,
   "id": "speaking-serum",
   "metadata": {},
   "outputs": [
    {
     "name": "stdout",
     "output_type": "stream",
     "text": [
      "20.57953088463652\n",
      "4.536466784253635\n",
      "0.5880471696846724\n",
      "True     5490\n",
      "False    1383\n",
      "dtype: int64\n"
     ]
    },
    {
     "data": {
      "text/plain": [
       "2.49518729768402"
      ]
     },
     "execution_count": 41,
     "metadata": {},
     "output_type": "execute_result"
    }
   ],
   "source": [
    "predicted = clf.predict(Xte)\n",
    "print(mean_squared_error(y_val, predicted))\n",
    "print(np.sqrt(mean_squared_error(y_val, predicted)))\n",
    "print(r2_score(y_val, predicted))\n",
    "print((abs((pd.Series(np.around(predicted)).astype(int)-y_val.reset_index(drop=True)))<4).value_counts())\n",
    "mean_absolute_error(y_val, predicted)"
   ]
  },
  {
   "cell_type": "code",
   "execution_count": 228,
   "id": "modular-building",
   "metadata": {},
   "outputs": [],
   "source": [
    "predicted=pd.DataFrame(predicted)\n",
    "predicted1=pd.DataFrame(predicted1)"
   ]
  },
  {
   "cell_type": "code",
   "execution_count": null,
   "id": "stretch-electron",
   "metadata": {},
   "outputs": [],
   "source": []
  },
  {
   "cell_type": "code",
   "execution_count": 193,
   "id": "martial-angola",
   "metadata": {},
   "outputs": [
    {
     "name": "stdout",
     "output_type": "stream",
     "text": [
      "-12.910066124545677\n",
      "0.965811134378724\n"
     ]
    }
   ],
   "source": [
    "clf = DecisionTreeRegressor(max_depth=27,min_samples_split=2,max_features=5)\n",
    "qwerty=clf.fit(Xtr, y_train)\n",
    "predicted = clf.predict(Xte)\n",
    "print(qwerty.score(Xte, y_val))\n",
    "print(qwerty.score(Xtr, y_train))"
   ]
  },
  {
   "cell_type": "code",
   "execution_count": 195,
   "id": "killing-sound",
   "metadata": {},
   "outputs": [
    {
     "name": "stdout",
     "output_type": "stream",
     "text": [
      "694.8917797173658\n",
      "-12.910066124545677\n",
      "True     3488\n",
      "False    3385\n",
      "dtype: int64\n"
     ]
    },
    {
     "data": {
      "text/plain": [
       "13.369077828030775"
      ]
     },
     "execution_count": 195,
     "metadata": {},
     "output_type": "execute_result"
    }
   ],
   "source": [
    "predicted = clf.predict(Xte)\n",
    "print(mean_squared_error(y_val, predicted))\n",
    "print(r2_score(y_val, predicted))\n",
    "print((abs((pd.Series(np.around(predicted)).astype(int)-y_val.reset_index(drop=True)))<4).value_counts())\n",
    "mean_absolute_error(y_val, predicted)"
   ]
  },
  {
   "cell_type": "code",
   "execution_count": 184,
   "id": "parliamentary-outdoors",
   "metadata": {},
   "outputs": [
    {
     "name": "stdout",
     "output_type": "stream",
     "text": [
      "0.24385275716572094\n"
     ]
    },
    {
     "data": {
      "text/plain": [
       "0.978767187353849"
      ]
     },
     "execution_count": 184,
     "metadata": {},
     "output_type": "execute_result"
    }
   ],
   "source": [
    "classifier = DecisionTreeClassifier(max_depth=27,min_samples_split=2,max_features=5)\n",
    "qwerty=classifier.fit(Xtr, y_train)\n",
    "print(qwerty.score(Xte, y_val))\n",
    "\n",
    "qwerty.score(Xtr, y_train)"
   ]
  },
  {
   "cell_type": "code",
   "execution_count": 192,
   "id": "macro-gather",
   "metadata": {},
   "outputs": [
    {
     "name": "stdout",
     "output_type": "stream",
     "text": [
      "110.05543430816238\n",
      "-1.203045730681672\n",
      "True     4159\n",
      "False    2714\n",
      "dtype: int64\n"
     ]
    },
    {
     "data": {
      "text/plain": [
       "5.034337261748872"
      ]
     },
     "execution_count": 192,
     "metadata": {},
     "output_type": "execute_result"
    }
   ],
   "source": [
    "predicted = classifier.predict(Xte)\n",
    "print(mean_squared_error(y_val, predicted))\n",
    "print(r2_score(y_val, predicted))\n",
    "print((abs((pd.Series(np.around(predicted)).astype(int)-y_val.reset_index(drop=True)))<4).value_counts())\n",
    "mean_absolute_error(y_val, predicted)"
   ]
  },
  {
   "cell_type": "code",
   "execution_count": 179,
   "id": "chubby-charleston",
   "metadata": {},
   "outputs": [
    {
     "name": "stdout",
     "output_type": "stream",
     "text": [
      "0.43474465298996073\n"
     ]
    },
    {
     "data": {
      "text/plain": [
       "0.9261060705266112"
      ]
     },
     "execution_count": 179,
     "metadata": {},
     "output_type": "execute_result"
    }
   ],
   "source": [
    "classifier = RandomForestClassifier(n_estimators=75,max_depth=27,min_samples_split=5,max_features=10)\n",
    "qwerty=classifier.fit(Xtr, y_train)\n",
    "print(qwerty.score(Xte, y_val))\n",
    "\n",
    "qwerty.score(Xtr, y_train)"
   ]
  },
  {
   "cell_type": "code",
   "execution_count": 181,
   "id": "automated-president",
   "metadata": {},
   "outputs": [
    {
     "name": "stdout",
     "output_type": "stream",
     "text": [
      "26.480139676996945\n",
      "0.46993113943001497\n",
      "True     5383\n",
      "False    1490\n",
      "dtype: int64\n"
     ]
    },
    {
     "data": {
      "text/plain": [
       "2.4228139095009458"
      ]
     },
     "execution_count": 181,
     "metadata": {},
     "output_type": "execute_result"
    }
   ],
   "source": [
    "predicted = classifier.predict(Xte)\n",
    "print(mean_squared_error(y_val, predicted))\n",
    "print(r2_score(y_val, predicted))\n",
    "print((abs((pd.Series(np.around(predicted)).astype(int)-y_val.reset_index(drop=True)))<4).value_counts())\n",
    "mean_absolute_error(y_val, predicted)"
   ]
  },
  {
   "cell_type": "code",
   "execution_count": null,
   "id": "geographic-treasury",
   "metadata": {},
   "outputs": [],
   "source": []
  }
 ],
 "metadata": {
  "kernelspec": {
   "display_name": "Python 3",
   "language": "python",
   "name": "python3"
  },
  "language_info": {
   "codemirror_mode": {
    "name": "ipython",
    "version": 3
   },
   "file_extension": ".py",
   "mimetype": "text/x-python",
   "name": "python",
   "nbconvert_exporter": "python",
   "pygments_lexer": "ipython3",
   "version": "3.7.7"
  }
 },
 "nbformat": 4,
 "nbformat_minor": 5
}
