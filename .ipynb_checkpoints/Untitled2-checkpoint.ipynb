{
 "cells": [
  {
   "cell_type": "code",
   "execution_count": 2,
   "id": "rental-think",
   "metadata": {},
   "outputs": [
    {
     "ename": "ModuleNotFoundError",
     "evalue": "No module named 'xgboost'",
     "output_type": "error",
     "traceback": [
      "\u001b[1;31m---------------------------------------------------------------------------\u001b[0m",
      "\u001b[1;31mModuleNotFoundError\u001b[0m                       Traceback (most recent call last)",
      "\u001b[1;32m<ipython-input-2-5f68abce8fcb>\u001b[0m in \u001b[0;36m<module>\u001b[1;34m\u001b[0m\n\u001b[0;32m     13\u001b[0m \u001b[1;32mfrom\u001b[0m \u001b[0msklearn\u001b[0m\u001b[1;33m.\u001b[0m\u001b[0mtree\u001b[0m \u001b[1;32mimport\u001b[0m \u001b[0mDecisionTreeRegressor\u001b[0m\u001b[1;33m\u001b[0m\u001b[1;33m\u001b[0m\u001b[0m\n\u001b[0;32m     14\u001b[0m \u001b[1;32mfrom\u001b[0m \u001b[0msklearn\u001b[0m\u001b[1;33m.\u001b[0m\u001b[0mensemble\u001b[0m \u001b[1;32mimport\u001b[0m \u001b[0mRandomForestRegressor\u001b[0m\u001b[1;33m\u001b[0m\u001b[1;33m\u001b[0m\u001b[0m\n\u001b[1;32m---> 15\u001b[1;33m \u001b[1;32mimport\u001b[0m \u001b[0mxgboost\u001b[0m \u001b[1;32mas\u001b[0m \u001b[0mxgb\u001b[0m\u001b[1;33m\u001b[0m\u001b[1;33m\u001b[0m\u001b[0m\n\u001b[0m\u001b[0;32m     16\u001b[0m \u001b[1;32mfrom\u001b[0m \u001b[0msklearn\u001b[0m\u001b[1;33m.\u001b[0m\u001b[0mdatasets\u001b[0m \u001b[1;32mimport\u001b[0m \u001b[0mload_boston\u001b[0m\u001b[1;33m\u001b[0m\u001b[1;33m\u001b[0m\u001b[0m\n\u001b[0;32m     17\u001b[0m \u001b[1;32mfrom\u001b[0m \u001b[0msklearn\u001b[0m\u001b[1;33m.\u001b[0m\u001b[0mmetrics\u001b[0m \u001b[1;32mimport\u001b[0m \u001b[0mmean_squared_error\u001b[0m\u001b[1;33m\u001b[0m\u001b[1;33m\u001b[0m\u001b[0m\n",
      "\u001b[1;31mModuleNotFoundError\u001b[0m: No module named 'xgboost'"
     ]
    }
   ],
   "source": [
    "import pandas as pd\n",
    "import numpy as np\n",
    "import seaborn as sns\n",
    "from sklearn.model_selection import train_test_split\n",
    "from sklearn.feature_selection import VarianceThreshold\n",
    "from sklearn.preprocessing import OrdinalEncoder\n",
    "from sklearn.preprocessing import OneHotEncoder\n",
    "from sklearn.metrics import mean_absolute_error\n",
    "from sklearn.ensemble import IsolationForest\n",
    "from sklearn.covariance import EllipticEnvelope\n",
    "from sklearn.linear_model import LinearRegression\n",
    "from sklearn.svm import SVR\n",
    "from sklearn.tree import DecisionTreeRegressor\n",
    "from sklearn.ensemble import RandomForestRegressor\n",
    "import xgboost as xgb\n",
    "from sklearn.datasets import load_boston\n",
    "from sklearn.metrics import mean_squared_error\n",
    "from sklearn.metrics import r2_score\n",
    "from sklearn.preprocessing import StandardScaler\n",
    "from sklearn.linear_model import LogisticRegression\n",
    "from sklearn.svm import SVC\n",
    "from sklearn.neighbors import KNeighborsClassifier\n",
    "from sklearn.tree import DecisionTreeClassifier\n",
    "from sklearn.ensemble import RandomForestClassifier\n",
    "from xgboost import XGBClassifier\n",
    "from sklearn.metrics import classification_report, confusion_matrix\n",
    "from sklearn import preprocessing"
   ]
  },
  {
   "cell_type": "code",
   "execution_count": null,
   "id": "structured-filing",
   "metadata": {},
   "outputs": [],
   "source": [
    "data = pd.read_csv('1830151.csv')"
   ]
  },
  {
   "cell_type": "code",
   "execution_count": null,
   "id": "nutritional-tsunami",
   "metadata": {},
   "outputs": [],
   "source": [
    "df=data.copy()"
   ]
  },
  {
   "cell_type": "code",
   "execution_count": null,
   "id": "secure-naples",
   "metadata": {},
   "outputs": [],
   "source": [
    "df['clear_date']=pd.to_datetime(df['clear_date'])\n",
    "df['posting_date']=pd.to_datetime(df['posting_date'])\n",
    "df['due_in_date']=pd.to_datetime(df['due_in_date'],format='%Y%m%d', errors='ignore')\n",
    "df['document_create_date']=pd.to_datetime(df['document_create_date'],format='%Y%m%d', errors='ignore')\n",
    "df['document_create_date.1']=pd.to_datetime(df['document_create_date.1'],format='%Y%m%d', errors='ignore')\n",
    "df['baseline_create_date']=pd.to_datetime(df['baseline_create_date'], format='%Y%m%d', errors='ignore')\n",
    "df['buisness_year']=df['buisness_year'].astype(int)"
   ]
  },
  {
   "cell_type": "code",
   "execution_count": null,
   "id": "insured-track",
   "metadata": {},
   "outputs": [],
   "source": [
    "df.drop(['document_create_date'],axis=1,inplace=True)\n",
    "df=df.sort_values(by='document_create_date.1',ignore_index=True)\n",
    "df=df.rename(columns={'document_create_date.1':'document_create_date'})"
   ]
  },
  {
   "cell_type": "code",
   "execution_count": null,
   "id": "periodic-belle",
   "metadata": {},
   "outputs": [],
   "source": [
    "data_train=df.loc[data['clear_date'].notna()]\n",
    "data_train=data_train.reset_index(drop=True)\n",
    "data_null_cleardate=df.loc[data['clear_date'].isna()]\n",
    "data_null_cleardate=data_null_cleardate.reset_index(drop=True)"
   ]
  },
  {
   "cell_type": "code",
   "execution_count": null,
   "id": "formed-treasurer",
   "metadata": {},
   "outputs": [],
   "source": [
    "df=data_train"
   ]
  },
  {
   "cell_type": "code",
   "execution_count": null,
   "id": "foreign-dylan",
   "metadata": {},
   "outputs": [],
   "source": [
    "df=(df.loc[df['document_create_date']<=df['posting_date']].loc[df['posting_date']<=df['due_in_date']].loc[df['baseline_create_date']<=df['due_in_date']].loc[df['baseline_create_date']<=df['clear_date']])"
   ]
  },
  {
   "cell_type": "code",
   "execution_count": null,
   "id": "figured-academy",
   "metadata": {},
   "outputs": [],
   "source": [
    "df_data=df.copy()"
   ]
  },
  {
   "cell_type": "code",
   "execution_count": 209,
   "id": "hollywood-piece",
   "metadata": {},
   "outputs": [],
   "source": [
    "#df=df_data.copy()"
   ]
  },
  {
   "cell_type": "code",
   "execution_count": 210,
   "id": "religious-democracy",
   "metadata": {},
   "outputs": [],
   "source": [
    "df['due_duration']=(df['clear_date']-df['due_in_date']).dt.days"
   ]
  },
  {
   "cell_type": "code",
   "execution_count": 211,
   "id": "characteristic-binary",
   "metadata": {},
   "outputs": [],
   "source": [
    "df['cust_delay_mean']=df['cust_number'].map(df.groupby('cust_number')['due_duration'].mean())"
   ]
  },
  {
   "cell_type": "code",
   "execution_count": 212,
   "id": "secret-hampshire",
   "metadata": {},
   "outputs": [],
   "source": [
    "df['payment_time']=(df['due_in_date']-df['document_create_date']).dt.days"
   ]
  },
  {
   "cell_type": "code",
   "execution_count": 213,
   "id": "reserved-madness",
   "metadata": {},
   "outputs": [],
   "source": [
    "df=df.drop(['posting_id','area_business','isOpen','clear_date','document type'],axis=1)"
   ]
  },
  {
   "cell_type": "code",
   "execution_count": 214,
   "id": "opened-clear",
   "metadata": {},
   "outputs": [],
   "source": [
    "#df.drop(['clear_date'],axis=1,inplace=True)"
   ]
  },
  {
   "cell_type": "code",
   "execution_count": 215,
   "id": "expensive-audience",
   "metadata": {},
   "outputs": [
    {
     "data": {
      "text/plain": [
       "((32073, 15), (32073,), (13746, 15), (13746,))"
      ]
     },
     "execution_count": 215,
     "metadata": {},
     "output_type": "execute_result"
    }
   ],
   "source": [
    "x_train, x_test_init, y_train, y_test_init = train_test_split(\n",
    "    df.drop(labels=['due_duration'], axis=1),\n",
    "    df['due_duration'],\n",
    "    test_size=0.3,\n",
    "    shuffle=False)\n",
    "x_train.shape,  y_train.shape, x_test_init.shape, y_test_init.shape"
   ]
  },
  {
   "cell_type": "code",
   "execution_count": 216,
   "id": "herbal-working",
   "metadata": {},
   "outputs": [
    {
     "data": {
      "text/plain": [
       "((6873, 15), (6873, 15), (6873,), (6873,))"
      ]
     },
     "execution_count": 216,
     "metadata": {},
     "output_type": "execute_result"
    }
   ],
   "source": [
    "x_val, x_test = train_test_split(\n",
    "    x_test_init,\n",
    "    test_size=0.5,\n",
    "    shuffle=False)\n",
    "y_val, y_test = train_test_split(\n",
    "y_test_init,\n",
    "    test_size=0.5,\n",
    "    shuffle=False)\n",
    "x_val.shape, x_test.shape,y_val.shape, y_test.shape"
   ]
  },
  {
   "cell_type": "code",
   "execution_count": 217,
   "id": "affiliated-property",
   "metadata": {},
   "outputs": [],
   "source": [
    "df=x_train.copy()"
   ]
  },
  {
   "cell_type": "code",
   "execution_count": 218,
   "id": "coordinate-arlington",
   "metadata": {},
   "outputs": [],
   "source": [
    "def encoding(df,a):\n",
    "    df_obj=df#[['name_customer','cust_number','cust_payment_terms','business_code','invoice_currency']].copy()\n",
    "    code_invoice_currency = {k: i for i, k in enumerate(a.invoice_currency.unique(), 1)}\n",
    "    df_obj.loc[:, 'code_invoice_currency'] = df_obj.loc[:, 'invoice_currency'].map(code_invoice_currency)\n",
    "\n",
    "    code_business_code = {k: i for i, k in enumerate(a.business_code.unique(), 1)}\n",
    "    df_obj.loc[:, 'code_business_code'] = df_obj.loc[:, 'business_code'].map(code_business_code)\n",
    "\n",
    "    code_cust_payment_terms = {k: i for i, k in enumerate(a.cust_payment_terms.unique(), 1)}\n",
    "    df_obj.loc[:, 'code_cust_payment_terms'] = df_obj.loc[:, 'cust_payment_terms'].map(code_cust_payment_terms)\n",
    "\n",
    "    code_cust_number = {k: i for i, k in enumerate(a.cust_number.unique(), 1)}\n",
    "    df_obj.loc[:, 'code_cust_number'] = df_obj.loc[:, 'cust_number'].map(code_cust_number)\n",
    "\n",
    "    code_name_customer = {k: i for i, k in enumerate(a.name_customer.unique(), 1)}\n",
    "    df_obj.loc[:, 'code_name_customer'] = df_obj.loc[:, 'name_customer'].map(code_name_customer)\n",
    "    \n",
    "    #df['name_customer'],df['cust_number'],df['cust_payment_terms'],df['business_code'],df['invoice_currency']=df_obj.loc[:, 'code_name_customer'],df_obj.loc[:, 'code_cust_number'],df_obj.loc[:, 'code_cust_payment_terms'],df_obj.loc[:, 'code_business_code'],df_obj.loc[:, 'code_invoice_currency']\n",
    "    return df"
   ]
  },
  {
   "cell_type": "code",
   "execution_count": 219,
   "id": "negative-apple",
   "metadata": {},
   "outputs": [],
   "source": [
    "def dates_feature(df):\n",
    "    df_dates=df\n",
    "    df_dates['posting_date_month'],df_dates['posting_date_day'],df_dates['posting_date_year'],df_dates['posting_date_quarter'],df_dates['posting_date_dayofweek'],df_dates['posting_date_week']=df_dates['posting_date'].dt.month,df_dates['posting_date'].dt.day,df_dates['posting_date'].dt.year,df_dates['posting_date'].dt.quarter,df_dates['posting_date'].dt.dayofweek,df_dates['posting_date'].dt.isocalendar().week.astype(int)\n",
    "    df_dates['due_in_date_month'],df_dates['due_in_date_day'],df_dates['due_in_date_year'],df_dates['due_in_date_quarter'],df_dates['due_in_date_dayofweek'],df_dates['due_in_date_week']=df_dates['due_in_date'].dt.month,df_dates['due_in_date'].dt.day,df_dates['due_in_date'].dt.year,df_dates['due_in_date'].dt.quarter,df_dates['due_in_date'].dt.dayofweek,df_dates['due_in_date'].dt.isocalendar().week.astype(int)\n",
    "    df_dates['document_create_date_month'],df_dates['document_create_date_day'],df_dates['document_create_date_year'],df_dates['document_create_date_quarter'],df_dates['document_create_date_dayofweek'],df_dates['document_create_date_week']=df_dates['document_create_date'].dt.month,df_dates['document_create_date'].dt.day,df_dates['document_create_date'].dt.year,df_dates['document_create_date'].dt.quarter,df_dates['document_create_date'].dt.dayofweek,df_dates['document_create_date'].dt.isocalendar().week.astype(int)\n",
    "    df_dates['baseline_create_date_month'],df_dates['baseline_create_date_day'],df_dates['baseline_create_date_year'],df_dates['baseline_create_date_quarter'],df_dates['baseline_create_date_dayofweek'],df_dates['baseline_create_date_week']=df_dates['baseline_create_date'].dt.month,df_dates['baseline_create_date'].dt.day,df_dates['baseline_create_date'].dt.year,df_dates['baseline_create_date'].dt.quarter,df_dates['baseline_create_date'].dt.dayofweek,df_dates['baseline_create_date'].dt.isocalendar().week.astype(int)\n",
    "    df=df_dates\n",
    "    #df=df.drop(['posting_date','document_create_date','due_in_date','baseline_create_date'],axis=1)\n",
    "    return df"
   ]
  },
  {
   "cell_type": "code",
   "execution_count": 220,
   "id": "contemporary-amount",
   "metadata": {},
   "outputs": [],
   "source": [
    "def feature_set(df,a):\n",
    "    df=encoding(df,a)\n",
    "    df=dates_feature(df)\n",
    "    #df.drop(['posting_date','document_create_date','due_in_date','baseline_create_date'],axis=1,inplace=True)\n",
    "    #print(df.head(3))\n",
    "    #df.drop(['buisness_year','code_invoice_currency','code_business_code','due_in_date_year','document_create_date_year'],axis=1,inplace=True)\n",
    "    #print(df.head(3))\n",
    "    #df.drop(['doc_id', 'invoice_id'],axis=1,inplace=True)\n",
    "    df.drop(['name_customer','cust_number','cust_payment_terms','business_code','invoice_currency'],axis=1,inplace=True)\n",
    "    #print(df.head(3))\n",
    "    df=df.drop(['posting_date','document_create_date','due_in_date','baseline_create_date'],axis=1)\n",
    "    df=df.drop(['buisness_year',\n",
    "     'code_invoice_currency',\n",
    "     'code_business_code',\n",
    "     'posting_date_year',\n",
    "     'due_in_date_year',\n",
    "     'document_create_date_year',\n",
    "     'baseline_create_date_year'],axis=1)\n",
    "    df=df.drop(['doc_id', 'invoice_id'],axis=1)\n",
    "    return df"
   ]
  },
  {
   "cell_type": "code",
   "execution_count": 221,
   "id": "generic-routine",
   "metadata": {},
   "outputs": [],
   "source": [
    "df=feature_set(df,x_train)"
   ]
  },
  {
   "cell_type": "code",
   "execution_count": 222,
   "id": "hollywood-delta",
   "metadata": {},
   "outputs": [
    {
     "data": {
      "text/plain": [
       "26"
      ]
     },
     "execution_count": 222,
     "metadata": {},
     "output_type": "execute_result"
    }
   ],
   "source": [
    "df.columns.value_counts().sum()"
   ]
  },
  {
   "cell_type": "code",
   "execution_count": 223,
   "id": "attached-possible",
   "metadata": {},
   "outputs": [],
   "source": [
    "#df=feature_set(,x_train)"
   ]
  },
  {
   "cell_type": "code",
   "execution_count": 224,
   "id": "hungry-wonder",
   "metadata": {},
   "outputs": [],
   "source": [
    "from pandas.api.types import is_numeric_dtype\n",
    "def remove_outlier(df):\n",
    "    low = .05\n",
    "    high = .95\n",
    "    quant_df = df.quantile([low, high])\n",
    "    for name in list(df.columns):\n",
    "        if is_numeric_dtype(df[name]):\n",
    "            df = df[(df[name] > quant_df.loc[low, name]) & (df[name] < quant_df.loc[high, name])]\n",
    "    return df\n",
    "#remove_outlier(df).shape"
   ]
  },
  {
   "cell_type": "code",
   "execution_count": 225,
   "id": "referenced-communication",
   "metadata": {},
   "outputs": [
    {
     "data": {
      "text/plain": [
       "Index(['total_open_amount', 'cust_delay_mean', 'payment_time',\n",
       "       'code_cust_payment_terms', 'code_cust_number', 'code_name_customer',\n",
       "       'posting_date_month', 'posting_date_day', 'posting_date_quarter',\n",
       "       'posting_date_dayofweek', 'posting_date_week', 'due_in_date_month',\n",
       "       'due_in_date_day', 'due_in_date_quarter', 'due_in_date_dayofweek',\n",
       "       'due_in_date_week', 'document_create_date_month',\n",
       "       'document_create_date_day', 'document_create_date_quarter',\n",
       "       'document_create_date_dayofweek', 'document_create_date_week',\n",
       "       'baseline_create_date_month', 'baseline_create_date_day',\n",
       "       'baseline_create_date_quarter', 'baseline_create_date_dayofweek',\n",
       "       'baseline_create_date_week'],\n",
       "      dtype='object')"
      ]
     },
     "execution_count": 225,
     "metadata": {},
     "output_type": "execute_result"
    }
   ],
   "source": [
    "df.columns"
   ]
  },
  {
   "cell_type": "code",
   "execution_count": 226,
   "id": "extensive-final",
   "metadata": {},
   "outputs": [],
   "source": [
    "Xtr=df"
   ]
  },
  {
   "cell_type": "code",
   "execution_count": 227,
   "id": "prime-presentation",
   "metadata": {},
   "outputs": [],
   "source": [
    "def iqr(data):\n",
    "    Q1 = np.percentile(data, 25, interpolation = 'midpoint')  \n",
    "    Q2 = np.percentile(data, 50, interpolation = 'midpoint')  \n",
    "    Q3 = np.percentile(data, 75, interpolation = 'midpoint')  \n",
    "    IQR = Q3 - Q1  \n",
    "    low_lim = Q1 - 1.5 * IQR \n",
    "    up_lim = Q3 + 1.5 * IQR \n",
    "    outlier=[]\n",
    "    for x in data: \n",
    "        if ((x> up_lim) or (x<low_lim)): \n",
    "             outlier.append(x) \n",
    "    print('outlier in the dataset is', len(outlier)) \n",
    "    return low_lim,up_lim"
   ]
  },
  {
   "cell_type": "code",
   "execution_count": 228,
   "id": "generous-trash",
   "metadata": {},
   "outputs": [],
   "source": [
    "#poi=y_train\n",
    "#low_lim,up_lim=iqr(poi)\n",
    "#for i in df.columns:\n",
    " #   print(i)\n",
    "  #  iqr(df[i])"
   ]
  },
  {
   "cell_type": "code",
   "execution_count": 229,
   "id": "corresponding-austin",
   "metadata": {},
   "outputs": [],
   "source": [
    "def stan(a,n):\n",
    "    if n==1:\n",
    "        scaler = StandardScaler()\n",
    "    elif n==2:\n",
    "        scaler = preprocessing.QuantileTransformer(output_distribution='normal', random_state=0)\n",
    "    return scaler"
   ]
  },
  {
   "cell_type": "code",
   "execution_count": 230,
   "id": "soviet-memphis",
   "metadata": {},
   "outputs": [],
   "source": [
    "#scaler=stan(df,1)"
   ]
  },
  {
   "cell_type": "code",
   "execution_count": 231,
   "id": "upset-birmingham",
   "metadata": {},
   "outputs": [],
   "source": [
    "#scaler.fit(df)"
   ]
  },
  {
   "cell_type": "code",
   "execution_count": 232,
   "id": "worthy-submission",
   "metadata": {},
   "outputs": [],
   "source": [
    "#Xtr=scaler.transform(df)"
   ]
  },
  {
   "cell_type": "code",
   "execution_count": 233,
   "id": "impossible-destination",
   "metadata": {},
   "outputs": [
    {
     "data": {
      "text/plain": [
       "26"
      ]
     },
     "execution_count": 233,
     "metadata": {},
     "output_type": "execute_result"
    }
   ],
   "source": [
    "Xtr.columns.value_counts().sum()"
   ]
  },
  {
   "cell_type": "code",
   "execution_count": 234,
   "id": "interracial-kruger",
   "metadata": {},
   "outputs": [],
   "source": [
    "#Xtr=df.copy()"
   ]
  },
  {
   "cell_type": "code",
   "execution_count": 235,
   "id": "wrong-infrared",
   "metadata": {},
   "outputs": [],
   "source": [
    "Xte=x_val.copy()"
   ]
  },
  {
   "cell_type": "code",
   "execution_count": 236,
   "id": "blocked-scheme",
   "metadata": {},
   "outputs": [],
   "source": [
    "Xte=feature_set(Xte,x_train)"
   ]
  },
  {
   "cell_type": "code",
   "execution_count": 237,
   "id": "proper-writer",
   "metadata": {},
   "outputs": [
    {
     "data": {
      "text/plain": [
       "26"
      ]
     },
     "execution_count": 237,
     "metadata": {},
     "output_type": "execute_result"
    }
   ],
   "source": [
    "Xte.columns.value_counts().sum()"
   ]
  },
  {
   "cell_type": "code",
   "execution_count": 26,
   "id": "official-judgment",
   "metadata": {},
   "outputs": [],
   "source": [
    "Xte=Xte.drop(['code_name_customer','due_in_date_week','document_create_date_week','code_cust_payment_terms','payment_time'],axis=1)"
   ]
  },
  {
   "cell_type": "code",
   "execution_count": 238,
   "id": "pacific-franchise",
   "metadata": {},
   "outputs": [],
   "source": [
    "Xte['code_cust_payment_terms'].fillna(1,inplace=True)\n",
    "Xte['code_cust_number'].fillna(4,inplace=True)\n",
    "Xte['code_name_customer'].fillna(9,inplace=True)"
   ]
  },
  {
   "cell_type": "code",
   "execution_count": 80,
   "id": "offshore-survival",
   "metadata": {},
   "outputs": [],
   "source": [
    "df=Xte\n",
    "#df=df.drop(['posting_date','document_create_date','due_in_date','baseline_create_date'],axis=1)\n",
    "#df=df.drop(['buisness_year',\n",
    " #    'code_invoice_currency',\n",
    "  #   'code_business_code',\n",
    "   #  'posting_date_year',\n",
    "    # 'due_in_date_year',\n",
    "     #'document_create_date_year'],axis=1)\n",
    "#df=df.drop(['doc_id', 'invoice_id'],axis=1)"
   ]
  },
  {
   "cell_type": "code",
   "execution_count": 157,
   "id": "literary-heritage",
   "metadata": {},
   "outputs": [
    {
     "data": {
      "text/plain": [
       "Index(['total_open_amount', 'code_cust_payment_terms', 'code_cust_number',\n",
       "       'code_name_customer', 'posting_date_month', 'posting_date_day',\n",
       "       'posting_date_quarter', 'posting_date_dayofweek', 'posting_date_week',\n",
       "       'due_in_date_month', 'due_in_date_day', 'due_in_date_quarter',\n",
       "       'due_in_date_dayofweek', 'due_in_date_week',\n",
       "       'document_create_date_month', 'document_create_date_day',\n",
       "       'document_create_date_quarter', 'document_create_date_dayofweek',\n",
       "       'document_create_date_week', 'baseline_create_date_month',\n",
       "       'baseline_create_date_day', 'baseline_create_date_quarter',\n",
       "       'baseline_create_date_dayofweek', 'baseline_create_date_week'],\n",
       "      dtype='object')"
      ]
     },
     "execution_count": 157,
     "metadata": {},
     "output_type": "execute_result"
    }
   ],
   "source": [
    "Xte.columns"
   ]
  },
  {
   "cell_type": "code",
   "execution_count": 32,
   "id": "olympic-uganda",
   "metadata": {},
   "outputs": [],
   "source": [
    "Xte=scaler.transform(Xte)"
   ]
  },
  {
   "cell_type": "code",
   "execution_count": 1,
   "id": "potential-portugal",
   "metadata": {},
   "outputs": [
    {
     "ename": "NameError",
     "evalue": "name 'RandomForestRegressor' is not defined",
     "output_type": "error",
     "traceback": [
      "\u001b[1;31m---------------------------------------------------------------------------\u001b[0m",
      "\u001b[1;31mNameError\u001b[0m                                 Traceback (most recent call last)",
      "\u001b[1;32m<ipython-input-1-8dab742bd9f1>\u001b[0m in \u001b[0;36m<module>\u001b[1;34m\u001b[0m\n\u001b[1;32m----> 1\u001b[1;33m \u001b[0mclf\u001b[0m \u001b[1;33m=\u001b[0m \u001b[0mRandomForestRegressor\u001b[0m\u001b[1;33m(\u001b[0m\u001b[1;33m)\u001b[0m\u001b[1;33m\u001b[0m\u001b[1;33m\u001b[0m\u001b[0m\n\u001b[0m\u001b[0;32m      2\u001b[0m \u001b[0mqwerty\u001b[0m\u001b[1;33m=\u001b[0m\u001b[0mclf\u001b[0m\u001b[1;33m.\u001b[0m\u001b[0mfit\u001b[0m\u001b[1;33m(\u001b[0m\u001b[0mXtr\u001b[0m\u001b[1;33m,\u001b[0m \u001b[0my_train\u001b[0m\u001b[1;33m)\u001b[0m\u001b[1;33m\u001b[0m\u001b[1;33m\u001b[0m\u001b[0m\n\u001b[0;32m      3\u001b[0m \u001b[0mpredicted\u001b[0m \u001b[1;33m=\u001b[0m \u001b[0mclf\u001b[0m\u001b[1;33m.\u001b[0m\u001b[0mpredict\u001b[0m\u001b[1;33m(\u001b[0m\u001b[0mXte\u001b[0m\u001b[1;33m)\u001b[0m\u001b[1;33m\u001b[0m\u001b[1;33m\u001b[0m\u001b[0m\n\u001b[0;32m      4\u001b[0m \u001b[0mpredicted1\u001b[0m \u001b[1;33m=\u001b[0m \u001b[0mclf\u001b[0m\u001b[1;33m.\u001b[0m\u001b[0mpredict\u001b[0m\u001b[1;33m(\u001b[0m\u001b[0mXtr\u001b[0m\u001b[1;33m)\u001b[0m\u001b[1;33m\u001b[0m\u001b[1;33m\u001b[0m\u001b[0m\n",
      "\u001b[1;31mNameError\u001b[0m: name 'RandomForestRegressor' is not defined"
     ]
    }
   ],
   "source": [
    "clf = RandomForestRegressor()\n",
    "qwerty=clf.fit(Xtr, y_train)\n",
    "predicted = clf.predict(Xte)\n",
    "predicted1 = clf.predict(Xtr)"
   ]
  },
  {
   "cell_type": "code",
   "execution_count": 246,
   "id": "unlikely-virgin",
   "metadata": {},
   "outputs": [],
   "source": [
    "clf = RandomForestRegressor(n_estimators=35,max_depth=30,min_samples_leaf=10,min_samples_split=5)\n",
    "qwerty=clf.fit(Xtr, y_train)\n",
    "predicted = clf.predict(Xte)\n",
    "predicted1 = clf.predict(Xtr)"
   ]
  },
  {
   "cell_type": "code",
   "execution_count": 248,
   "id": "hybrid-mouth",
   "metadata": {},
   "outputs": [
    {
     "name": "stdout",
     "output_type": "stream",
     "text": [
      "0.5968772500898271\n"
     ]
    },
    {
     "data": {
      "text/plain": [
       "0.6727291168095609"
      ]
     },
     "execution_count": 248,
     "metadata": {},
     "output_type": "execute_result"
    }
   ],
   "source": [
    "print(qwerty.score(Xte, y_val))\n",
    "qwerty.score(Xtr, y_train)"
   ]
  },
  {
   "cell_type": "code",
   "execution_count": 245,
   "id": "breathing-lingerie",
   "metadata": {},
   "outputs": [
    {
     "name": "stdout",
     "output_type": "stream",
     "text": [
      "26.76244151698676\n",
      "5.173242843419083\n",
      "0.4642801339411654\n",
      "True     5250\n",
      "False    1623\n",
      "dtype: int64\n"
     ]
    },
    {
     "data": {
      "text/plain": [
       "2.8486145545370776"
      ]
     },
     "execution_count": 245,
     "metadata": {},
     "output_type": "execute_result"
    }
   ],
   "source": [
    "predicted = clf.predict(Xte)\n",
    "print(mean_squared_error(y_val, predicted))\n",
    "print(np.sqrt(mean_squared_error(y_val, predicted)))\n",
    "print(r2_score(y_val, predicted))\n",
    "print((abs((pd.Series(np.around(predicted)).astype(int)-y_val.reset_index(drop=True)))<4).value_counts())\n",
    "mean_absolute_error(y_val, predicted)"
   ]
  },
  {
   "cell_type": "code",
   "execution_count": 228,
   "id": "female-camel",
   "metadata": {},
   "outputs": [],
   "source": [
    "predicted=pd.DataFrame(predicted)\n",
    "predicted1=pd.DataFrame(predicted1)"
   ]
  },
  {
   "cell_type": "code",
   "execution_count": null,
   "id": "massive-drove",
   "metadata": {},
   "outputs": [],
   "source": []
  },
  {
   "cell_type": "code",
   "execution_count": 193,
   "id": "weekly-riverside",
   "metadata": {},
   "outputs": [
    {
     "name": "stdout",
     "output_type": "stream",
     "text": [
      "-12.910066124545677\n",
      "0.965811134378724\n"
     ]
    }
   ],
   "source": [
    "clf = DecisionTreeRegressor(max_depth=27,min_samples_split=2,max_features=5)\n",
    "qwerty=clf.fit(Xtr, y_train)\n",
    "predicted = clf.predict(Xte)\n",
    "print(qwerty.score(Xte, y_val))\n",
    "print(qwerty.score(Xtr, y_train))"
   ]
  },
  {
   "cell_type": "code",
   "execution_count": 195,
   "id": "collected-newcastle",
   "metadata": {},
   "outputs": [
    {
     "name": "stdout",
     "output_type": "stream",
     "text": [
      "694.8917797173658\n",
      "-12.910066124545677\n",
      "True     3488\n",
      "False    3385\n",
      "dtype: int64\n"
     ]
    },
    {
     "data": {
      "text/plain": [
       "13.369077828030775"
      ]
     },
     "execution_count": 195,
     "metadata": {},
     "output_type": "execute_result"
    }
   ],
   "source": [
    "predicted = clf.predict(Xte)\n",
    "print(mean_squared_error(y_val, predicted))\n",
    "print(r2_score(y_val, predicted))\n",
    "print((abs((pd.Series(np.around(predicted)).astype(int)-y_val.reset_index(drop=True)))<4).value_counts())\n",
    "mean_absolute_error(y_val, predicted)"
   ]
  },
  {
   "cell_type": "code",
   "execution_count": 184,
   "id": "declared-oklahoma",
   "metadata": {},
   "outputs": [
    {
     "name": "stdout",
     "output_type": "stream",
     "text": [
      "0.24385275716572094\n"
     ]
    },
    {
     "data": {
      "text/plain": [
       "0.978767187353849"
      ]
     },
     "execution_count": 184,
     "metadata": {},
     "output_type": "execute_result"
    }
   ],
   "source": [
    "classifier = DecisionTreeClassifier(max_depth=27,min_samples_split=2,max_features=5)\n",
    "qwerty=classifier.fit(Xtr, y_train)\n",
    "print(qwerty.score(Xte, y_val))\n",
    "\n",
    "qwerty.score(Xtr, y_train)"
   ]
  },
  {
   "cell_type": "code",
   "execution_count": 192,
   "id": "labeled-shift",
   "metadata": {},
   "outputs": [
    {
     "name": "stdout",
     "output_type": "stream",
     "text": [
      "110.05543430816238\n",
      "-1.203045730681672\n",
      "True     4159\n",
      "False    2714\n",
      "dtype: int64\n"
     ]
    },
    {
     "data": {
      "text/plain": [
       "5.034337261748872"
      ]
     },
     "execution_count": 192,
     "metadata": {},
     "output_type": "execute_result"
    }
   ],
   "source": [
    "predicted = classifier.predict(Xte)\n",
    "print(mean_squared_error(y_val, predicted))\n",
    "print(r2_score(y_val, predicted))\n",
    "print((abs((pd.Series(np.around(predicted)).astype(int)-y_val.reset_index(drop=True)))<4).value_counts())\n",
    "mean_absolute_error(y_val, predicted)"
   ]
  },
  {
   "cell_type": "code",
   "execution_count": 179,
   "id": "generic-hayes",
   "metadata": {},
   "outputs": [
    {
     "name": "stdout",
     "output_type": "stream",
     "text": [
      "0.43474465298996073\n"
     ]
    },
    {
     "data": {
      "text/plain": [
       "0.9261060705266112"
      ]
     },
     "execution_count": 179,
     "metadata": {},
     "output_type": "execute_result"
    }
   ],
   "source": [
    "classifier = RandomForestClassifier(n_estimators=75,max_depth=27,min_samples_split=5,max_features=10)\n",
    "qwerty=classifier.fit(Xtr, y_train)\n",
    "print(qwerty.score(Xte, y_val))\n",
    "\n",
    "qwerty.score(Xtr, y_train)"
   ]
  },
  {
   "cell_type": "code",
   "execution_count": 181,
   "id": "african-gazette",
   "metadata": {},
   "outputs": [
    {
     "name": "stdout",
     "output_type": "stream",
     "text": [
      "26.480139676996945\n",
      "0.46993113943001497\n",
      "True     5383\n",
      "False    1490\n",
      "dtype: int64\n"
     ]
    },
    {
     "data": {
      "text/plain": [
       "2.4228139095009458"
      ]
     },
     "execution_count": 181,
     "metadata": {},
     "output_type": "execute_result"
    }
   ],
   "source": [
    "predicted = classifier.predict(Xte)\n",
    "print(mean_squared_error(y_val, predicted))\n",
    "print(r2_score(y_val, predicted))\n",
    "print((abs((pd.Series(np.around(predicted)).astype(int)-y_val.reset_index(drop=True)))<4).value_counts())\n",
    "mean_absolute_error(y_val, predicted)"
   ]
  },
  {
   "cell_type": "code",
   "execution_count": null,
   "id": "ignored-convertible",
   "metadata": {},
   "outputs": [],
   "source": []
  }
 ],
 "metadata": {
  "kernelspec": {
   "display_name": "Python 3",
   "language": "python",
   "name": "python3"
  },
  "language_info": {
   "codemirror_mode": {
    "name": "ipython",
    "version": 3
   },
   "file_extension": ".py",
   "mimetype": "text/x-python",
   "name": "python",
   "nbconvert_exporter": "python",
   "pygments_lexer": "ipython3",
   "version": "3.8.5"
  }
 },
 "nbformat": 4,
 "nbformat_minor": 5
}
