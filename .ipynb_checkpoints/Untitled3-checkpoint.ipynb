{
 "cells": [
  {
   "cell_type": "code",
   "execution_count": 135,
   "id": "incredible-component",
   "metadata": {},
   "outputs": [],
   "source": [
    "import pandas as pd\n",
    "import numpy as np\n",
    "import seaborn as sns\n",
    "from sklearn.model_selection import train_test_split\n",
    "from sklearn.feature_selection import VarianceThreshold\n",
    "from sklearn.preprocessing import OrdinalEncoder\n",
    "from sklearn.preprocessing import OneHotEncoder\n",
    "from sklearn.metrics import mean_absolute_error\n",
    "from sklearn.ensemble import IsolationForest\n",
    "from sklearn.covariance import EllipticEnvelope\n",
    "from sklearn.linear_model import LinearRegression\n",
    "from sklearn.svm import SVR\n",
    "from sklearn.tree import DecisionTreeRegressor\n",
    "from sklearn.ensemble import RandomForestRegressor\n",
    "# import xgboost as xgb\n",
    "from sklearn.datasets import load_boston\n",
    "from sklearn.metrics import mean_squared_error\n",
    "from sklearn.metrics import r2_score\n",
    "from sklearn.preprocessing import StandardScaler\n",
    "from sklearn.linear_model import LogisticRegression\n",
    "from sklearn.svm import SVC\n",
    "from sklearn.neighbors import KNeighborsClassifier\n",
    "from sklearn.tree import DecisionTreeClassifier\n",
    "from sklearn.ensemble import RandomForestClassifier\n",
    "# from xgboost import XGBClassifier\n",
    "from sklearn.metrics import classification_report, confusion_matrix\n",
    "from sklearn import preprocessing"
   ]
  },
  {
   "cell_type": "code",
   "execution_count": 136,
   "id": "patent-hearing",
   "metadata": {},
   "outputs": [],
   "source": [
    "data = pd.read_csv('1830151.csv')"
   ]
  },
  {
   "cell_type": "code",
   "execution_count": 177,
   "id": "vocal-sponsorship",
   "metadata": {},
   "outputs": [],
   "source": [
    "df=data.copy()"
   ]
  },
  {
   "cell_type": "code",
   "execution_count": 178,
   "id": "comparable-education",
   "metadata": {},
   "outputs": [],
   "source": [
    "def con_date_time(df):\n",
    "    df['clear_date']=pd.to_datetime(df['clear_date'])\n",
    "    df['posting_date']=pd.to_datetime(df['posting_date'])\n",
    "    df['due_in_date']=pd.to_datetime(df['due_in_date'],format='%Y%m%d', errors='ignore')\n",
    "    df['document_create_date']=pd.to_datetime(df['document_create_date'],format='%Y%m%d', errors='ignore')\n",
    "    df['document_create_date.1']=pd.to_datetime(df['document_create_date.1'],format='%Y%m%d', errors='ignore')\n",
    "    df['baseline_create_date']=pd.to_datetime(df['baseline_create_date'], format='%Y%m%d', errors='ignore')\n",
    "    df['buisness_year']=df['buisness_year'].astype(int)\n",
    "    return None"
   ]
  },
  {
   "cell_type": "code",
   "execution_count": 179,
   "id": "patent-factory",
   "metadata": {},
   "outputs": [],
   "source": [
    "con_date_time(df)"
   ]
  },
  {
   "cell_type": "code",
   "execution_count": 180,
   "id": "familiar-mailing",
   "metadata": {},
   "outputs": [],
   "source": [
    "df.drop(['document_create_date'],axis=1,inplace=True)\n",
    "df=df.sort_values(by='document_create_date.1',ignore_index=True)\n",
    "df=df.rename(columns={'document_create_date.1':'document_create_date'})"
   ]
  },
  {
   "cell_type": "code",
   "execution_count": 181,
   "id": "representative-negative",
   "metadata": {},
   "outputs": [],
   "source": [
    "data_train=df.loc[data['clear_date'].notna()]\n",
    "data_train=data_train.reset_index(drop=True)\n",
    "data_null_cleardate=df.loc[data['clear_date'].isna()]\n",
    "data_null_cleardate=data_null_cleardate.reset_index(drop=True)"
   ]
  },
  {
   "cell_type": "code",
   "execution_count": 182,
   "id": "grateful-ultimate",
   "metadata": {},
   "outputs": [],
   "source": [
    "df=data_train\n",
    "df=(df.loc[df['document_create_date']<=df['posting_date']].loc[df['posting_date']<=df['due_in_date']].loc[df['baseline_create_date']<=df['due_in_date']].loc[df['baseline_create_date']<=df['clear_date']])"
   ]
  },
  {
   "cell_type": "code",
   "execution_count": 183,
   "id": "centered-intelligence",
   "metadata": {},
   "outputs": [],
   "source": [
    "df['due_duration']=(df['clear_date']-df['due_in_date']).dt.days"
   ]
  },
  {
   "cell_type": "code",
   "execution_count": 184,
   "id": "elect-champagne",
   "metadata": {},
   "outputs": [],
   "source": [
    "df=df.drop(['clear_date'],axis=1)"
   ]
  },
  {
   "cell_type": "markdown",
   "id": "sweet-modification",
   "metadata": {},
   "source": [
    "Initial EDA"
   ]
  },
  {
   "cell_type": "code",
   "execution_count": 185,
   "id": "cooked-fitness",
   "metadata": {},
   "outputs": [
    {
     "name": "stdout",
     "output_type": "stream",
     "text": [
      "area_business\n"
     ]
    }
   ],
   "source": [
    "for i in df.columns:\n",
    "    if df[i].isna().any():\n",
    "        print(i)"
   ]
  },
  {
   "cell_type": "code",
   "execution_count": 186,
   "id": "exposed-trinity",
   "metadata": {},
   "outputs": [],
   "source": [
    "df=df.drop(['area_business','isOpen'],axis=1)"
   ]
  },
  {
   "cell_type": "code",
   "execution_count": 187,
   "id": "attempted-accountability",
   "metadata": {},
   "outputs": [],
   "source": [
    "df['conv_amt']=df['total_open_amount'].copy()\n",
    "\n",
    "df.loc[df['invoice_currency']=='CAD','conv_amt']=df.loc[df['invoice_currency']=='CAD','conv_amt']*0.78"
   ]
  },
  {
   "cell_type": "code",
   "execution_count": 188,
   "id": "auburn-lesson",
   "metadata": {},
   "outputs": [],
   "source": [
    "df.drop(['invoice_currency'],axis=1,inplace=True)"
   ]
  },
  {
   "cell_type": "code",
   "execution_count": 189,
   "id": "phantom-collar",
   "metadata": {},
   "outputs": [
    {
     "data": {
      "text/plain": [
       "((32073, 16), (13746, 16))"
      ]
     },
     "execution_count": 189,
     "metadata": {},
     "output_type": "execute_result"
    }
   ],
   "source": [
    "x_train, x_test_init = train_test_split(\n",
    "    df,\n",
    "    test_size=0.3,\n",
    "    shuffle=False)\n",
    "x_train.shape,  x_test_init.shape"
   ]
  },
  {
   "cell_type": "code",
   "execution_count": 190,
   "id": "valued-pocket",
   "metadata": {},
   "outputs": [
    {
     "data": {
      "text/plain": [
       "((6873, 16), (6873, 16))"
      ]
     },
     "execution_count": 190,
     "metadata": {},
     "output_type": "execute_result"
    }
   ],
   "source": [
    "x_val, x_test = train_test_split(\n",
    "    x_test_init,\n",
    "    test_size=0.5,\n",
    "    shuffle=False)\n",
    "\n",
    "x_val.shape, x_test.shape"
   ]
  },
  {
   "cell_type": "code",
   "execution_count": 191,
   "id": "extra-leeds",
   "metadata": {},
   "outputs": [],
   "source": [
    "df=x_train.copy()\n",
    "\n",
    "mapper1=df.groupby('cust_number')['due_duration'].mean()\n",
    "mapper2=df.groupby('name_customer')['due_duration'].mean()\n",
    "\n",
    "df['cust_delay_mean']=df['cust_number'].map(mapper1)\n",
    "df['cust_name_delay_mean']=df['name_customer'].map(mapper2)\n",
    "df['payment_time']=(df['due_in_date']-df['document_create_date']).dt.days\n",
    "\n",
    "#df.columns#.invoice_currency.value_counts()\n",
    "\n",
    "a=df\n",
    "code_business_code = {k: i for i, k in enumerate(a.business_code.unique(), 1)}\n",
    "code_cust_payment_terms = {k: i for i, k in enumerate(a.cust_payment_terms.unique(), 1)}\n",
    "code_cust_number = {k: i for i, k in enumerate(a.cust_number.unique(), 1)}\n",
    "code_name_customer = {k: i for i, k in enumerate(a.name_customer.unique(), 1)}\n",
    "\n",
    "def encoding(df_obj):\n",
    "    df_obj.loc[:, 'code_business_code'] = df_obj.loc[:, 'business_code'].map(code_business_code)\n",
    "    df_obj.loc[:, 'code_cust_payment_terms'] = df_obj.loc[:, 'cust_payment_terms'].map(code_cust_payment_terms)\n",
    "    df_obj.loc[:, 'code_cust_number'] = df_obj.loc[:, 'cust_number'].map(code_cust_number)\n",
    "    df_obj.loc[:, 'code_name_customer'] = df_obj.loc[:, 'name_customer'].map(code_name_customer)\n",
    "    return None\n",
    "\n",
    "def dates_feature(df_dates):\n",
    "    df_dates['posting_date_month'],df_dates['posting_date_day'],df_dates['posting_date_year'],df_dates['posting_date_quarter'],df_dates['posting_date_dayofweek'],df_dates['posting_date_week']=df_dates['posting_date'].dt.month,df_dates['posting_date'].dt.day,df_dates['posting_date'].dt.year,df_dates['posting_date'].dt.quarter,df_dates['posting_date'].dt.dayofweek,df_dates['posting_date'].dt.isocalendar().week.astype(int)\n",
    "    df_dates['due_in_date_month'],df_dates['due_in_date_day'],df_dates['due_in_date_year'],df_dates['due_in_date_quarter'],df_dates['due_in_date_dayofweek'],df_dates['due_in_date_week']=df_dates['due_in_date'].dt.month,df_dates['due_in_date'].dt.day,df_dates['due_in_date'].dt.year,df_dates['due_in_date'].dt.quarter,df_dates['due_in_date'].dt.dayofweek,df_dates['due_in_date'].dt.isocalendar().week.astype(int)\n",
    "    df_dates['document_create_date_month'],df_dates['document_create_date_day'],df_dates['document_create_date_year'],df_dates['document_create_date_quarter'],df_dates['document_create_date_dayofweek'],df_dates['document_create_date_week']=df_dates['document_create_date'].dt.month,df_dates['document_create_date'].dt.day,df_dates['document_create_date'].dt.year,df_dates['document_create_date'].dt.quarter,df_dates['document_create_date'].dt.dayofweek,df_dates['document_create_date'].dt.isocalendar().week.astype(int)\n",
    "    df_dates['baseline_create_date_month'],df_dates['baseline_create_date_day'],df_dates['baseline_create_date_year'],df_dates['baseline_create_date_quarter'],df_dates['baseline_create_date_dayofweek'],df_dates['baseline_create_date_week']=df_dates['baseline_create_date'].dt.month,df_dates['baseline_create_date'].dt.day,df_dates['baseline_create_date'].dt.year,df_dates['baseline_create_date'].dt.quarter,df_dates['baseline_create_date'].dt.dayofweek,df_dates['baseline_create_date'].dt.isocalendar().week.astype(int)\n",
    "    return None\n",
    "\n",
    "encoding(df)\n",
    "dates_feature(df)\n",
    "\n",
    "#df['document_create_date'].dt.day_name()\n",
    "df['document_create_is_working']=np.where(df.document_create_date_dayofweek.isin([5,6]),0,1)\n",
    "df['due_in_is_working']=np.where(df.due_in_date_dayofweek.isin([5,6]),0,1)"
   ]
  },
  {
   "cell_type": "code",
   "execution_count": 192,
   "id": "growing-excerpt",
   "metadata": {},
   "outputs": [],
   "source": [
    "drop=['posting_date','document_create_date','due_in_date','baseline_create_date','name_customer','cust_number','cust_payment_terms','business_code']"
   ]
  },
  {
   "cell_type": "code",
   "execution_count": 193,
   "id": "golden-offset",
   "metadata": {},
   "outputs": [
    {
     "data": {
      "text/plain": [
       "['posting_date',\n",
       " 'document_create_date',\n",
       " 'due_in_date',\n",
       " 'baseline_create_date',\n",
       " 'name_customer',\n",
       " 'cust_number',\n",
       " 'cust_payment_terms',\n",
       " 'business_code']"
      ]
     },
     "execution_count": 193,
     "metadata": {},
     "output_type": "execute_result"
    }
   ],
   "source": [
    "drop\n"
   ]
  },
  {
   "cell_type": "code",
   "execution_count": 194,
   "id": "mighty-temperature",
   "metadata": {},
   "outputs": [],
   "source": [
    "df=df.drop(drop,axis=1)"
   ]
  },
  {
   "cell_type": "code",
   "execution_count": 195,
   "id": "fuzzy-discrimination",
   "metadata": {},
   "outputs": [],
   "source": [
    "modes = {}\n",
    "for i in df.columns:\n",
    "    modes[i]=df[i].mode()"
   ]
  },
  {
   "cell_type": "code",
   "execution_count": 196,
   "id": "german-trainer",
   "metadata": {},
   "outputs": [
    {
     "data": {
      "text/plain": [
       "41"
      ]
     },
     "execution_count": 196,
     "metadata": {},
     "output_type": "execute_result"
    }
   ],
   "source": [
    "df.columns.value_counts().sum()"
   ]
  },
  {
   "cell_type": "code",
   "execution_count": 197,
   "id": "fourth-organizer",
   "metadata": {},
   "outputs": [],
   "source": [
    "Xtr=df.copy()"
   ]
  },
  {
   "cell_type": "code",
   "execution_count": 198,
   "id": "married-projector",
   "metadata": {},
   "outputs": [],
   "source": [
    "q=x_val.copy()"
   ]
  },
  {
   "cell_type": "code",
   "execution_count": 199,
   "id": "registered-demographic",
   "metadata": {},
   "outputs": [],
   "source": [
    "# q.drop(['clear_date','invoice_currency'],axis=1,inplace=True)"
   ]
  },
  {
   "cell_type": "code",
   "execution_count": 200,
   "id": "human-discrimination",
   "metadata": {},
   "outputs": [],
   "source": [
    "# q=q.drop(['area_business','isOpen'],axis=1)"
   ]
  },
  {
   "cell_type": "code",
   "execution_count": 201,
   "id": "apart-alias",
   "metadata": {},
   "outputs": [
    {
     "data": {
      "text/html": [
       "<div>\n",
       "<style scoped>\n",
       "    .dataframe tbody tr th:only-of-type {\n",
       "        vertical-align: middle;\n",
       "    }\n",
       "\n",
       "    .dataframe tbody tr th {\n",
       "        vertical-align: top;\n",
       "    }\n",
       "\n",
       "    .dataframe thead th {\n",
       "        text-align: right;\n",
       "    }\n",
       "</style>\n",
       "<table border=\"1\" class=\"dataframe\">\n",
       "  <thead>\n",
       "    <tr style=\"text-align: right;\">\n",
       "      <th></th>\n",
       "      <th>buisness_year</th>\n",
       "      <th>doc_id</th>\n",
       "      <th>document type</th>\n",
       "      <th>posting_id</th>\n",
       "      <th>total_open_amount</th>\n",
       "      <th>invoice_id</th>\n",
       "      <th>due_duration</th>\n",
       "      <th>conv_amt</th>\n",
       "      <th>cust_delay_mean</th>\n",
       "      <th>cust_name_delay_mean</th>\n",
       "      <th>...</th>\n",
       "      <th>document_create_date_dayofweek</th>\n",
       "      <th>document_create_date_week</th>\n",
       "      <th>baseline_create_date_month</th>\n",
       "      <th>baseline_create_date_day</th>\n",
       "      <th>baseline_create_date_year</th>\n",
       "      <th>baseline_create_date_quarter</th>\n",
       "      <th>baseline_create_date_dayofweek</th>\n",
       "      <th>baseline_create_date_week</th>\n",
       "      <th>document_create_is_working</th>\n",
       "      <th>due_in_is_working</th>\n",
       "    </tr>\n",
       "  </thead>\n",
       "  <tbody>\n",
       "    <tr>\n",
       "      <th>1</th>\n",
       "      <td>2019</td>\n",
       "      <td>1.928537e+09</td>\n",
       "      <td>RV</td>\n",
       "      <td>1.0</td>\n",
       "      <td>48419.67</td>\n",
       "      <td>1.928537e+09</td>\n",
       "      <td>0</td>\n",
       "      <td>48419.67</td>\n",
       "      <td>0.53271</td>\n",
       "      <td>1.145455</td>\n",
       "      <td>...</td>\n",
       "      <td>6</td>\n",
       "      <td>52</td>\n",
       "      <td>12</td>\n",
       "      <td>30</td>\n",
       "      <td>2018</td>\n",
       "      <td>4</td>\n",
       "      <td>6</td>\n",
       "      <td>52</td>\n",
       "      <td>0</td>\n",
       "      <td>1</td>\n",
       "    </tr>\n",
       "  </tbody>\n",
       "</table>\n",
       "<p>1 rows × 41 columns</p>\n",
       "</div>"
      ],
      "text/plain": [
       "   buisness_year        doc_id document type  posting_id  total_open_amount  \\\n",
       "1           2019  1.928537e+09            RV         1.0           48419.67   \n",
       "\n",
       "     invoice_id  due_duration  conv_amt  cust_delay_mean  \\\n",
       "1  1.928537e+09             0  48419.67          0.53271   \n",
       "\n",
       "   cust_name_delay_mean  ...  document_create_date_dayofweek  \\\n",
       "1              1.145455  ...                               6   \n",
       "\n",
       "   document_create_date_week  baseline_create_date_month  \\\n",
       "1                         52                          12   \n",
       "\n",
       "   baseline_create_date_day  baseline_create_date_year  \\\n",
       "1                        30                       2018   \n",
       "\n",
       "   baseline_create_date_quarter  baseline_create_date_dayofweek  \\\n",
       "1                             4                               6   \n",
       "\n",
       "   baseline_create_date_week  document_create_is_working  due_in_is_working  \n",
       "1                         52                           0                  1  \n",
       "\n",
       "[1 rows x 41 columns]"
      ]
     },
     "execution_count": 201,
     "metadata": {},
     "output_type": "execute_result"
    }
   ],
   "source": [
    "df.head(1)"
   ]
  },
  {
   "cell_type": "code",
   "execution_count": 202,
   "id": "regional-bryan",
   "metadata": {},
   "outputs": [],
   "source": [
    "drop.append('document type')"
   ]
  },
  {
   "cell_type": "code",
   "execution_count": 203,
   "id": "short-steal",
   "metadata": {},
   "outputs": [],
   "source": [
    "drop.append('posting_id')"
   ]
  },
  {
   "cell_type": "code",
   "execution_count": 204,
   "id": "cordless-delivery",
   "metadata": {},
   "outputs": [
    {
     "data": {
      "text/plain": [
       "39"
      ]
     },
     "execution_count": 204,
     "metadata": {},
     "output_type": "execute_result"
    }
   ],
   "source": [
    "df=q\n",
    "df['cust_delay_mean']=df['cust_number'].map(mapper1)\n",
    "df['cust_name_delay_mean']=df['name_customer'].map(mapper2)\n",
    "df['payment_time']=(df['due_in_date']-df['document_create_date']).dt.days\n",
    "encoding(df)\n",
    "dates_feature(df)\n",
    "df['document_create_is_working']=np.where(df.document_create_date_dayofweek.isin([5,6]),0,1)\n",
    "df['due_in_is_working']=np.where(df.due_in_date_dayofweek.isin([5,6]),0,1)\n",
    "df=df.drop(drop,axis=1)\n",
    "df.columns.value_counts().sum()"
   ]
  },
  {
   "cell_type": "code",
   "execution_count": 205,
   "id": "going-integration",
   "metadata": {},
   "outputs": [],
   "source": [
    "for i in df.columns:\n",
    "    if df[i].isna().any():\n",
    "        df[i].fillna(int(modes[i]),inplace=True)\n",
    "\n",
    "for i in df.columns:\n",
    "    if df[i].isna().any():\n",
    "        print(i)"
   ]
  },
  {
   "cell_type": "code",
   "execution_count": 206,
   "id": "bearing-rotation",
   "metadata": {},
   "outputs": [],
   "source": [
    "Xval=df.copy()"
   ]
  },
  {
   "cell_type": "code",
   "execution_count": 207,
   "id": "accurate-validation",
   "metadata": {},
   "outputs": [],
   "source": [
    "Xtr_bkp=Xtr.copy()\n",
    "Xval_bkp=Xval.copy()"
   ]
  },
  {
   "cell_type": "code",
   "execution_count": null,
   "id": "meaningful-cache",
   "metadata": {},
   "outputs": [],
   "source": []
  },
  {
   "cell_type": "code",
   "execution_count": null,
   "id": "middle-presence",
   "metadata": {},
   "outputs": [],
   "source": []
  },
  {
   "cell_type": "code",
   "execution_count": 209,
   "id": "applied-transparency",
   "metadata": {},
   "outputs": [],
   "source": [
    "Xtr=Xtr_bkp.copy()\n",
    "Xval=Xval_bkp.copy()\n",
    "\n",
    "Ytr= Xtr['due_duration'].copy()\n",
    "Xtr.drop(['due_duration'],axis=1,inplace=True)\n",
    "\n",
    "Yval= Xval['due_duration'].copy()\n",
    "Xval.drop(['due_duration'],axis=1,inplace=True)"
   ]
  },
  {
   "cell_type": "code",
   "execution_count": 90,
   "id": "increasing-annual",
   "metadata": {},
   "outputs": [],
   "source": [
    "#list(zip(list(Xtr.columns),[1]*len(list(Xtr.columns))))"
   ]
  },
  {
   "cell_type": "code",
   "execution_count": 91,
   "id": "alive-avatar",
   "metadata": {},
   "outputs": [],
   "source": [
    "feature_selection=[      ('buisness_year', 1),\n",
    "                         ('doc_id', 1),\n",
    "                         ('document type', 0),\n",
    "                         ('posting_id', 1),\n",
    "                         ('total_open_amount', 1),\n",
    "                         ('invoice_id', 1),\n",
    "                         ('conv_amt', 1),\n",
    "                         ('cust_delay_mean', 1),\n",
    "                         ('cust_name_delay_mean', 1),\n",
    "                         ('payment_time', 1),\n",
    "                         ('code_business_code', 1),\n",
    "                         ('code_cust_payment_terms', 1),\n",
    "                         ('code_cust_number', 1),\n",
    "                         ('code_name_customer', 1),\n",
    "                         ('posting_date_month', 1),\n",
    "                         ('posting_date_day', 1),\n",
    "                         ('posting_date_year', 1),\n",
    "                         ('posting_date_quarter', 1),\n",
    "                         ('posting_date_dayofweek', 1),\n",
    "                         ('posting_date_week', 1),\n",
    "                         ('due_in_date_month', 1),\n",
    "                         ('due_in_date_day', 1),\n",
    "                         ('due_in_date_year', 1),\n",
    "                         ('due_in_date_quarter', 1),\n",
    "                         ('due_in_date_dayofweek', 1),\n",
    "                         ('due_in_date_week', 1),\n",
    "                         ('document_create_date_month', 1),\n",
    "                         ('document_create_date_day', 1),\n",
    "                         ('document_create_date_year', 1),\n",
    "                         ('document_create_date_quarter', 1),\n",
    "                         ('document_create_date_dayofweek', 1),\n",
    "                         ('document_create_date_week', 1),\n",
    "                         ('baseline_create_date_month', 1),\n",
    "                         ('baseline_create_date_day', 1),\n",
    "                         ('baseline_create_date_year', 1),\n",
    "                         ('baseline_create_date_quarter', 1),\n",
    "                         ('baseline_create_date_dayofweek', 1),\n",
    "                         ('baseline_create_date_week', 1)]"
   ]
  },
  {
   "cell_type": "code",
   "execution_count": 92,
   "id": "permanent-party",
   "metadata": {},
   "outputs": [],
   "source": [
    "feature=[]\n",
    "for i in feature_selection:\n",
    "    if i[1]==1:\n",
    "        feature.append(i[0])"
   ]
  },
  {
   "cell_type": "code",
   "execution_count": 93,
   "id": "stopped-dominican",
   "metadata": {},
   "outputs": [],
   "source": [
    "Xtr=Xtr[feature].copy()\n",
    "Xval=Xval[feature].copy()"
   ]
  },
  {
   "cell_type": "code",
   "execution_count": null,
   "id": "activated-bahrain",
   "metadata": {},
   "outputs": [],
   "source": []
  },
  {
   "cell_type": "markdown",
   "id": "homeless-filename",
   "metadata": {},
   "source": [
    "## Which model to select"
   ]
  },
  {
   "cell_type": "code",
   "execution_count": null,
   "id": "atlantic-dairy",
   "metadata": {
    "id": "uOBVogr9ZbGb"
   },
   "outputs": [],
   "source": [
    "# Defining Lists to Store in the Results and Names of Algorithms\r\n",
    "MSE_Score = []\r\n",
    "R2_Score = []\r\n",
    "Algorithm = []"
   ]
  },
  {
   "cell_type": "markdown",
   "id": "young-distributor",
   "metadata": {
    "id": "vp1XxX-fWvDX"
   },
   "source": [
    "### **1. Linear Regression**"
   ]
  },
  {
   "cell_type": "code",
   "execution_count": null,
   "id": "catholic-poker",
   "metadata": {},
   "outputs": [],
   "source": [
    "# Fitting Simple Linear Regression to the Training Set\n",
    "Algorithm.append('Linear Regression')\n",
    "clf = LinearRegression()\n",
    "clf.fit(Xtr, Ytr)\n",
    "\n",
    "# Predicting the Test Set Results\n",
    "predicted = clf.predict(Xval)"
   ]
  },
  {
   "cell_type": "code",
   "execution_count": null,
   "id": "diverse-traffic",
   "metadata": {},
   "outputs": [],
   "source": [
    "# Appending the Scores For Visualisation at a Later Part\n",
    "MSE_Score.append(mean_squared_error(Yval, predicted))\n",
    "R2_Score.append(r2_score(Yval, predicted))"
   ]
  },
  {
   "cell_type": "markdown",
   "id": "english-howard",
   "metadata": {
    "id": "ojQj8NWVIjau"
   },
   "source": [
    "### **2. Support Vector Regression**"
   ]
  },
  {
   "cell_type": "code",
   "execution_count": null,
   "id": "civilian-grove",
   "metadata": {},
   "outputs": [],
   "source": [
    "# Fitting SVR to the Training Set\n",
    "Algorithm.append('Support Vector Regression')\n",
    "clf = SVR()\n",
    "clf.fit(Xtr, Ytr)\n",
    "\n",
    "# Predicting the Test Set Results\n",
    "predicted = clf.predict(Xval)"
   ]
  },
  {
   "cell_type": "code",
   "execution_count": null,
   "id": "interim-avatar",
   "metadata": {},
   "outputs": [],
   "source": [
    "# Appending the Scores For Visualisation at a Later Part\n",
    "MSE_Score.append(mean_squared_error(Yval, predicted))\n",
    "R2_Score.append(r2_score(Yval, predicted))"
   ]
  },
  {
   "cell_type": "markdown",
   "id": "dental-trial",
   "metadata": {
    "id": "7EJpSFaVatzN"
   },
   "source": [
    "### **3. Decision Tree Regressor**"
   ]
  },
  {
   "cell_type": "code",
   "execution_count": null,
   "id": "million-forge",
   "metadata": {},
   "outputs": [],
   "source": [
    "# Fitting Decision Tree to the Training Set\n",
    "Algorithm.append('Decision Tree Regressor')\n",
    "clf = DecisionTreeRegressor()\n",
    "clf.fit(Xtr, Ytr)\n",
    "\n",
    "# Predicting the Test Set Results\n",
    "predicted = clf.predict(Xval)"
   ]
  },
  {
   "cell_type": "code",
   "execution_count": null,
   "id": "complex-technician",
   "metadata": {},
   "outputs": [],
   "source": [
    "# Appending the Scores For Visualisation at a Later Part\n",
    "MSE_Score.append(mean_squared_error(Yval, predicted))\n",
    "R2_Score.append(r2_score(Yval, predicted))"
   ]
  },
  {
   "cell_type": "markdown",
   "id": "essential-advantage",
   "metadata": {
    "id": "ksCC-RIAbIG2"
   },
   "source": [
    "### **4. Random Forest Regressor**"
   ]
  },
  {
   "cell_type": "code",
   "execution_count": 94,
   "id": "ahead-racing",
   "metadata": {},
   "outputs": [],
   "source": [
    "# Fitting Random Forest Regressor Tree to the Training Set\n",
    "Algorithm.append('Random Forest Regressor')\n",
    "clf = RandomForestRegressor()\n",
    "clf.fit(Xtr, Ytr)\n",
    "\n",
    "# Predicting the Test Set Results\n",
    "predicted = clf.predict(Xval)"
   ]
  },
  {
   "cell_type": "code",
   "execution_count": 95,
   "id": "romantic-hartford",
   "metadata": {},
   "outputs": [],
   "source": [
    "# Appending the Scores For Visualisation at a Later Part\n",
    "MSE_Score.append(mean_squared_error(Yval, predicted))\n",
    "R2_Score.append(r2_score(Yval, predicted))"
   ]
  },
  {
   "cell_type": "markdown",
   "id": "billion-scanning",
   "metadata": {
    "id": "MBOTeu_2bm4z"
   },
   "source": [
    "### **5. XGB Regressor**"
   ]
  },
  {
   "cell_type": "code",
   "execution_count": null,
   "id": "confused-hurricane",
   "metadata": {},
   "outputs": [],
   "source": [
    "# Fitting XGBoost Regressor to the Training Set\n",
    "Algorithm.append('XGB Regressor')\n",
    "clf = xgb.XGBRegressor(objective ='reg:squarederror')\n",
    "clf.fit(Xtr, Ytr)\n",
    "\n",
    "# Predicting the Test Set Results\n",
    "predicted = clf.predict(Xval)"
   ]
  },
  {
   "cell_type": "code",
   "execution_count": null,
   "id": "direct-juvenile",
   "metadata": {},
   "outputs": [],
   "source": [
    "# Appending the Scores For Visualisation at a Later Part\n",
    "MSE_Score.append(mean_squared_error(Yval, predicted))\n",
    "R2_Score.append(r2_score(Yval, predicted))"
   ]
  },
  {
   "cell_type": "markdown",
   "id": "immune-wales",
   "metadata": {
    "id": "SRE03p_kb9HN"
   },
   "source": [
    "## Score Card of the Models' Performances"
   ]
  },
  {
   "cell_type": "code",
   "execution_count": 96,
   "id": "sacred-desire",
   "metadata": {
    "id": "gxfNe_TQcApv"
   },
   "outputs": [],
   "source": [
    "# Just Combining the Lists into a DataFrame for a Better Visualisation\r\n",
    "Comparison = pd.DataFrame(list(zip(Algorithm, MSE_Score, R2_Score)), columns = ['Algorithm', 'MSE_Score', 'R2_Score'])"
   ]
  },
  {
   "cell_type": "code",
   "execution_count": 97,
   "id": "competent-hungary",
   "metadata": {
    "colab": {
     "base_uri": "https://localhost:8080/",
     "height": 195
    },
    "executionInfo": {
     "elapsed": 1192,
     "status": "ok",
     "timestamp": 1611759679889,
     "user": {
      "displayName": "Rahul Bordoloi",
      "photoUrl": "https://lh3.googleusercontent.com/a-/AOh14GirWCKjUT8HqA5DdsOMEhU61c1-KM-xB2-aWJyycg=s64",
      "userId": "05105438493163495574"
     },
     "user_tz": -330
    },
    "id": "ijpK26_lceL6",
    "outputId": "467c2450-6c94-4e8c-ec67-ef42f1915e09"
   },
   "outputs": [
    {
     "data": {
      "text/html": [
       "<div>\n",
       "<style scoped>\n",
       "    .dataframe tbody tr th:only-of-type {\n",
       "        vertical-align: middle;\n",
       "    }\n",
       "\n",
       "    .dataframe tbody tr th {\n",
       "        vertical-align: top;\n",
       "    }\n",
       "\n",
       "    .dataframe thead th {\n",
       "        text-align: right;\n",
       "    }\n",
       "</style>\n",
       "<table border=\"1\" class=\"dataframe\">\n",
       "  <thead>\n",
       "    <tr style=\"text-align: right;\">\n",
       "      <th></th>\n",
       "      <th>Algorithm</th>\n",
       "      <th>MSE_Score</th>\n",
       "      <th>R2_Score</th>\n",
       "    </tr>\n",
       "  </thead>\n",
       "  <tbody>\n",
       "    <tr>\n",
       "      <th>0</th>\n",
       "      <td>Random Forest Regressor</td>\n",
       "      <td>32.477586</td>\n",
       "      <td>0.349877</td>\n",
       "    </tr>\n",
       "  </tbody>\n",
       "</table>\n",
       "</div>"
      ],
      "text/plain": [
       "                 Algorithm  MSE_Score  R2_Score\n",
       "0  Random Forest Regressor  32.477586  0.349877"
      ]
     },
     "execution_count": 97,
     "metadata": {},
     "output_type": "execute_result"
    }
   ],
   "source": [
    "# Score Card\r\n",
    "Comparison"
   ]
  },
  {
   "cell_type": "markdown",
   "id": "lyric-stretch",
   "metadata": {},
   "source": [
    "## Random Forest"
   ]
  },
  {
   "cell_type": "code",
   "execution_count": 210,
   "id": "polished-empire",
   "metadata": {},
   "outputs": [],
   "source": [
    "MSE_Score = []\n",
    "R2_Score = []\n",
    "Algorithm = []\n",
    "MAE_Score = []\n",
    "RMSE_Score = []\n",
    "isTrue = []\n",
    "isFalse = []\n",
    "AllFeatures = []"
   ]
  },
  {
   "cell_type": "code",
   "execution_count": 211,
   "id": "fundamental-think",
   "metadata": {},
   "outputs": [],
   "source": [
    "Xtr=Xtr_bkp.copy()\n",
    "Xval=Xval_bkp.copy()"
   ]
  },
  {
   "cell_type": "code",
   "execution_count": 212,
   "id": "medium-conversion",
   "metadata": {},
   "outputs": [],
   "source": [
    "Ytr= Xtr['due_duration'].copy()\n",
    "Xtr.drop(['due_duration'],axis=1,inplace=True)"
   ]
  },
  {
   "cell_type": "code",
   "execution_count": 213,
   "id": "tracked-button",
   "metadata": {},
   "outputs": [],
   "source": [
    "Yval= Xval['due_duration'].copy()\n",
    "Xval.drop(['due_duration'],axis=1,inplace=True)"
   ]
  },
  {
   "cell_type": "code",
   "execution_count": 214,
   "id": "applicable-mathematics",
   "metadata": {},
   "outputs": [],
   "source": [
    "#list(zip(list(Xtr.columns),[1]*len(list(Xtr.columns))))"
   ]
  },
  {
   "cell_type": "code",
   "execution_count": 215,
   "id": "breathing-generic",
   "metadata": {},
   "outputs": [],
   "source": [
    "feature_selection=[      ('buisness_year', 0),\n",
    "                         ('doc_id', 0),\n",
    "                         ('document type', 0),\n",
    "                         ('posting_id', 0),\n",
    "                         ('total_open_amount', 0),\n",
    "                         ('invoice_id', 0),\n",
    "                         ('conv_amt', 1),\n",
    "                         ('cust_delay_mean', 1),\n",
    "                         ('cust_name_delay_mean', 0),\n",
    "                         ('payment_time', 1),\n",
    "                         ('code_business_code', 0),\n",
    "                         ('code_cust_payment_terms', 1),\n",
    "                         ('code_cust_number', 1),\n",
    "                         ('code_name_customer', 0),\n",
    "                         ('posting_date_month', 1),\n",
    "                         ('posting_date_day', 1),\n",
    "                         ('posting_date_year', 0),\n",
    "                         ('posting_date_quarter', 0),\n",
    "                         ('posting_date_dayofweek', 0),\n",
    "                         ('posting_date_week', 0),\n",
    "                         ('due_in_date_month', 1),\n",
    "                         ('due_in_date_day', 1),\n",
    "                         ('due_in_date_year', 0),\n",
    "                         ('due_in_date_quarter', 1),\n",
    "                         ('due_in_date_dayofweek', 1),\n",
    "                         ('due_in_date_week', 0),\n",
    "                         ('document_create_date_month', 1),\n",
    "                         ('document_create_date_day', 1),\n",
    "                         ('document_create_date_year', 0),\n",
    "                         ('document_create_date_quarter', 1),\n",
    "                         ('document_create_date_dayofweek', 1),\n",
    "                         ('document_create_date_week', 0),\n",
    "                         ('baseline_create_date_month', 1),\n",
    "                         ('baseline_create_date_day', 1),\n",
    "                         ('baseline_create_date_year', 0),\n",
    "                         ('baseline_create_date_quarter', 0),\n",
    "                         ('baseline_create_date_dayofweek', 0),\n",
    "                         ('baseline_create_date_week', 0),\n",
    "                         ('document_create_is_working', 1),\n",
    "                         ('due_in_is_working', 1)]"
   ]
  },
  {
   "cell_type": "code",
   "execution_count": 216,
   "id": "bound-quantity",
   "metadata": {},
   "outputs": [],
   "source": [
    "feature=[]\n",
    "for i in feature_selection:\n",
    "    if i[1]==1:\n",
    "        feature.append(i[0])"
   ]
  },
  {
   "cell_type": "code",
   "execution_count": 217,
   "id": "applied-horizontal",
   "metadata": {},
   "outputs": [],
   "source": [
    "AllFeatures.append(feature)"
   ]
  },
  {
   "cell_type": "code",
   "execution_count": 218,
   "id": "fixed-injection",
   "metadata": {},
   "outputs": [],
   "source": [
    "Xtr=Xtr[feature].copy()\n",
    "Xval=Xval[feature].copy()"
   ]
  },
  {
   "cell_type": "code",
   "execution_count": 219,
   "id": "signed-movie",
   "metadata": {},
   "outputs": [],
   "source": [
    "def stan(a,n):\n",
    "    if n==1:\n",
    "        scaler = StandardScaler()\n",
    "    elif n==2:\n",
    "        scaler = preprocessing.QuantileTransformer(output_distribution='normal', random_state=0)\n",
    "    return scaler"
   ]
  },
  {
   "cell_type": "code",
   "execution_count": 220,
   "id": "focused-landscape",
   "metadata": {},
   "outputs": [],
   "source": [
    "df=Xtr\n",
    "scaler=stan(df,2)\n",
    "scaler.fit(df)\n",
    "Xtr=scaler.transform(df)\n",
    "df=Xval\n",
    "scaler=stan(df,2)\n",
    "scaler.fit(df)\n",
    "Xval=scaler.transform(df)"
   ]
  },
  {
   "cell_type": "code",
   "execution_count": 221,
   "id": "elegant-browse",
   "metadata": {},
   "outputs": [],
   "source": [
    "# n_estimators=35,max_depth=30,min_samples_leaf=10,min_samples_split=5\n",
    "# n_estimators=45,max_depth=35,min_samples_leaf=15,min_samples_split=10"
   ]
  },
  {
   "cell_type": "code",
   "execution_count": 50,
   "id": "unlikely-master",
   "metadata": {},
   "outputs": [],
   "source": [
    "valS=[]\n",
    "TrS=[]\n",
    "n_e=[]\n",
    "m_d=[]\n",
    "m_s=[]\n",
    "m_l=[]"
   ]
  },
  {
   "cell_type": "code",
   "execution_count": 222,
   "id": "transsexual-attraction",
   "metadata": {},
   "outputs": [],
   "source": [
    "n_e.append(45)\n",
    "m_d.append(55)\n",
    "m_s.append(25)\n",
    "m_l.append(15)"
   ]
  },
  {
   "cell_type": "code",
   "execution_count": null,
   "id": "imported-disease",
   "metadata": {},
   "outputs": [],
   "source": [
    "# Fitting Random Forest Regressor Tree to the Training Set\n",
    "#Algorithm.append('Random Forest Regressor')\n",
    "clf = RandomForestRegressor(n_estimators=n_e[-1],max_depth=m_d[-1],min_samples_leaf=m_s[-1],min_samples_split=m_l[-1])\n",
    "qwerty=clf.fit(Xtr, Ytr)\n"
   ]
  },
  {
   "cell_type": "code",
   "execution_count": 231,
   "id": "employed-valuable",
   "metadata": {},
   "outputs": [],
   "source": [
    "# Ytr"
   ]
  },
  {
   "cell_type": "code",
   "execution_count": 233,
   "id": "emotional-kennedy",
   "metadata": {},
   "outputs": [],
   "source": [
    "clf = RandomForestRegressor(n_estimators=n_e[-1],max_depth=m_d[-1],min_samples_leaf=m_s[-1],min_samples_split=m_l[-1])\n",
    "qwerty=clf.fit(Xtr, Ytr)"
   ]
  },
  {
   "cell_type": "code",
   "execution_count": 234,
   "id": "comprehensive-fashion",
   "metadata": {},
   "outputs": [],
   "source": [
    "# Xval=xv.copy()\n",
    "# Xval=x_val.copy()\n",
    "#Xval=xv.copy()"
   ]
  },
  {
   "cell_type": "code",
   "execution_count": 235,
   "id": "approved-acting",
   "metadata": {},
   "outputs": [
    {
     "name": "stdout",
     "output_type": "stream",
     "text": [
      "0.01736319698984945\n"
     ]
    },
    {
     "data": {
      "text/plain": [
       "0.6179118724922263"
      ]
     },
     "execution_count": 235,
     "metadata": {},
     "output_type": "execute_result"
    }
   ],
   "source": [
    "print(qwerty.score(Xval, Yval))\n",
    "valS.append(qwerty.score(Xval, Yval))\n",
    "TrS.append(qwerty.score(Xtr, Ytr))\n",
    "qwerty.score(Xtr, Ytr)"
   ]
  },
  {
   "cell_type": "code",
   "execution_count": 227,
   "id": "detailed-skiing",
   "metadata": {},
   "outputs": [
    {
     "data": {
      "text/html": [
       "<div>\n",
       "<style scoped>\n",
       "    .dataframe tbody tr th:only-of-type {\n",
       "        vertical-align: middle;\n",
       "    }\n",
       "\n",
       "    .dataframe tbody tr th {\n",
       "        vertical-align: top;\n",
       "    }\n",
       "\n",
       "    .dataframe thead th {\n",
       "        text-align: right;\n",
       "    }\n",
       "</style>\n",
       "<table border=\"1\" class=\"dataframe\">\n",
       "  <thead>\n",
       "    <tr style=\"text-align: right;\">\n",
       "      <th></th>\n",
       "      <th>0</th>\n",
       "      <th>1</th>\n",
       "      <th>2</th>\n",
       "      <th>3</th>\n",
       "      <th>4</th>\n",
       "      <th>5</th>\n",
       "    </tr>\n",
       "  </thead>\n",
       "  <tbody>\n",
       "    <tr>\n",
       "      <th>0</th>\n",
       "      <td>-0.139277</td>\n",
       "      <td>0.616509</td>\n",
       "      <td>45</td>\n",
       "      <td>55</td>\n",
       "      <td>25</td>\n",
       "      <td>15</td>\n",
       "    </tr>\n",
       "    <tr>\n",
       "      <th>1</th>\n",
       "      <td>-0.139273</td>\n",
       "      <td>0.617591</td>\n",
       "      <td>45</td>\n",
       "      <td>55</td>\n",
       "      <td>25</td>\n",
       "      <td>15</td>\n",
       "    </tr>\n",
       "  </tbody>\n",
       "</table>\n",
       "</div>"
      ],
      "text/plain": [
       "          0         1   2   3   4   5\n",
       "0 -0.139277  0.616509  45  55  25  15\n",
       "1 -0.139273  0.617591  45  55  25  15"
      ]
     },
     "execution_count": 227,
     "metadata": {},
     "output_type": "execute_result"
    }
   ],
   "source": [
    "pd.DataFrame(list(zip(valS,TrS,n_e,m_d,m_s,m_l)))"
   ]
  },
  {
   "cell_type": "code",
   "execution_count": 128,
   "id": "representative-particle",
   "metadata": {},
   "outputs": [],
   "source": [
    "predicted = clf.predict(Xtr)\n",
    "# predicted = clf.predict(Xval)\n",
    "MSE_Score.append(mean_squared_error(Ytr, predicted))\n",
    "R2_Score.append(r2_score(Ytr, predicted))\n",
    "MAE_Score.append(mean_absolute_error(Ytr, predicted))\n",
    "RMSE_Score.append(np.sqrt(mean_squared_error(Ytr, predicted)))\n",
    "A=((abs((pd.Series(np.around(predicted)).astype(int)-Ytr.reset_index(drop=True))))<4).value_counts().to_frame().T\n",
    "for i in A.columns:\n",
    "    if i==True:\n",
    "        isTrue.append(int(A[i]))\n",
    "    else:\n",
    "        isFalse.append(int(A[i]))"
   ]
  },
  {
   "cell_type": "code",
   "execution_count": 119,
   "id": "smaller-quilt",
   "metadata": {},
   "outputs": [],
   "source": [
    "predicted1 = clf.predict(Xtr)\n",
    "predicted = clf.predict(Xval)\n",
    "MSE_Score.append(mean_squared_error(Yval, predicted))\n",
    "R2_Score.append(r2_score(Yval, predicted))\n",
    "MAE_Score.append(mean_absolute_error(Yval, predicted))\n",
    "RMSE_Score.append(np.sqrt(mean_squared_error(Yval, predicted)))\n",
    "A=((abs((pd.Series(np.around(predicted)).astype(int)-Yval.reset_index(drop=True))))<4).value_counts().to_frame().T\n",
    "for i in A.columns:\n",
    "    if i==True:\n",
    "        isTrue.append(int(A[i]))\n",
    "    else:\n",
    "        isFalse.append(int(A[i]))"
   ]
  },
  {
   "cell_type": "code",
   "execution_count": 129,
   "id": "suited-bathroom",
   "metadata": {},
   "outputs": [],
   "source": [
    "# Just Combining the Lists into a DataFrame for a Better Visualisation\n",
    "Comparison = pd.DataFrame(list(zip(MSE_Score,RMSE_Score, R2_Score,MAE_Score,isTrue,isFalse,AllFeatures)), columns = ['MSE_Score','RMSE_Score', 'R2_Score','MAE_Score','isTrue','isFalse','Allfeatures'])"
   ]
  },
  {
   "cell_type": "code",
   "execution_count": 130,
   "id": "third-aviation",
   "metadata": {},
   "outputs": [
    {
     "data": {
      "text/html": [
       "<div>\n",
       "<style scoped>\n",
       "    .dataframe tbody tr th:only-of-type {\n",
       "        vertical-align: middle;\n",
       "    }\n",
       "\n",
       "    .dataframe tbody tr th {\n",
       "        vertical-align: top;\n",
       "    }\n",
       "\n",
       "    .dataframe thead th {\n",
       "        text-align: right;\n",
       "    }\n",
       "</style>\n",
       "<table border=\"1\" class=\"dataframe\">\n",
       "  <thead>\n",
       "    <tr style=\"text-align: right;\">\n",
       "      <th></th>\n",
       "      <th>MSE_Score</th>\n",
       "      <th>RMSE_Score</th>\n",
       "      <th>R2_Score</th>\n",
       "      <th>MAE_Score</th>\n",
       "      <th>isTrue</th>\n",
       "      <th>isFalse</th>\n",
       "    </tr>\n",
       "  </thead>\n",
       "  <tbody>\n",
       "    <tr>\n",
       "      <th>0</th>\n",
       "      <td>32.477586</td>\n",
       "      <td>7.544121</td>\n",
       "      <td>0.349877</td>\n",
       "      <td>3.597053</td>\n",
       "      <td>5103</td>\n",
       "      <td>1770</td>\n",
       "    </tr>\n",
       "    <tr>\n",
       "      <th>1</th>\n",
       "      <td>56.913762</td>\n",
       "      <td>7.544121</td>\n",
       "      <td>-0.139277</td>\n",
       "      <td>3.597053</td>\n",
       "      <td>5103</td>\n",
       "      <td>1770</td>\n",
       "    </tr>\n",
       "    <tr>\n",
       "      <th>2</th>\n",
       "      <td>56.913762</td>\n",
       "      <td>7.011963</td>\n",
       "      <td>-0.139277</td>\n",
       "      <td>2.502903</td>\n",
       "      <td>26919</td>\n",
       "      <td>5154</td>\n",
       "    </tr>\n",
       "  </tbody>\n",
       "</table>\n",
       "</div>"
      ],
      "text/plain": [
       "   MSE_Score  RMSE_Score  R2_Score  MAE_Score  isTrue  isFalse\n",
       "0  32.477586    7.544121  0.349877   3.597053    5103     1770\n",
       "1  56.913762    7.544121 -0.139277   3.597053    5103     1770\n",
       "2  56.913762    7.011963 -0.139277   2.502903   26919     5154"
      ]
     },
     "execution_count": 130,
     "metadata": {},
     "output_type": "execute_result"
    }
   ],
   "source": [
    "# Score Card\n",
    "Comparison[['MSE_Score','RMSE_Score', 'R2_Score','MAE_Score','isTrue','isFalse']]"
   ]
  },
  {
   "cell_type": "code",
   "execution_count": null,
   "id": "renewable-torture",
   "metadata": {},
   "outputs": [],
   "source": [
    "len(AllFeatures)"
   ]
  },
  {
   "cell_type": "code",
   "execution_count": 122,
   "id": "massive-liechtenstein",
   "metadata": {},
   "outputs": [],
   "source": [
    "q=x_test.copy()"
   ]
  },
  {
   "cell_type": "code",
   "execution_count": 131,
   "id": "detected-douglas",
   "metadata": {},
   "outputs": [
    {
     "data": {
      "text/html": [
       "<div>\n",
       "<style scoped>\n",
       "    .dataframe tbody tr th:only-of-type {\n",
       "        vertical-align: middle;\n",
       "    }\n",
       "\n",
       "    .dataframe tbody tr th {\n",
       "        vertical-align: top;\n",
       "    }\n",
       "\n",
       "    .dataframe thead th {\n",
       "        text-align: right;\n",
       "    }\n",
       "</style>\n",
       "<table border=\"1\" class=\"dataframe\">\n",
       "  <thead>\n",
       "    <tr style=\"text-align: right;\">\n",
       "      <th></th>\n",
       "      <th>business_code</th>\n",
       "      <th>cust_number</th>\n",
       "      <th>name_customer</th>\n",
       "      <th>buisness_year</th>\n",
       "      <th>doc_id</th>\n",
       "      <th>posting_date</th>\n",
       "      <th>document_create_date</th>\n",
       "      <th>due_in_date</th>\n",
       "      <th>document type</th>\n",
       "      <th>posting_id</th>\n",
       "      <th>total_open_amount</th>\n",
       "      <th>baseline_create_date</th>\n",
       "      <th>cust_payment_terms</th>\n",
       "      <th>invoice_id</th>\n",
       "      <th>due_duration</th>\n",
       "      <th>conv_amt</th>\n",
       "    </tr>\n",
       "  </thead>\n",
       "  <tbody>\n",
       "    <tr>\n",
       "      <th>39061</th>\n",
       "      <td>U001</td>\n",
       "      <td>0200772670</td>\n",
       "      <td>ASSOCIAT llc</td>\n",
       "      <td>2019</td>\n",
       "      <td>1.930252e+09</td>\n",
       "      <td>2019-12-09</td>\n",
       "      <td>2019-12-09</td>\n",
       "      <td>2019-12-24</td>\n",
       "      <td>RV</td>\n",
       "      <td>1.0</td>\n",
       "      <td>13617.04</td>\n",
       "      <td>2019-12-09</td>\n",
       "      <td>NAU5</td>\n",
       "      <td>1.930252e+09</td>\n",
       "      <td>2</td>\n",
       "      <td>13617.0400</td>\n",
       "    </tr>\n",
       "    <tr>\n",
       "      <th>39062</th>\n",
       "      <td>U001</td>\n",
       "      <td>0200712187</td>\n",
       "      <td>SPAR trust</td>\n",
       "      <td>2019</td>\n",
       "      <td>1.930254e+09</td>\n",
       "      <td>2019-12-09</td>\n",
       "      <td>2019-12-09</td>\n",
       "      <td>2019-12-24</td>\n",
       "      <td>RV</td>\n",
       "      <td>1.0</td>\n",
       "      <td>137722.95</td>\n",
       "      <td>2019-12-09</td>\n",
       "      <td>NAA8</td>\n",
       "      <td>1.930254e+09</td>\n",
       "      <td>-1</td>\n",
       "      <td>137722.9500</td>\n",
       "    </tr>\n",
       "    <tr>\n",
       "      <th>39063</th>\n",
       "      <td>U001</td>\n",
       "      <td>0100031704</td>\n",
       "      <td>DELHAIZE foundation</td>\n",
       "      <td>2019</td>\n",
       "      <td>1.930230e+09</td>\n",
       "      <td>2019-12-09</td>\n",
       "      <td>2019-12-09</td>\n",
       "      <td>2019-12-24</td>\n",
       "      <td>RV</td>\n",
       "      <td>1.0</td>\n",
       "      <td>44164.82</td>\n",
       "      <td>2019-12-09</td>\n",
       "      <td>NAA8</td>\n",
       "      <td>1.930230e+09</td>\n",
       "      <td>3</td>\n",
       "      <td>44164.8200</td>\n",
       "    </tr>\n",
       "    <tr>\n",
       "      <th>39064</th>\n",
       "      <td>U001</td>\n",
       "      <td>0200769623</td>\n",
       "      <td>WAL-MAR llc</td>\n",
       "      <td>2019</td>\n",
       "      <td>1.930257e+09</td>\n",
       "      <td>2019-12-09</td>\n",
       "      <td>2019-12-09</td>\n",
       "      <td>2019-12-24</td>\n",
       "      <td>RV</td>\n",
       "      <td>1.0</td>\n",
       "      <td>2237.43</td>\n",
       "      <td>2019-12-09</td>\n",
       "      <td>NAH4</td>\n",
       "      <td>1.930257e+09</td>\n",
       "      <td>-4</td>\n",
       "      <td>2237.4300</td>\n",
       "    </tr>\n",
       "    <tr>\n",
       "      <th>39065</th>\n",
       "      <td>U001</td>\n",
       "      <td>0200762301</td>\n",
       "      <td>C&amp;S WH in</td>\n",
       "      <td>2019</td>\n",
       "      <td>1.930249e+09</td>\n",
       "      <td>2019-12-09</td>\n",
       "      <td>2019-12-09</td>\n",
       "      <td>2019-12-24</td>\n",
       "      <td>RV</td>\n",
       "      <td>1.0</td>\n",
       "      <td>26435.11</td>\n",
       "      <td>2019-12-09</td>\n",
       "      <td>NAC6</td>\n",
       "      <td>1.930249e+09</td>\n",
       "      <td>0</td>\n",
       "      <td>26435.1100</td>\n",
       "    </tr>\n",
       "    <tr>\n",
       "      <th>...</th>\n",
       "      <td>...</td>\n",
       "      <td>...</td>\n",
       "      <td>...</td>\n",
       "      <td>...</td>\n",
       "      <td>...</td>\n",
       "      <td>...</td>\n",
       "      <td>...</td>\n",
       "      <td>...</td>\n",
       "      <td>...</td>\n",
       "      <td>...</td>\n",
       "      <td>...</td>\n",
       "      <td>...</td>\n",
       "      <td>...</td>\n",
       "      <td>...</td>\n",
       "      <td>...</td>\n",
       "      <td>...</td>\n",
       "    </tr>\n",
       "    <tr>\n",
       "      <th>45952</th>\n",
       "      <td>CA02</td>\n",
       "      <td>0140106408</td>\n",
       "      <td>WAL-M co</td>\n",
       "      <td>2020</td>\n",
       "      <td>2.960617e+09</td>\n",
       "      <td>2020-02-26</td>\n",
       "      <td>2020-02-26</td>\n",
       "      <td>2020-03-08</td>\n",
       "      <td>RV</td>\n",
       "      <td>1.0</td>\n",
       "      <td>44479.13</td>\n",
       "      <td>2020-02-27</td>\n",
       "      <td>CA10</td>\n",
       "      <td>2.960617e+09</td>\n",
       "      <td>5</td>\n",
       "      <td>34693.7214</td>\n",
       "    </tr>\n",
       "    <tr>\n",
       "      <th>45953</th>\n",
       "      <td>U001</td>\n",
       "      <td>0200865666</td>\n",
       "      <td>RESTAU llc</td>\n",
       "      <td>2020</td>\n",
       "      <td>1.930577e+09</td>\n",
       "      <td>2020-02-26</td>\n",
       "      <td>2020-02-26</td>\n",
       "      <td>2020-03-12</td>\n",
       "      <td>RV</td>\n",
       "      <td>1.0</td>\n",
       "      <td>4304.37</td>\n",
       "      <td>2020-02-26</td>\n",
       "      <td>NAA8</td>\n",
       "      <td>1.930577e+09</td>\n",
       "      <td>0</td>\n",
       "      <td>4304.3700</td>\n",
       "    </tr>\n",
       "    <tr>\n",
       "      <th>45954</th>\n",
       "      <td>U001</td>\n",
       "      <td>0200326954</td>\n",
       "      <td>NEWE in</td>\n",
       "      <td>2020</td>\n",
       "      <td>1.930574e+09</td>\n",
       "      <td>2020-02-26</td>\n",
       "      <td>2020-02-26</td>\n",
       "      <td>2020-03-04</td>\n",
       "      <td>RV</td>\n",
       "      <td>1.0</td>\n",
       "      <td>73652.23</td>\n",
       "      <td>2020-02-26</td>\n",
       "      <td>NAD8</td>\n",
       "      <td>1.930574e+09</td>\n",
       "      <td>2</td>\n",
       "      <td>73652.2300</td>\n",
       "    </tr>\n",
       "    <tr>\n",
       "      <th>45955</th>\n",
       "      <td>U001</td>\n",
       "      <td>0200772595</td>\n",
       "      <td>SAFEW</td>\n",
       "      <td>2020</td>\n",
       "      <td>1.930574e+09</td>\n",
       "      <td>2020-02-26</td>\n",
       "      <td>2020-02-26</td>\n",
       "      <td>2020-03-12</td>\n",
       "      <td>RV</td>\n",
       "      <td>1.0</td>\n",
       "      <td>50210.26</td>\n",
       "      <td>2020-02-26</td>\n",
       "      <td>NAA8</td>\n",
       "      <td>1.930574e+09</td>\n",
       "      <td>0</td>\n",
       "      <td>50210.2600</td>\n",
       "    </tr>\n",
       "    <tr>\n",
       "      <th>45956</th>\n",
       "      <td>CA02</td>\n",
       "      <td>0140105686</td>\n",
       "      <td>SYSC llc</td>\n",
       "      <td>2020</td>\n",
       "      <td>2.960616e+09</td>\n",
       "      <td>2020-02-26</td>\n",
       "      <td>2020-02-26</td>\n",
       "      <td>2020-03-15</td>\n",
       "      <td>RV</td>\n",
       "      <td>1.0</td>\n",
       "      <td>3336.00</td>\n",
       "      <td>2020-03-05</td>\n",
       "      <td>CA10</td>\n",
       "      <td>2.960616e+09</td>\n",
       "      <td>4</td>\n",
       "      <td>2602.0800</td>\n",
       "    </tr>\n",
       "  </tbody>\n",
       "</table>\n",
       "<p>6873 rows × 16 columns</p>\n",
       "</div>"
      ],
      "text/plain": [
       "      business_code cust_number        name_customer  buisness_year  \\\n",
       "39061          U001  0200772670         ASSOCIAT llc           2019   \n",
       "39062          U001  0200712187           SPAR trust           2019   \n",
       "39063          U001  0100031704  DELHAIZE foundation           2019   \n",
       "39064          U001  0200769623          WAL-MAR llc           2019   \n",
       "39065          U001  0200762301            C&S WH in           2019   \n",
       "...             ...         ...                  ...            ...   \n",
       "45952          CA02  0140106408             WAL-M co           2020   \n",
       "45953          U001  0200865666           RESTAU llc           2020   \n",
       "45954          U001  0200326954              NEWE in           2020   \n",
       "45955          U001  0200772595               SAFEW            2020   \n",
       "45956          CA02  0140105686             SYSC llc           2020   \n",
       "\n",
       "             doc_id posting_date document_create_date due_in_date  \\\n",
       "39061  1.930252e+09   2019-12-09           2019-12-09  2019-12-24   \n",
       "39062  1.930254e+09   2019-12-09           2019-12-09  2019-12-24   \n",
       "39063  1.930230e+09   2019-12-09           2019-12-09  2019-12-24   \n",
       "39064  1.930257e+09   2019-12-09           2019-12-09  2019-12-24   \n",
       "39065  1.930249e+09   2019-12-09           2019-12-09  2019-12-24   \n",
       "...             ...          ...                  ...         ...   \n",
       "45952  2.960617e+09   2020-02-26           2020-02-26  2020-03-08   \n",
       "45953  1.930577e+09   2020-02-26           2020-02-26  2020-03-12   \n",
       "45954  1.930574e+09   2020-02-26           2020-02-26  2020-03-04   \n",
       "45955  1.930574e+09   2020-02-26           2020-02-26  2020-03-12   \n",
       "45956  2.960616e+09   2020-02-26           2020-02-26  2020-03-15   \n",
       "\n",
       "      document type  posting_id  total_open_amount baseline_create_date  \\\n",
       "39061            RV         1.0           13617.04           2019-12-09   \n",
       "39062            RV         1.0          137722.95           2019-12-09   \n",
       "39063            RV         1.0           44164.82           2019-12-09   \n",
       "39064            RV         1.0            2237.43           2019-12-09   \n",
       "39065            RV         1.0           26435.11           2019-12-09   \n",
       "...             ...         ...                ...                  ...   \n",
       "45952            RV         1.0           44479.13           2020-02-27   \n",
       "45953            RV         1.0            4304.37           2020-02-26   \n",
       "45954            RV         1.0           73652.23           2020-02-26   \n",
       "45955            RV         1.0           50210.26           2020-02-26   \n",
       "45956            RV         1.0            3336.00           2020-03-05   \n",
       "\n",
       "      cust_payment_terms    invoice_id  due_duration     conv_amt  \n",
       "39061               NAU5  1.930252e+09             2   13617.0400  \n",
       "39062               NAA8  1.930254e+09            -1  137722.9500  \n",
       "39063               NAA8  1.930230e+09             3   44164.8200  \n",
       "39064               NAH4  1.930257e+09            -4    2237.4300  \n",
       "39065               NAC6  1.930249e+09             0   26435.1100  \n",
       "...                  ...           ...           ...          ...  \n",
       "45952               CA10  2.960617e+09             5   34693.7214  \n",
       "45953               NAA8  1.930577e+09             0    4304.3700  \n",
       "45954               NAD8  1.930574e+09             2   73652.2300  \n",
       "45955               NAA8  1.930574e+09             0   50210.2600  \n",
       "45956               CA10  2.960616e+09             4    2602.0800  \n",
       "\n",
       "[6873 rows x 16 columns]"
      ]
     },
     "execution_count": 131,
     "metadata": {},
     "output_type": "execute_result"
    }
   ],
   "source": [
    "x_test"
   ]
  },
  {
   "cell_type": "code",
   "execution_count": 123,
   "id": "banner-radical",
   "metadata": {},
   "outputs": [
    {
     "data": {
      "text/plain": [
       "41"
      ]
     },
     "execution_count": 123,
     "metadata": {},
     "output_type": "execute_result"
    }
   ],
   "source": [
    "df=q\n",
    "df['cust_delay_mean']=df['cust_number'].map(mapper1)\n",
    "df['cust_name_delay_mean']=df['name_customer'].map(mapper2)\n",
    "df['payment_time']=(df['due_in_date']-df['document_create_date']).dt.days\n",
    "encoding(df)\n",
    "dates_feature(df)\n",
    "df['document_create_is_working']=np.where(df.document_create_date_dayofweek.isin([5,6]),0,1)\n",
    "df['due_in_is_working']=np.where(df.due_in_date_dayofweek.isin([5,6]),0,1)\n",
    "df=df.drop(drop,axis=1)\n",
    "df.columns.value_counts().sum()"
   ]
  },
  {
   "cell_type": "code",
   "execution_count": 124,
   "id": "miniature-nursing",
   "metadata": {},
   "outputs": [],
   "source": [
    "for i in df.columns:\n",
    "    if df[i].isna().any():\n",
    "        df[i].fillna(int(modes[i]),inplace=True)\n",
    "\n",
    "for i in df.columns:\n",
    "    if df[i].isna().any():\n",
    "        print(i)"
   ]
  },
  {
   "cell_type": "code",
   "execution_count": 125,
   "id": "acquired-transportation",
   "metadata": {},
   "outputs": [],
   "source": [
    "Xte=df.copy()\n",
    "Xte=Xte[feature].copy()"
   ]
  },
  {
   "cell_type": "code",
   "execution_count": 126,
   "id": "wanted-subdivision",
   "metadata": {},
   "outputs": [
    {
     "name": "stdout",
     "output_type": "stream",
     "text": [
      "1666.2505080599715\n",
      "-32.354337212909776\n",
      "31.824541194712413\n",
      "40.81973184698757\n",
      "5769\n",
      "1104\n"
     ]
    }
   ],
   "source": [
    "predicted1 = clf.predict(Xtr)\n",
    "predicted = clf.predict(Xte)\n",
    "print(mean_squared_error(Yval, predicted))\n",
    "print(r2_score(Yval, predicted))\n",
    "print(mean_absolute_error(Yval, predicted))\n",
    "print(np.sqrt(mean_squared_error(Yval, predicted)))\n",
    "A=((abs((pd.Series(np.around(predicted)).astype(int)-Yval.reset_index(drop=True))))<4).value_counts().to_frame().T\n",
    "for i in A.columns:\n",
    "    if i==True:\n",
    "        print(int(A[i]))\n",
    "    else:\n",
    "        print(int(A[i]))"
   ]
  },
  {
   "cell_type": "code",
   "execution_count": 127,
   "id": "chronic-poultry",
   "metadata": {},
   "outputs": [
    {
     "data": {
      "text/html": [
       "<div>\n",
       "<style scoped>\n",
       "    .dataframe tbody tr th:only-of-type {\n",
       "        vertical-align: middle;\n",
       "    }\n",
       "\n",
       "    .dataframe tbody tr th {\n",
       "        vertical-align: top;\n",
       "    }\n",
       "\n",
       "    .dataframe thead th {\n",
       "        text-align: right;\n",
       "    }\n",
       "</style>\n",
       "<table border=\"1\" class=\"dataframe\">\n",
       "  <thead>\n",
       "    <tr style=\"text-align: right;\">\n",
       "      <th></th>\n",
       "      <th>MSE_Score</th>\n",
       "      <th>RMSE_Score</th>\n",
       "      <th>R2_Score</th>\n",
       "      <th>MAE_Score</th>\n",
       "      <th>isTrue</th>\n",
       "      <th>isFalse</th>\n",
       "    </tr>\n",
       "  </thead>\n",
       "  <tbody>\n",
       "    <tr>\n",
       "      <th>0</th>\n",
       "      <td>32.477586</td>\n",
       "      <td>7.544121</td>\n",
       "      <td>0.349877</td>\n",
       "      <td>3.597053</td>\n",
       "      <td>5103</td>\n",
       "      <td>1770</td>\n",
       "    </tr>\n",
       "    <tr>\n",
       "      <th>1</th>\n",
       "      <td>56.913762</td>\n",
       "      <td>7.544121</td>\n",
       "      <td>-0.139277</td>\n",
       "      <td>3.597053</td>\n",
       "      <td>5103</td>\n",
       "      <td>1770</td>\n",
       "    </tr>\n",
       "  </tbody>\n",
       "</table>\n",
       "</div>"
      ],
      "text/plain": [
       "   MSE_Score  RMSE_Score  R2_Score  MAE_Score  isTrue  isFalse\n",
       "0  32.477586    7.544121  0.349877   3.597053    5103     1770\n",
       "1  56.913762    7.544121 -0.139277   3.597053    5103     1770"
      ]
     },
     "execution_count": 127,
     "metadata": {},
     "output_type": "execute_result"
    }
   ],
   "source": [
    "# Just Combining the Lists into a DataFrame for a Better Visualisation\n",
    "Comp = pd.DataFrame(list(zip(MSE_Score,RMSE_Score, R2_Score,MAE_Score,isTrue,isFalse,AllFeatures)), columns = ['MSE_Score','RMSE_Score', 'R2_Score','MAE_Score','isTrue','isFalse','Allfeatures'])\n",
    "# Score Card\n",
    "Comp[['MSE_Score','RMSE_Score', 'R2_Score','MAE_Score','isTrue','isFalse']]"
   ]
  },
  {
   "cell_type": "code",
   "execution_count": null,
   "id": "integral-homework",
   "metadata": {},
   "outputs": [],
   "source": [
    "len(AllFeatures)"
   ]
  },
  {
   "cell_type": "code",
   "execution_count": null,
   "id": "broad-wrapping",
   "metadata": {},
   "outputs": [],
   "source": []
  }
 ],
 "metadata": {
  "kernelspec": {
   "display_name": "Python 3",
   "language": "python",
   "name": "python3"
  },
  "language_info": {
   "codemirror_mode": {
    "name": "ipython",
    "version": 3
   },
   "file_extension": ".py",
   "mimetype": "text/x-python",
   "name": "python",
   "nbconvert_exporter": "python",
   "pygments_lexer": "ipython3",
   "version": "3.8.5"
  }
 },
 "nbformat": 4,
 "nbformat_minor": 5
}
